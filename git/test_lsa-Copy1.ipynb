{
 "cells": [
  {
   "cell_type": "code",
   "execution_count": 2,
   "metadata": {},
   "outputs": [
    {
     "name": "stdout",
     "output_type": "stream",
     "text": [
      "New York Times\n",
      "Breitbart\n",
      "CNN\n",
      "Business Insider\n",
      "Atlantic\n",
      "Fox News\n",
      "Talking Points Memo\n",
      "Buzzfeed News\n",
      "National Review\n",
      "New York Post\n",
      "Guardian\n",
      "NPR\n",
      "Reuters\n",
      "Vox\n",
      "Washington Post\n",
      "New York Times\n"
     ]
    }
   ],
   "source": [
    "#!/usr/bin/env python3\n",
    "# -*- coding: utf-8 -*-\n",
    "\"\"\"\n",
    "Created on Tue Nov  5 09:59:34 2019\n",
    "\n",
    "@author: nathanblock\n",
    "\"\"\"\n",
    "\n",
    "\n",
    "\n",
    "import numpy as np\n",
    "import csv\n",
    "import string\n",
    "import sys\n",
    "import re\n",
    "import spacy\n",
    "\n",
    "csv.field_size_limit(sys.maxsize)\n",
    "\n",
    "\n",
    "\n",
    "#from string import maketrans\n",
    "\n",
    "articles = []\n",
    "\n",
    "sources = {\"New York Times\", \"Breitbart\", \"CNN\", \"Business Insider\", \"The Atlantic\", \"Fox News\", \"Talking Points Memo\", \"Buzzfeed News\", \"National Review\", \"New York Post\", \"The Guardian\", \"NPR\", \"Reuters\", \"Vox\",\"The Washington Post\"}\n",
    "\n",
    "\n",
    "with open('all-the-news/articles1.csv', newline='') as csvfile:\n",
    "   reader = csv.reader(csvfile, delimiter=',', quotechar='\"')\n",
    "   categories = csvfile.readline()   # skip the first line\n",
    "   for i, line in enumerate(reader):\n",
    "       articles.append(line)\n",
    "       \n",
    "with open('all-the-news/articles2.csv', newline='') as csvfile:\n",
    "    reader = csv.reader(csvfile, delimiter=',', quotechar='\"')\n",
    "    categories = csvfile.readline()   # skip the first line\n",
    "    for i, line in enumerate(reader):\n",
    "        articles.append(line)\n",
    "\n",
    "with open('all-the-news/articles3.csv', newline='') as csvfile:\n",
    "    reader = csv.reader(csvfile, delimiter=',', quotechar='\"')\n",
    "    categories = csvfile.readline()   # skip the first line\n",
    "    for i, line in enumerate(reader):\n",
    "        articles.append(line)\n",
    "\n",
    "\n",
    "for i, article in enumerate(articles):\n",
    "    if not article[9]:\n",
    "        articles.remove(article)\n",
    "    \n",
    "    \n",
    "shortened_articles = articles[0:260]\n",
    "print(articles[0][3])\n",
    "for i, article in enumerate(articles):\n",
    "    if(i == len(articles) - 2):\n",
    "        break\n",
    "    if(articles[i][3] != articles[i+1][3]):\n",
    "        shortened_articles.extend(articles[i+1:i+261])\n",
    "        print(articles[i + 1][3])\n",
    "\n",
    "\n",
    "nlp = spacy.load('en', disable=['parser', 'ner'])\n",
    "\n",
    "\n",
    "\n",
    "\n",
    "# put all the words in the article together bc they get split by commas in the csvread\n",
    "for i, shortened_article in enumerate(shortened_articles):\n",
    "    #Lemmatization\n",
    "    doc = nlp(shortened_article[9])\n",
    "    shortened_article[9] = \" \".join([token.lemma_ for token in doc])\n",
    "    shortened_article[9] = shortened_article[9].replace('-PRON- ', '')\n",
    "    #article[9] += article[9+j]\n",
    "    #remove all punctuation from the articles\n",
    "    shortened_article[9] = re.sub(r'[^a-zA-Z]', \" \", shortened_article[9].lower())\n",
    "        #print(shortened_article[9])\n",
    "    shortened_articles[i] = shortened_article[0:10]\n",
    "\n",
    "\n",
    "\n",
    "PGoutput = shortened_articles[0:10]\n",
    "TRoutput = shortened_articles[10:210]\n",
    "TEoutput = shortened_articles[210:260]\n",
    "print(shortened_articles[1][3])\n",
    "#gather playground data\n",
    "for i in range(1,15):\n",
    "    index = i * 260\n",
    "    PGoutput.extend(shortened_articles[index:index+10])\n",
    "    TRoutput.extend(shortened_articles[index+10:index+210])\n",
    "    TEoutput.extend(shortened_articles[index+210:index+260])\n",
    "    #print(shortened_articles[i+1][3])\n",
    "\n",
    "\n",
    "with open('playground_dataset.csv', 'w', newline='') as csvfile:\n",
    "    outwriter = csv.writer(csvfile, delimiter=',', quoting=csv.QUOTE_MINIMAL)\n",
    "    for i in PGoutput:\n",
    "        outwriter.writerow(i)\n",
    "    \n",
    "with open('train_dataset.csv', 'w', newline='') as csvfile:\n",
    "    outwriter = csv.writer(csvfile, delimiter=',', quoting=csv.QUOTE_MINIMAL)\n",
    "    for i in TRoutput:\n",
    "        outwriter.writerow(i)\n",
    "        \n",
    "with open('test_dataset.csv', 'w', newline='') as csvfile:\n",
    "    outwriter = csv.writer(csvfile, delimiter=',', quoting=csv.QUOTE_MINIMAL)\n",
    "    for i in TEoutput:\n",
    "        outwriter.writerow(i)\n",
    "        \n",
    "        \n",
    "#glove vector code\n",
    "file1 = open(\"vectors.txt\",\"r\")\n",
    "Dict = {} \n",
    "for line in file1:\n",
    "    line = line.split()\n",
    "    Dict[line[0]] = np.array((line[1:])).astype(float)\n",
    "file1.close()"
   ]
  },
  {
   "cell_type": "code",
   "execution_count": 3,
   "metadata": {},
   "outputs": [
    {
     "name": "stdout",
     "output_type": "stream",
     "text": [
      "Republicans, Facing Pressure, Delay Hearings for 4 Trump Cabinet Nominees - The New York Times\n",
      "3000\n"
     ]
    }
   ],
   "source": [
    "# read in train and test csv's as pandas.DataFrame's\n",
    "# pre-process the article titles in the same way as the article text\n",
    "\n",
    "import pandas as pd\n",
    "\n",
    "data_train = pd.read_csv('train_dataset.csv', sep=',', header=None).drop(labels=0, axis='columns')\n",
    "#data_train.head(3)\n",
    "data_train.columns = ['id', 'title', 'publication', 'author', 'date', 'year', 'month', 'url', 'content']\n",
    "#data_train.head(3)\n",
    "\n",
    "data_test = pd.read_csv('test_dataset.csv', sep=',', header=None).drop(labels=0, axis='columns')\n",
    "data_test.columns = ['id', 'title', 'publication', 'author', 'date', 'year', 'month', 'url', 'content']\n",
    "#data_test.head(3)\n",
    "\n",
    "print(data_test['title'][0])\n",
    "print(len(data_train))\n",
    "\n",
    "# same pre-processing for title as article in case it is included in TF-IDF/LSA\n",
    "for i in range(len(data_train)):\n",
    "    #Lemmatization\n",
    "    doc = nlp(data_train.loc[i, 'title'])\n",
    "    new_title = \" \".join([token.lemma_ for token in doc])\n",
    "    new_title = new_title.replace('-PRON- ', '')\n",
    "    new_title = re.sub(r'[^a-zA-Z]', \" \", new_title.lower())\n",
    "    data_train.loc[i, 'title'] = new_title\n",
    "for i in range(len(data_test)):\n",
    "    #Lemmatization\n",
    "    doc = nlp(data_test.loc[i, 'title'])\n",
    "    new_title = \" \".join([token.lemma_ for token in doc])\n",
    "    new_title = new_title.replace('-PRON- ', '')\n",
    "    new_title = re.sub(r'[^a-zA-Z]', \" \", new_title.lower())\n",
    "    data_test.loc[i, 'title'] = new_title"
   ]
  },
  {
   "cell_type": "code",
   "execution_count": 4,
   "metadata": {},
   "outputs": [],
   "source": [
    "# get just the relevant data for our problem: title, content, publication\n",
    "content_data_train = data_train[['title', 'content', 'publication']]\n",
    "content_data_test = data_test[['title', 'content', 'publication']]\n",
    "content_title_data_train = pd.DataFrame(columns=['content', 'publication'])\n",
    "content_title_data_test = pd.DataFrame(columns=['content', 'publication'])\n",
    "\n",
    "# merge content and title into one document\n",
    "for i in range(len(content_data_train)):\n",
    "    content_title_data_train.loc[i, 'publication'] = content_data_train.loc[i, 'publication']\n",
    "    # article titles often have '- Publication' at the end of the title - remove this bc too big a hint\n",
    "    # (slightly stupid right now because it leaves the 'the' in 'the new york times')\n",
    "    corrected_title = re.sub((content_data_train.loc[i, 'publication']).lower(), '', content_data_train.loc[i, 'title'])\n",
    "    content_title_data_train.loc[i, 'content'] = corrected_title + ' ' + content_data_train.loc[i, 'content']\n",
    "for i in range(len(content_data_test)):\n",
    "    content_title_data_test.loc[i, 'publication'] = content_data_test.loc[i, 'publication']\n",
    "    # article titles often have '- Publication' at the end of the title - remove this bc too big a hint\n",
    "    corrected_title = re.sub((content_data_test.loc[i, 'publication']).lower(), '', content_data_test.loc[i, 'title'])\n",
    "    content_title_data_test.loc[i, 'content'] = corrected_title + ' ' + content_data_test.loc[i, 'content']\n",
    "#content_data_train.head()"
   ]
  },
  {
   "cell_type": "code",
   "execution_count": 5,
   "metadata": {},
   "outputs": [],
   "source": [
    "# get train and test sets\n",
    "X_train = {'content' : content_data_train.loc[:, 'content'], 'title' : content_title_data_train.loc[:, 'content']}\n",
    "X_test = {'content' : content_data_test.loc[:, 'content'], 'title' : content_title_data_test.loc[:, 'content']}\n",
    "unique_publications = list(set(content_data_train.loc[:, 'publication']))\n",
    "label_dict = {}\n",
    "for i in range(len(unique_publications)):\n",
    "    label_dict[unique_publications[i]] = i\n",
    "y_train = {'content': [label_dict[pub] for pub in content_data_train.loc[:, 'publication']], 'title': [label_dict[pub] for pub in content_title_data_train.loc[:, 'publication']]}\n",
    "y_test = {'content': [label_dict[pub] for pub in content_data_test.loc[:, 'publication']], 'title': [label_dict[pub] for pub in content_title_data_test.loc[:, 'publication']]}"
   ]
  },
  {
   "cell_type": "code",
   "execution_count": 30,
   "metadata": {},
   "outputs": [
    {
     "name": "stdout",
     "output_type": "stream",
     "text": [
      "n_grams  1  training  content  max_df  0.25  done\n",
      "n_grams  1  training  content  max_df  0.5  done\n",
      "n_grams  1  training  content  max_df  1.0  done\n",
      "n_grams  1  training  title  max_df  0.25  done\n",
      "n_grams  1  training  title  max_df  0.5  done\n",
      "n_grams  1  training  title  max_df  1.0  done\n",
      "n_grams  2  training  content  max_df  0.25  done\n",
      "n_grams  2  training  content  max_df  0.5  done\n",
      "n_grams  2  training  content  max_df  1.0  done\n",
      "n_grams  2  training  title  max_df  0.25  done\n",
      "n_grams  2  training  title  max_df  0.5  done\n",
      "n_grams  2  training  title  max_df  1.0  done\n",
      "n_grams  3  training  content  max_df  0.25  done\n",
      "n_grams  3  training  content  max_df  0.5  done\n",
      "n_grams  3  training  content  max_df  1.0  done\n",
      "n_grams  3  training  title  max_df  0.25  done\n",
      "n_grams  3  training  title  max_df  0.5  done\n",
      "n_grams  3  training  title  max_df  1.0  done\n",
      "n_grams  1  test  content  max_df  0.25  done\n",
      "n_grams  1  test  content  max_df  0.5  done\n",
      "n_grams  1  test  content  max_df  1.0  done\n",
      "n_grams  1  test  title  max_df  0.25  done\n",
      "n_grams  1  test  title  max_df  0.5  done\n",
      "n_grams  1  test  title  max_df  1.0  done\n",
      "n_grams  2  test  content  max_df  0.25  done\n",
      "n_grams  2  test  content  max_df  0.5  done\n",
      "n_grams  2  test  content  max_df  1.0  done\n",
      "n_grams  2  test  title  max_df  0.25  done\n",
      "n_grams  2  test  title  max_df  0.5  done\n",
      "n_grams  2  test  title  max_df  1.0  done\n",
      "n_grams  3  test  content  max_df  0.25  done\n",
      "n_grams  3  test  content  max_df  0.5  done\n",
      "n_grams  3  test  content  max_df  1.0  done\n",
      "n_grams  3  test  title  max_df  0.25  done\n",
      "n_grams  3  test  title  max_df  0.5  done\n",
      "n_grams  3  test  title  max_df  1.0  done\n"
     ]
    }
   ],
   "source": [
    "# get tf-idf vectorizers (we want to tune max_df, so we try values in [0.25, 0.5, 1.])\n",
    "# we also want to tune the largest n-grams considered, so \n",
    "from sklearn.feature_extraction.text import TfidfVectorizer\n",
    "\n",
    "max_dfs = [0.25, 0.5, 1.]\n",
    "max_ngram = [1, 2, 3]\n",
    "\n",
    "vectorizers = {}\n",
    "for max_n in max_ngram:\n",
    "    vectorizers[max_n] = {'content': [], 'title': []}\n",
    "    \n",
    "    for max_df in max_dfs:\n",
    "        vectorizers[max_n]['content'].append(TfidfVectorizer(max_df=max_df, min_df=10, stop_words='english', ngram_range=(1,max_n)))\n",
    "        vectorizers[max_n]['title'].append(TfidfVectorizer(max_df=max_df, min_df=10, stop_words='english', ngram_range=(1,max_n)))\n",
    "#print(len(vectorizers))\n",
    "\n",
    "# get term-document matrices (entries are tf-idf for each word) for train and test set\n",
    "X_train_tfidf = {}\n",
    "for max_n in max_ngram:\n",
    "    X_train_tfidf[max_n] = {}\n",
    "    for k, v in X_train.items():\n",
    "        X_train_tfidf[max_n][k] = []\n",
    "        for i in range(len(max_dfs)):\n",
    "            X_train_tfidf[max_n][k].append(vectorizers[max_n][k][i].fit_transform(X_train[k]))\n",
    "            print('n_grams ', max_n, ' training ', k, ' max_df ', max_dfs[i], ' done')\n",
    "        \n",
    "X_test_tfidf = {}\n",
    "for max_n in max_ngram:\n",
    "    X_test_tfidf[max_n] = {}\n",
    "    for k, v in X_test.items():\n",
    "        X_test_tfidf[max_n][k] = []\n",
    "        for i in range(len(max_dfs)):\n",
    "            X_test_tfidf[max_n][k].append(vectorizers[max_n][k][i].transform(X_test[k]))\n",
    "            print('n_grams ', max_n, ' test ', k, ' max_df ', max_dfs[i], ' done')"
   ]
  },
  {
   "cell_type": "code",
   "execution_count": 31,
   "metadata": {},
   "outputs": [
    {
     "name": "stdout",
     "output_type": "stream",
     "text": [
      "750\n",
      "1.0000000000000002\n"
     ]
    },
    {
     "data": {
      "text/plain": [
       "[Text(0, 0.5, 'nth singular value'),\n",
       " Text(0.5, 0, 'n'),\n",
       " Text(0.5, 1.0, 'singular values of term-document matrix\\ncontent, max_df=0.250000, 1-grams')]"
      ]
     },
     "execution_count": 31,
     "metadata": {},
     "output_type": "execute_result"
    },
    {
     "data": {
      "image/png": "[encoded data removed]",
      "text/plain": [
       "<Figure size 432x288 with 1 Axes>"
      ]
     },
     "metadata": {
      "needs_background": "light"
     },
     "output_type": "display_data"
    }
   ],
   "source": [
    "from sklearn.decomposition import TruncatedSVD\n",
    "import matplotlib\n",
    "import matplotlib.pyplot as plt\n",
    "\n",
    "# 1-grams, content, max_df=0.25\n",
    "# experiment with a good reduced rank to find one that explains most of the variance in the term-document matrices\n",
    "X_train_tfidf[1]['content'][0]\n",
    "print(len(X_test['content']))\n",
    "\n",
    "# plot the singular values (scree plot) to find a knee that suggests underlying low rank structure\n",
    "rank = 2999\n",
    "svd = TruncatedSVD(rank)\n",
    "svd.fit(X_train_tfidf[1]['content'][0])\n",
    "print(svd.explained_variance_ratio_.sum())\n",
    "fig, ax = plt.subplots()\n",
    "ax.plot(svd.singular_values_)\n",
    "ax.set(xlabel='n', ylabel='nth singular value', title = ('singular values of term-document matrix\\ncontent, max_df=%f, %d-grams' % (max_dfs[0], 1)))"
   ]
  },
  {
   "cell_type": "code",
   "execution_count": 32,
   "metadata": {},
   "outputs": [
    {
     "name": "stdout",
     "output_type": "stream",
     "text": [
      "0.7695062260238197\n"
     ]
    }
   ],
   "source": [
    "from sklearn.pipeline import make_pipeline\n",
    "from sklearn.preprocessing import Normalizer\n",
    "\n",
    "rank = 1000\n",
    "svd = TruncatedSVD(rank)\n",
    "svd.fit(X_train_tfidf[1]['content'][0])\n",
    "print(svd.explained_variance_ratio_.sum())\n",
    "\n",
    "# dictionary of TruncatedSVD transforms\n",
    "lsa = {}\n",
    "lsa[1] = {}\n",
    "lsa[1]['content'] = []\n",
    "(lsa[1]['content']).append(make_pipeline(svd, Normalizer(copy=False)))\n",
    "\n",
    "# dictionary of tf-idf training data after TruncatedSVD transform\n",
    "X_train_lsa = {}\n",
    "X_train_lsa[1] = {}\n",
    "X_train_lsa[1]['content'] = []\n",
    "(X_train_lsa[1]['content']).append(lsa[1]['content'][0].fit_transform(X_train_tfidf[1]['content'][0]))\n",
    "\n",
    "# dictionary of tf-idf test data after TruncatedSVD transfrom (transform was learned from training data)\n",
    "X_test_lsa = {}\n",
    "X_test_lsa[1] = {}\n",
    "X_test_lsa[1]['content'] = []\n",
    "(X_test_lsa[1]['content']).append(lsa[1]['content'][0].transform(X_test_tfidf[1]['content'][0]))"
   ]
  },
  {
   "cell_type": "code",
   "execution_count": 33,
   "metadata": {},
   "outputs": [
    {
     "name": "stdout",
     "output_type": "stream",
     "text": [
      "1.0000000000000002\n"
     ]
    },
    {
     "data": {
      "text/plain": [
       "[Text(0, 0.5, 'nth singular value'),\n",
       " Text(0.5, 0, 'n'),\n",
       " Text(0.5, 1.0, 'singular values of term-document matrix\\ncontent, max_df=0.250000, 2-grams')]"
      ]
     },
     "execution_count": 33,
     "metadata": {},
     "output_type": "execute_result"
    },
    {
     "data": {
      "image/png": "[encoded data removed]",
      "text/plain": [
       "<Figure size 432x288 with 1 Axes>"
      ]
     },
     "metadata": {
      "needs_background": "light"
     },
     "output_type": "display_data"
    }
   ],
   "source": [
    "# experiment with a good reduced rank to find one that explains most of the variance in the term-document matrices\n",
    "X_train_tfidf[2]['content'][0]\n",
    "\n",
    "# 2-grams, content, max_df=0.25\n",
    "# plot the singular values (scree plot) to find a knee that suggests underlying low rank structure\n",
    "rank = 2999\n",
    "svd = TruncatedSVD(rank)\n",
    "svd.fit(X_train_tfidf[2]['content'][0])\n",
    "print(svd.explained_variance_ratio_.sum())\n",
    "fig, ax = plt.subplots()\n",
    "ax.plot(svd.singular_values_)\n",
    "ax.set(xlabel='n', ylabel='nth singular value', title = ('singular values of term-document matrix\\ncontent, max_df=%f, %d-grams' % (max_dfs[0], 2)))"
   ]
  },
  {
   "cell_type": "code",
   "execution_count": 34,
   "metadata": {},
   "outputs": [
    {
     "name": "stdout",
     "output_type": "stream",
     "text": [
      "0.7470377480267556\n"
     ]
    }
   ],
   "source": [
    "rank = 1050\n",
    "svd = TruncatedSVD(rank)\n",
    "svd.fit(X_train_tfidf[2]['content'][0])\n",
    "print(svd.explained_variance_ratio_.sum())\n",
    "\n",
    "# dictionary of TruncatedSVD transforms\n",
    "lsa[2] = {}\n",
    "lsa[2]['content'] = []\n",
    "(lsa[2]['content']).append(make_pipeline(svd, Normalizer(copy=False)))\n",
    "\n",
    "# dictionary of tf-idf training data after TruncatedSVD transform\n",
    "X_train_lsa[2] = {}\n",
    "X_train_lsa[2]['content'] = []\n",
    "(X_train_lsa[2]['content']).append(lsa[2]['content'][0].fit_transform(X_train_tfidf[2]['content'][0]))\n",
    "\n",
    "# dictionary of tf-idf test data after TruncatedSVD transfrom (transform was learned from training data)\n",
    "X_test_lsa[2] = {}\n",
    "X_test_lsa[2]['content'] = []\n",
    "(X_test_lsa[2]['content']).append(lsa[2]['content'][0].transform(X_test_tfidf[2]['content'][0]))"
   ]
  },
  {
   "cell_type": "code",
   "execution_count": 35,
   "metadata": {},
   "outputs": [
    {
     "name": "stdout",
     "output_type": "stream",
     "text": [
      "1.0\n"
     ]
    },
    {
     "data": {
      "text/plain": [
       "[Text(0, 0.5, 'nth singular value'),\n",
       " Text(0.5, 0, 'n'),\n",
       " Text(0.5, 1.0, 'singular values of term-document matrix\\ncontent, max_df=0.250000, 3-grams')]"
      ]
     },
     "execution_count": 35,
     "metadata": {},
     "output_type": "execute_result"
    },
    {
     "data": {
      "image/png": "[encoded data removed]",
      "text/plain": [
       "<Figure size 432x288 with 1 Axes>"
      ]
     },
     "metadata": {
      "needs_background": "light"
     },
     "output_type": "display_data"
    }
   ],
   "source": [
    "# experiment with a good reduced rank to find one that explains most of the variance in the term-document matrices\n",
    "X_train_tfidf[3]['content'][0]\n",
    "\n",
    "# 3-grams, content, max_df=0.25\n",
    "# plot the singular values (scree plot) to find a knee that suggests underlying low rank structure\n",
    "rank = 2999\n",
    "svd = TruncatedSVD(rank)\n",
    "svd.fit(X_train_tfidf[3]['content'][0])\n",
    "print(svd.explained_variance_ratio_.sum())\n",
    "fig, ax = plt.subplots()\n",
    "ax.plot(svd.singular_values_)\n",
    "ax.set(xlabel='n', ylabel='nth singular value', title = ('singular values of term-document matrix\\ncontent, max_df=%f, %d-grams' % (max_dfs[0], 3)))"
   ]
  },
  {
   "cell_type": "code",
   "execution_count": 36,
   "metadata": {},
   "outputs": [
    {
     "name": "stdout",
     "output_type": "stream",
     "text": [
      "0.7488507932520769\n"
     ]
    }
   ],
   "source": [
    "rank = 1060\n",
    "svd = TruncatedSVD(rank)\n",
    "svd.fit(X_train_tfidf[3]['content'][0])\n",
    "print(svd.explained_variance_ratio_.sum())\n",
    "\n",
    "# dictionary of TruncatedSVD transforms\n",
    "lsa[3] = {}\n",
    "lsa[3]['content'] = []\n",
    "(lsa[3]['content']).append(make_pipeline(svd, Normalizer(copy=False)))\n",
    "\n",
    "# dictionary of tf-idf training data after TruncatedSVD transform\n",
    "X_train_lsa[3] = {}\n",
    "X_train_lsa[3]['content'] = []\n",
    "(X_train_lsa[3]['content']).append(lsa[3]['content'][0].fit_transform(X_train_tfidf[3]['content'][0]))\n",
    "\n",
    "# dictionary of tf-idf test data after TruncatedSVD transfrom (transform was learned from training data)\n",
    "X_test_lsa[3] = {}\n",
    "X_test_lsa[3]['content'] = []\n",
    "(X_test_lsa[3]['content']).append(lsa[3]['content'][0].transform(X_test_tfidf[3]['content'][0]))"
   ]
  },
  {
   "cell_type": "code",
   "execution_count": 37,
   "metadata": {},
   "outputs": [
    {
     "name": "stdout",
     "output_type": "stream",
     "text": [
      "1.0000000000000002\n"
     ]
    },
    {
     "data": {
      "text/plain": [
       "[Text(0, 0.5, 'nth singular value'),\n",
       " Text(0.5, 0, 'n'),\n",
       " Text(0.5, 1.0, 'singular values of term-document matrix\\ncontent, max_df=0.500000, 1-grams')]"
      ]
     },
     "execution_count": 37,
     "metadata": {},
     "output_type": "execute_result"
    },
    {
     "data": {
      "image/png": "[encoded data removed]",
      "text/plain": [
       "<Figure size 432x288 with 1 Axes>"
      ]
     },
     "metadata": {
      "needs_background": "light"
     },
     "output_type": "display_data"
    }
   ],
   "source": [
    "# 1-grams, content, max_df=0.5\n",
    "# experiment with a good reduced rank to find one that explains most of the variance in the term-document matrices\n",
    "X_train_tfidf[1]['content'][1]\n",
    "\n",
    "# plot the singular values (scree plot) to find a knee that suggests underlying low rank structure\n",
    "rank = 2999\n",
    "svd = TruncatedSVD(rank)\n",
    "svd.fit(X_train_tfidf[1]['content'][1])\n",
    "print(svd.explained_variance_ratio_.sum())\n",
    "fig, ax = plt.subplots()\n",
    "ax.plot(svd.singular_values_)\n",
    "ax.set(xlabel='n', ylabel='nth singular value', title = ('singular values of term-document matrix\\ncontent, max_df=%f, %d-grams' % (max_dfs[1], 1)))"
   ]
  },
  {
   "cell_type": "code",
   "execution_count": 38,
   "metadata": {},
   "outputs": [
    {
     "name": "stdout",
     "output_type": "stream",
     "text": [
      "0.7736274486499696\n"
     ]
    }
   ],
   "source": [
    "# 1000 also seems reasonable for this given scree plot\n",
    "rank = 1000\n",
    "svd = TruncatedSVD(rank)\n",
    "svd.fit(X_train_tfidf[1]['content'][1])\n",
    "print(svd.explained_variance_ratio_.sum())\n",
    "\n",
    "# dictionary of TruncatedSVD transforms\n",
    "(lsa[1]['content']).append(make_pipeline(svd, Normalizer(copy=False)))\n",
    "\n",
    "# dictionary of tf-idf training data after TruncatedSVD transform\n",
    "(X_train_lsa[1]['content']).append(lsa[1]['content'][1].fit_transform(X_train_tfidf[1]['content'][1]))\n",
    "\n",
    "# dictionary of tf-idf test data after TruncatedSVD transfrom (transform was learned from training data)\n",
    "(X_test_lsa[1]['content']).append(lsa[1]['content'][1].transform(X_test_tfidf[1]['content'][1]))"
   ]
  },
  {
   "cell_type": "code",
   "execution_count": 39,
   "metadata": {},
   "outputs": [
    {
     "name": "stdout",
     "output_type": "stream",
     "text": [
      "1.0000000000000002\n"
     ]
    },
    {
     "data": {
      "text/plain": [
       "[Text(0, 0.5, 'nth singular value'),\n",
       " Text(0.5, 0, 'n'),\n",
       " Text(0.5, 1.0, 'singular values of term-document matrix\\ncontent, max_df=0.500000, 2-grams')]"
      ]
     },
     "execution_count": 39,
     "metadata": {},
     "output_type": "execute_result"
    },
    {
     "data": {
      "image/png": "[encoded data removed]",
      "text/plain": [
       "<Figure size 432x288 with 1 Axes>"
      ]
     },
     "metadata": {
      "needs_background": "light"
     },
     "output_type": "display_data"
    }
   ],
   "source": [
    "# 2-grams, content, max_df=0.5\n",
    "# experiment with a good reduced rank to find one that explains most of the variance in the term-document matrices\n",
    "X_train_tfidf[2]['content'][1]\n",
    "\n",
    "# plot the singular values (scree plot) to find a knee that suggests underlying low rank structure\n",
    "rank = 2999\n",
    "svd = TruncatedSVD(rank)\n",
    "svd.fit(X_train_tfidf[2]['content'][1])\n",
    "print(svd.explained_variance_ratio_.sum())\n",
    "fig, ax = plt.subplots()\n",
    "ax.plot(svd.singular_values_)\n",
    "ax.set(xlabel='n', ylabel='nth singular value', title = ('singular values of term-document matrix\\ncontent, max_df=%f, %d-grams' % (max_dfs[1], 2)))"
   ]
  },
  {
   "cell_type": "code",
   "execution_count": 40,
   "metadata": {},
   "outputs": [
    {
     "name": "stdout",
     "output_type": "stream",
     "text": [
      "0.751985980682936\n"
     ]
    }
   ],
   "source": [
    "# 1000 also seems reasonable for this given scree plot\n",
    "rank = 1050\n",
    "svd = TruncatedSVD(rank)\n",
    "svd.fit(X_train_tfidf[2]['content'][1])\n",
    "print(svd.explained_variance_ratio_.sum())\n",
    "\n",
    "# dictionary of TruncatedSVD transforms\n",
    "(lsa[2]['content']).append(make_pipeline(svd, Normalizer(copy=False)))\n",
    "\n",
    "# dictionary of tf-idf training data after TruncatedSVD transform\n",
    "(X_train_lsa[2]['content']).append(lsa[2]['content'][1].fit_transform(X_train_tfidf[2]['content'][1]))\n",
    "\n",
    "# dictionary of tf-idf test data after TruncatedSVD transfrom (transform was learned from training data)\n",
    "(X_test_lsa[2]['content']).append(lsa[2]['content'][1].transform(X_test_tfidf[2]['content'][1]))"
   ]
  },
  {
   "cell_type": "code",
   "execution_count": 41,
   "metadata": {},
   "outputs": [
    {
     "name": "stdout",
     "output_type": "stream",
     "text": [
      "1.0\n"
     ]
    },
    {
     "data": {
      "text/plain": [
       "[Text(0, 0.5, 'nth singular value'),\n",
       " Text(0.5, 0, 'n'),\n",
       " Text(0.5, 1.0, 'singular values of term-document matrix\\ncontent, max_df=0.500000, 3-grams')]"
      ]
     },
     "execution_count": 41,
     "metadata": {},
     "output_type": "execute_result"
    },
    {
     "data": {
      "image/png": "[encoded data removed]",
      "text/plain": [
       "<Figure size 432x288 with 1 Axes>"
      ]
     },
     "metadata": {
      "needs_background": "light"
     },
     "output_type": "display_data"
    }
   ],
   "source": [
    "# 3-grams, content, max_df=0.5\n",
    "# experiment with a good reduced rank to find one that explains most of the variance in the term-document matrices\n",
    "X_train_tfidf[3]['content'][1]\n",
    "\n",
    "# plot the singular values (scree plot) to find a knee that suggests underlying low rank structure\n",
    "rank = 2999\n",
    "svd = TruncatedSVD(rank)\n",
    "svd.fit(X_train_tfidf[3]['content'][1])\n",
    "print(svd.explained_variance_ratio_.sum())\n",
    "fig, ax = plt.subplots()\n",
    "ax.plot(svd.singular_values_)\n",
    "ax.set(xlabel='n', ylabel='nth singular value', title = ('singular values of term-document matrix\\ncontent, max_df=%f, %d-grams' % (max_dfs[1], 3)))"
   ]
  },
  {
   "cell_type": "code",
   "execution_count": 42,
   "metadata": {},
   "outputs": [
    {
     "name": "stdout",
     "output_type": "stream",
     "text": [
      "0.7536362626410547\n"
     ]
    }
   ],
   "source": [
    "# 1000 also seems reasonable for this given scree plot\n",
    "rank = 1060\n",
    "svd = TruncatedSVD(rank)\n",
    "svd.fit(X_train_tfidf[3]['content'][1])\n",
    "print(svd.explained_variance_ratio_.sum())\n",
    "\n",
    "# dictionary of TruncatedSVD transforms\n",
    "(lsa[3]['content']).append(make_pipeline(svd, Normalizer(copy=False)))\n",
    "\n",
    "# dictionary of tf-idf training data after TruncatedSVD transform\n",
    "(X_train_lsa[3]['content']).append(lsa[3]['content'][1].fit_transform(X_train_tfidf[3]['content'][1]))\n",
    "\n",
    "# dictionary of tf-idf test data after TruncatedSVD transfrom (transform was learned from training data)\n",
    "(X_test_lsa[3]['content']).append(lsa[3]['content'][1].transform(X_test_tfidf[3]['content'][1]))"
   ]
  },
  {
   "cell_type": "code",
   "execution_count": 43,
   "metadata": {},
   "outputs": [
    {
     "name": "stdout",
     "output_type": "stream",
     "text": [
      "1.0\n"
     ]
    },
    {
     "data": {
      "text/plain": [
       "[Text(0, 0.5, 'nth singular value'),\n",
       " Text(0.5, 0, 'n'),\n",
       " Text(0.5, 1.0, 'singular values of term-document matrix\\ncontent, max_df=1.000000, 1-grams')]"
      ]
     },
     "execution_count": 43,
     "metadata": {},
     "output_type": "execute_result"
    },
    {
     "data": {
      "image/png": "[encoded data removed]",
      "text/plain": [
       "<Figure size 432x288 with 1 Axes>"
      ]
     },
     "metadata": {
      "needs_background": "light"
     },
     "output_type": "display_data"
    }
   ],
   "source": [
    "# 1-grams, content, max_df=1.0\n",
    "# experiment with a good reduced rank to find one that explains most of the variance in the term-document matrices\n",
    "X_train_tfidf[1]['content'][2]\n",
    "\n",
    "# plot the singular values (scree plot) to find a knee that suggests underlying low rank structure\n",
    "rank = 2999\n",
    "svd = TruncatedSVD(rank)\n",
    "svd.fit(X_train_tfidf[1]['content'][2])\n",
    "print(svd.explained_variance_ratio_.sum())\n",
    "fig, ax = plt.subplots()\n",
    "ax.plot(svd.singular_values_)\n",
    "ax.set(xlabel='n', ylabel='nth singular value', title = ('singular values of term-document matrix\\ncontent, max_df=%f, %d-grams' % (max_dfs[2], 1)))"
   ]
  },
  {
   "cell_type": "code",
   "execution_count": 44,
   "metadata": {},
   "outputs": [
    {
     "name": "stdout",
     "output_type": "stream",
     "text": [
      "0.7744791203640696\n"
     ]
    }
   ],
   "source": [
    "# 500 also seems reasonable for this given scree plot\n",
    "rank = 1000\n",
    "svd = TruncatedSVD(rank)\n",
    "svd.fit(X_train_tfidf[1]['content'][2])\n",
    "print(svd.explained_variance_ratio_.sum())\n",
    "\n",
    "# dictionary of TruncatedSVD transforms\n",
    "(lsa[1]['content']).append(make_pipeline(svd, Normalizer(copy=False)))\n",
    "\n",
    "# dictionary of tf-idf training data after TruncatedSVD transform\n",
    "(X_train_lsa[1]['content']).append(lsa[1]['content'][2].fit_transform(X_train_tfidf[1]['content'][2]))\n",
    "\n",
    "# dictionary of tf-idf test data after TruncatedSVD transfrom (transform was learned from training data)\n",
    "(X_test_lsa[1]['content']).append(lsa[1]['content'][2].transform(X_test_tfidf[1]['content'][2]))"
   ]
  },
  {
   "cell_type": "code",
   "execution_count": 45,
   "metadata": {},
   "outputs": [
    {
     "name": "stdout",
     "output_type": "stream",
     "text": [
      "1.0\n"
     ]
    },
    {
     "data": {
      "text/plain": [
       "[Text(0, 0.5, 'nth singular value'),\n",
       " Text(0.5, 0, 'n'),\n",
       " Text(0.5, 1.0, 'singular values of term-document matrix\\ncontent, max_df=1.000000, 2-grams')]"
      ]
     },
     "execution_count": 45,
     "metadata": {},
     "output_type": "execute_result"
    },
    {
     "data": {
      "image/png": "[encoded data removed]",
      "text/plain": [
       "<Figure size 432x288 with 1 Axes>"
      ]
     },
     "metadata": {
      "needs_background": "light"
     },
     "output_type": "display_data"
    }
   ],
   "source": [
    "# 2-grams, content, max_df=1.0\n",
    "# experiment with a good reduced rank to find one that explains most of the variance in the term-document matrices\n",
    "X_train_tfidf[2]['content'][2]\n",
    "\n",
    "# plot the singular values (scree plot) to find a knee that suggests underlying low rank structure\n",
    "rank = 2999\n",
    "svd = TruncatedSVD(rank)\n",
    "svd.fit(X_train_tfidf[2]['content'][2])\n",
    "print(svd.explained_variance_ratio_.sum())\n",
    "fig, ax = plt.subplots()\n",
    "ax.plot(svd.singular_values_)\n",
    "ax.set(xlabel='n', ylabel='nth singular value', title = ('singular values of term-document matrix\\ncontent, max_df=%f, %d-grams' % (max_dfs[2], 2)))"
   ]
  },
  {
   "cell_type": "code",
   "execution_count": 46,
   "metadata": {},
   "outputs": [
    {
     "name": "stdout",
     "output_type": "stream",
     "text": [
      "0.752895946936116\n"
     ]
    }
   ],
   "source": [
    "# 500 also seems reasonable for this given scree plot\n",
    "rank = 1050\n",
    "svd = TruncatedSVD(rank)\n",
    "svd.fit(X_train_tfidf[2]['content'][2])\n",
    "print(svd.explained_variance_ratio_.sum())\n",
    "\n",
    "# dictionary of TruncatedSVD transforms\n",
    "(lsa[2]['content']).append(make_pipeline(svd, Normalizer(copy=False)))\n",
    "\n",
    "# dictionary of tf-idf training data after TruncatedSVD transform\n",
    "(X_train_lsa[2]['content']).append(lsa[2]['content'][2].fit_transform(X_train_tfidf[2]['content'][2]))\n",
    "\n",
    "# dictionary of tf-idf test data after TruncatedSVD transfrom (transform was learned from training data)\n",
    "(X_test_lsa[2]['content']).append(lsa[2]['content'][2].transform(X_test_tfidf[2]['content'][2]))"
   ]
  },
  {
   "cell_type": "code",
   "execution_count": 47,
   "metadata": {},
   "outputs": [
    {
     "name": "stdout",
     "output_type": "stream",
     "text": [
      "1.0000000000000004\n"
     ]
    },
    {
     "data": {
      "text/plain": [
       "[Text(0, 0.5, 'nth singular value'),\n",
       " Text(0.5, 0, 'n'),\n",
       " Text(0.5, 1.0, 'singular values of term-document matrix\\ncontent, max_df=1.000000, 3-grams')]"
      ]
     },
     "execution_count": 47,
     "metadata": {},
     "output_type": "execute_result"
    },
    {
     "data": {
      "image/png": "[encoded data removed]",
      "text/plain": [
       "<Figure size 432x288 with 1 Axes>"
      ]
     },
     "metadata": {
      "needs_background": "light"
     },
     "output_type": "display_data"
    }
   ],
   "source": [
    "# 3-grams, content, max_df=1.0\n",
    "# experiment with a good reduced rank to find one that explains most of the variance in the term-document matrices\n",
    "X_train_tfidf[3]['content'][2]\n",
    "\n",
    "# plot the singular values (scree plot) to find a knee that suggests underlying low rank structure\n",
    "rank = 2999\n",
    "svd = TruncatedSVD(rank)\n",
    "svd.fit(X_train_tfidf[3]['content'][2])\n",
    "print(svd.explained_variance_ratio_.sum())\n",
    "fig, ax = plt.subplots()\n",
    "ax.plot(svd.singular_values_)\n",
    "ax.set(xlabel='n', ylabel='nth singular value', title = ('singular values of term-document matrix\\ncontent, max_df=%f, %d-grams' % (max_dfs[2], 3)))"
   ]
  },
  {
   "cell_type": "code",
   "execution_count": 48,
   "metadata": {},
   "outputs": [
    {
     "name": "stdout",
     "output_type": "stream",
     "text": [
      "0.7545393280918429\n"
     ]
    }
   ],
   "source": [
    "# 500 also seems reasonable for this given scree plot\n",
    "rank = 1060\n",
    "svd = TruncatedSVD(rank)\n",
    "svd.fit(X_train_tfidf[3]['content'][2])\n",
    "print(svd.explained_variance_ratio_.sum())\n",
    "\n",
    "# dictionary of TruncatedSVD transforms\n",
    "(lsa[3]['content']).append(make_pipeline(svd, Normalizer(copy=False)))\n",
    "\n",
    "# dictionary of tf-idf training data after TruncatedSVD transform\n",
    "(X_train_lsa[3]['content']).append(lsa[3]['content'][2].fit_transform(X_train_tfidf[3]['content'][2]))\n",
    "\n",
    "# dictionary of tf-idf test data after TruncatedSVD transfrom (transform was learned from training data)\n",
    "(X_test_lsa[3]['content']).append(lsa[3]['content'][2].transform(X_test_tfidf[3]['content'][2]))"
   ]
  },
  {
   "cell_type": "code",
   "execution_count": 49,
   "metadata": {},
   "outputs": [
    {
     "name": "stdout",
     "output_type": "stream",
     "text": [
      "750\n",
      "0.9999999999999994\n"
     ]
    },
    {
     "data": {
      "text/plain": [
       "[Text(0, 0.5, 'nth singular value'),\n",
       " Text(0.5, 0, 'n'),\n",
       " Text(0.5, 1.0, 'singular values of term-document matrix\\ntitle, max_df=0.250000, 1-grams')]"
      ]
     },
     "execution_count": 49,
     "metadata": {},
     "output_type": "execute_result"
    },
    {
     "data": {
      "image/png": "[encoded data removed]",
      "text/plain": [
       "<Figure size 432x288 with 1 Axes>"
      ]
     },
     "metadata": {
      "needs_background": "light"
     },
     "output_type": "display_data"
    }
   ],
   "source": [
    "# now do same thing for pre-pending title of the article to content\n",
    "# 1-grams, title, max_df=0.25\n",
    "# experiment with a good reduced rank to find one that explains most of the variance in the term-document matrices\n",
    "X_train_tfidf[1]['title'][0]\n",
    "print(len(X_test['title']))\n",
    "\n",
    "# plot the singular values (scree plot) to find a knee that suggests underlying low rank structure\n",
    "rank = 2999\n",
    "svd = TruncatedSVD(rank)\n",
    "svd.fit(X_train_tfidf[1]['title'][0])\n",
    "print(svd.explained_variance_ratio_.sum())\n",
    "fig, ax = plt.subplots()\n",
    "ax.plot(svd.singular_values_)\n",
    "ax.set(xlabel='n', ylabel='nth singular value', title = ('singular values of term-document matrix\\ntitle, max_df=%f, %d-grams' % (max_dfs[0], 1)))"
   ]
  },
  {
   "cell_type": "code",
   "execution_count": 51,
   "metadata": {},
   "outputs": [
    {
     "name": "stdout",
     "output_type": "stream",
     "text": [
      "0.7731862204172733\n"
     ]
    }
   ],
   "source": [
    "# 500 seems reasonable\n",
    "rank = 1000\n",
    "svd = TruncatedSVD(rank)\n",
    "svd.fit(X_train_tfidf[1]['title'][0])\n",
    "print(svd.explained_variance_ratio_.sum())\n",
    "\n",
    "# dictionary of TruncatedSVD transforms\n",
    "lsa[1]['title'] = []\n",
    "(lsa[1]['title']).append(make_pipeline(svd, Normalizer(copy=False)))\n",
    "\n",
    "# dictionary of tf-idf training data after TruncatedSVD transform\n",
    "X_train_lsa[1]['title'] = []\n",
    "(X_train_lsa[1]['title']).append(lsa[1]['title'][0].fit_transform(X_train_tfidf[1]['title'][0]))\n",
    "\n",
    "# dictionary of tf-idf test data after TruncatedSVD transfrom (transform was learned from training data)\n",
    "#X_test_lsa = {}\n",
    "X_test_lsa[1]['title'] = []\n",
    "(X_test_lsa[1]['title']).append(lsa[1]['title'][0].transform(X_test_tfidf[1]['title'][0]))"
   ]
  },
  {
   "cell_type": "code",
   "execution_count": 52,
   "metadata": {},
   "outputs": [
    {
     "name": "stdout",
     "output_type": "stream",
     "text": [
      "750\n",
      "1.0000000000000004\n"
     ]
    },
    {
     "data": {
      "text/plain": [
       "[Text(0, 0.5, 'nth singular value'),\n",
       " Text(0.5, 0, 'n'),\n",
       " Text(0.5, 1.0, 'singular values of term-document matrix\\ntitle, max_df=0.250000, 2-grams')]"
      ]
     },
     "execution_count": 52,
     "metadata": {},
     "output_type": "execute_result"
    },
    {
     "data": {
      "image/png": "[encoded data removed]",
      "text/plain": [
       "<Figure size 432x288 with 1 Axes>"
      ]
     },
     "metadata": {
      "needs_background": "light"
     },
     "output_type": "display_data"
    }
   ],
   "source": [
    "# 2-grams, title, max_df=0.25\n",
    "# experiment with a good reduced rank to find one that explains most of the variance in the term-document matrices\n",
    "X_train_tfidf[2]['title'][0]\n",
    "print(len(X_test['title']))\n",
    "\n",
    "# plot the singular values (scree plot) to find a knee that suggests underlying low rank structure\n",
    "rank = 2999\n",
    "svd = TruncatedSVD(rank)\n",
    "svd.fit(X_train_tfidf[2]['title'][0])\n",
    "print(svd.explained_variance_ratio_.sum())\n",
    "fig, ax = plt.subplots()\n",
    "ax.plot(svd.singular_values_)\n",
    "ax.set(xlabel='n', ylabel='nth singular value', title = ('singular values of term-document matrix\\ntitle, max_df=%f, %d-grams' % (max_dfs[0], 2)))"
   ]
  },
  {
   "cell_type": "code",
   "execution_count": 53,
   "metadata": {},
   "outputs": [
    {
     "name": "stdout",
     "output_type": "stream",
     "text": [
      "0.7510763625798396\n"
     ]
    }
   ],
   "source": [
    "# 500 seems reasonable\n",
    "rank = 1050\n",
    "svd = TruncatedSVD(rank)\n",
    "svd.fit(X_train_tfidf[2]['title'][0])\n",
    "print(svd.explained_variance_ratio_.sum())\n",
    "\n",
    "# dictionary of TruncatedSVD transforms\n",
    "lsa[2]['title'] = []\n",
    "(lsa[2]['title']).append(make_pipeline(svd, Normalizer(copy=False)))\n",
    "\n",
    "# dictionary of tf-idf training data after TruncatedSVD transform\n",
    "X_train_lsa[2]['title'] = []\n",
    "(X_train_lsa[2]['title']).append(lsa[2]['title'][0].fit_transform(X_train_tfidf[2]['title'][0]))\n",
    "\n",
    "# dictionary of tf-idf test data after TruncatedSVD transfrom (transform was learned from training data)\n",
    "#X_test_lsa = {}\n",
    "X_test_lsa[2]['title'] = []\n",
    "(X_test_lsa[2]['title']).append(lsa[2]['title'][0].transform(X_test_tfidf[2]['title'][0]))"
   ]
  },
  {
   "cell_type": "code",
   "execution_count": 54,
   "metadata": {},
   "outputs": [
    {
     "name": "stdout",
     "output_type": "stream",
     "text": [
      "750\n",
      "0.9999999999999996\n"
     ]
    },
    {
     "data": {
      "text/plain": [
       "[Text(0, 0.5, 'nth singular value'),\n",
       " Text(0.5, 0, 'n'),\n",
       " Text(0.5, 1.0, 'singular values of term-document matrix\\ntitle, max_df=0.250000, 3-grams')]"
      ]
     },
     "execution_count": 54,
     "metadata": {},
     "output_type": "execute_result"
    },
    {
     "data": {
      "image/png": "[encoded data removed]",
      "text/plain": [
       "<Figure size 432x288 with 1 Axes>"
      ]
     },
     "metadata": {
      "needs_background": "light"
     },
     "output_type": "display_data"
    }
   ],
   "source": [
    "# 3-grams, title, max_df=0.25\n",
    "# experiment with a good reduced rank to find one that explains most of the variance in the term-document matrices\n",
    "X_train_tfidf[3]['title'][0]\n",
    "print(len(X_test['title']))\n",
    "\n",
    "# plot the singular values (scree plot) to find a knee that suggests underlying low rank structure\n",
    "rank = 2999\n",
    "svd = TruncatedSVD(rank)\n",
    "svd.fit(X_train_tfidf[3]['title'][0])\n",
    "print(svd.explained_variance_ratio_.sum())\n",
    "fig, ax = plt.subplots()\n",
    "ax.plot(svd.singular_values_)\n",
    "ax.set(xlabel='n', ylabel='nth singular value', title = ('singular values of term-document matrix\\ntitle, max_df=%f, %d-grams' % (max_dfs[0], 3)))"
   ]
  },
  {
   "cell_type": "code",
   "execution_count": 55,
   "metadata": {},
   "outputs": [
    {
     "name": "stdout",
     "output_type": "stream",
     "text": [
      "0.7527818937502078\n"
     ]
    }
   ],
   "source": [
    "# 500 seems reasonable\n",
    "rank = 1060\n",
    "svd = TruncatedSVD(rank)\n",
    "svd.fit(X_train_tfidf[3]['title'][0])\n",
    "print(svd.explained_variance_ratio_.sum())\n",
    "\n",
    "# dictionary of TruncatedSVD transforms\n",
    "lsa[3]['title'] = []\n",
    "(lsa[3]['title']).append(make_pipeline(svd, Normalizer(copy=False)))\n",
    "\n",
    "# dictionary of tf-idf training data after TruncatedSVD transform\n",
    "X_train_lsa[3]['title'] = []\n",
    "(X_train_lsa[3]['title']).append(lsa[3]['title'][0].fit_transform(X_train_tfidf[3]['title'][0]))\n",
    "\n",
    "# dictionary of tf-idf test data after TruncatedSVD transfrom (transform was learned from training data)\n",
    "#X_test_lsa = {}\n",
    "X_test_lsa[3]['title'] = []\n",
    "(X_test_lsa[3]['title']).append(lsa[3]['title'][0].transform(X_test_tfidf[3]['title'][0]))"
   ]
  },
  {
   "cell_type": "code",
   "execution_count": 56,
   "metadata": {},
   "outputs": [
    {
     "name": "stdout",
     "output_type": "stream",
     "text": [
      "750\n",
      "1.0000000000000002\n"
     ]
    },
    {
     "data": {
      "text/plain": [
       "[Text(0, 0.5, 'nth singular value'),\n",
       " Text(0.5, 0, 'n'),\n",
       " Text(0.5, 1.0, 'singular values of term-document matrix\\ntitle, max_df=0.500000, 1-grams')]"
      ]
     },
     "execution_count": 56,
     "metadata": {},
     "output_type": "execute_result"
    },
    {
     "data": {
      "image/png": "[encoded data removed]",
      "text/plain": [
       "<Figure size 432x288 with 1 Axes>"
      ]
     },
     "metadata": {
      "needs_background": "light"
     },
     "output_type": "display_data"
    }
   ],
   "source": [
    "# 1-grams, title, max_df=0.5\n",
    "# experiment with a good reduced rank to find one that explains most of the variance in the term-document matrices\n",
    "X_train_tfidf[1]['title'][1]\n",
    "print(len(X_test['title']))\n",
    "\n",
    "# plot the singular values (scree plot) to find a knee that suggests underlying low rank structure\n",
    "rank = 2999\n",
    "svd = TruncatedSVD(rank)\n",
    "svd.fit(X_train_tfidf[1]['title'][1])\n",
    "print(svd.explained_variance_ratio_.sum())\n",
    "fig, ax = plt.subplots()\n",
    "ax.plot(svd.singular_values_)\n",
    "ax.set(xlabel='n', ylabel='nth singular value', title = ('singular values of term-document matrix\\ntitle, max_df=%f, %d-grams' % (max_dfs[1], 1)))"
   ]
  },
  {
   "cell_type": "code",
   "execution_count": 57,
   "metadata": {},
   "outputs": [
    {
     "name": "stdout",
     "output_type": "stream",
     "text": [
      "0.7771804232626066\n"
     ]
    }
   ],
   "source": [
    "# 500 seems reasonable\n",
    "rank = 1000\n",
    "svd = TruncatedSVD(rank)\n",
    "svd.fit(X_train_tfidf[1]['title'][1])\n",
    "print(svd.explained_variance_ratio_.sum())\n",
    "\n",
    "# dictionary of TruncatedSVD transforms\n",
    "(lsa[1]['title']).append(make_pipeline(svd, Normalizer(copy=False)))\n",
    "\n",
    "# dictionary of tf-idf training data after TruncatedSVD transform\n",
    "(X_train_lsa[1]['title']).append(lsa[1]['title'][1].fit_transform(X_train_tfidf[1]['title'][1]))\n",
    "\n",
    "# dictionary of tf-idf test data after TruncatedSVD transfrom (transform was learned from training data)\n",
    "(X_test_lsa[1]['title']).append(lsa[1]['title'][1].transform(X_test_tfidf[1]['title'][1]))"
   ]
  },
  {
   "cell_type": "code",
   "execution_count": 58,
   "metadata": {},
   "outputs": [
    {
     "name": "stdout",
     "output_type": "stream",
     "text": [
      "750\n",
      "1.0000000000000002\n"
     ]
    },
    {
     "data": {
      "text/plain": [
       "[Text(0, 0.5, 'nth singular value'),\n",
       " Text(0.5, 0, 'n'),\n",
       " Text(0.5, 1.0, 'singular values of term-document matrix\\ntitle, max_df=0.500000, 2-grams')]"
      ]
     },
     "execution_count": 58,
     "metadata": {},
     "output_type": "execute_result"
    },
    {
     "data": {
      "image/png": "[encoded data removed]",
      "text/plain": [
       "<Figure size 432x288 with 1 Axes>"
      ]
     },
     "metadata": {
      "needs_background": "light"
     },
     "output_type": "display_data"
    }
   ],
   "source": [
    "# 2-grams, title, max_df=0.5\n",
    "# experiment with a good reduced rank to find one that explains most of the variance in the term-document matrices\n",
    "X_train_tfidf[2]['title'][1]\n",
    "print(len(X_test['title']))\n",
    "\n",
    "# plot the singular values (scree plot) to find a knee that suggests underlying low rank structure\n",
    "rank = 2999\n",
    "svd = TruncatedSVD(rank)\n",
    "svd.fit(X_train_tfidf[2]['title'][1])\n",
    "print(svd.explained_variance_ratio_.sum())\n",
    "fig, ax = plt.subplots()\n",
    "ax.plot(svd.singular_values_)\n",
    "ax.set(xlabel='n', ylabel='nth singular value', title = ('singular values of term-document matrix\\ntitle, max_df=%f, %d-grams' % (max_dfs[1], 2)))"
   ]
  },
  {
   "cell_type": "code",
   "execution_count": 59,
   "metadata": {},
   "outputs": [
    {
     "name": "stdout",
     "output_type": "stream",
     "text": [
      "0.7559692403750742\n"
     ]
    }
   ],
   "source": [
    "# 500 seems reasonable\n",
    "rank = 1050\n",
    "svd = TruncatedSVD(rank)\n",
    "svd.fit(X_train_tfidf[2]['title'][1])\n",
    "print(svd.explained_variance_ratio_.sum())\n",
    "\n",
    "# dictionary of TruncatedSVD transforms\n",
    "(lsa[2]['title']).append(make_pipeline(svd, Normalizer(copy=False)))\n",
    "\n",
    "# dictionary of tf-idf training data after TruncatedSVD transform\n",
    "(X_train_lsa[2]['title']).append(lsa[2]['title'][1].fit_transform(X_train_tfidf[2]['title'][1]))\n",
    "\n",
    "# dictionary of tf-idf test data after TruncatedSVD transfrom (transform was learned from training data)\n",
    "(X_test_lsa[2]['title']).append(lsa[2]['title'][1].transform(X_test_tfidf[2]['title'][1]))"
   ]
  },
  {
   "cell_type": "code",
   "execution_count": 60,
   "metadata": {},
   "outputs": [
    {
     "name": "stdout",
     "output_type": "stream",
     "text": [
      "750\n",
      "1.0000000000000002\n"
     ]
    },
    {
     "data": {
      "text/plain": [
       "[Text(0, 0.5, 'nth singular value'),\n",
       " Text(0.5, 0, 'n'),\n",
       " Text(0.5, 1.0, 'singular values of term-document matrix\\ntitle, max_df=0.500000, 3-grams')]"
      ]
     },
     "execution_count": 60,
     "metadata": {},
     "output_type": "execute_result"
    },
    {
     "data": {
      "image/png": "[encoded data removed]",
      "text/plain": [
       "<Figure size 432x288 with 1 Axes>"
      ]
     },
     "metadata": {
      "needs_background": "light"
     },
     "output_type": "display_data"
    }
   ],
   "source": [
    "# 3-grams, title, max_df=0.5\n",
    "# experiment with a good reduced rank to find one that explains most of the variance in the term-document matrices\n",
    "X_train_tfidf[3]['title'][1]\n",
    "print(len(X_test['title']))\n",
    "\n",
    "# plot the singular values (scree plot) to find a knee that suggests underlying low rank structure\n",
    "rank = 2999\n",
    "svd = TruncatedSVD(rank)\n",
    "svd.fit(X_train_tfidf[3]['title'][1])\n",
    "print(svd.explained_variance_ratio_.sum())\n",
    "fig, ax = plt.subplots()\n",
    "ax.plot(svd.singular_values_)\n",
    "ax.set(xlabel='n', ylabel='nth singular value', title = ('singular values of term-document matrix\\ntitle, max_df=%f, %d-grams' % (max_dfs[1], 3)))"
   ]
  },
  {
   "cell_type": "code",
   "execution_count": 61,
   "metadata": {},
   "outputs": [
    {
     "name": "stdout",
     "output_type": "stream",
     "text": [
      "0.7575354961818466\n"
     ]
    }
   ],
   "source": [
    "# 500 seems reasonable\n",
    "rank = 1060\n",
    "svd = TruncatedSVD(rank)\n",
    "svd.fit(X_train_tfidf[3]['title'][1])\n",
    "print(svd.explained_variance_ratio_.sum())\n",
    "\n",
    "# dictionary of TruncatedSVD transforms\n",
    "(lsa[3]['title']).append(make_pipeline(svd, Normalizer(copy=False)))\n",
    "\n",
    "# dictionary of tf-idf training data after TruncatedSVD transform\n",
    "(X_train_lsa[3]['title']).append(lsa[3]['title'][1].fit_transform(X_train_tfidf[3]['title'][1]))\n",
    "\n",
    "# dictionary of tf-idf test data after TruncatedSVD transfrom (transform was learned from training data)\n",
    "(X_test_lsa[3]['title']).append(lsa[3]['title'][1].transform(X_test_tfidf[3]['title'][1]))"
   ]
  },
  {
   "cell_type": "code",
   "execution_count": 62,
   "metadata": {},
   "outputs": [
    {
     "name": "stdout",
     "output_type": "stream",
     "text": [
      "1.0000000000000002\n"
     ]
    },
    {
     "data": {
      "text/plain": [
       "[Text(0, 0.5, 'nth singular value'),\n",
       " Text(0.5, 0, 'n'),\n",
       " Text(0.5, 1.0, 'singular values of term-document matrix\\ntitle, max_df=1.000000, 1-grams')]"
      ]
     },
     "execution_count": 62,
     "metadata": {},
     "output_type": "execute_result"
    },
    {
     "data": {
      "image/png": "[encoded data removed]",
      "text/plain": [
       "<Figure size 432x288 with 1 Axes>"
      ]
     },
     "metadata": {
      "needs_background": "light"
     },
     "output_type": "display_data"
    }
   ],
   "source": [
    "# 1-grams, title, max_df=1.0\n",
    "# experiment with a good reduced rank to find one that explains most of the variance in the term-document matrices\n",
    "X_train_tfidf[1]['title'][2]\n",
    "#print(len(X_test['title']))\n",
    "\n",
    "# plot the singular values (scree plot) to find a knee that suggests underlying low rank structure\n",
    "rank = 2999\n",
    "svd = TruncatedSVD(rank)\n",
    "svd.fit(X_train_tfidf[1]['title'][2])\n",
    "print(svd.explained_variance_ratio_.sum())\n",
    "fig, ax = plt.subplots()\n",
    "ax.plot(svd.singular_values_)\n",
    "ax.set(xlabel='n', ylabel='nth singular value', title = ('singular values of term-document matrix\\ntitle, max_df=%f, %d-grams' % (max_dfs[2], 1)))"
   ]
  },
  {
   "cell_type": "code",
   "execution_count": 63,
   "metadata": {},
   "outputs": [
    {
     "name": "stdout",
     "output_type": "stream",
     "text": [
      "0.7779658954830418\n"
     ]
    }
   ],
   "source": [
    "# 500 seems reasonable\n",
    "rank = 1000\n",
    "svd = TruncatedSVD(rank)\n",
    "svd.fit(X_train_tfidf[1]['title'][2])\n",
    "print(svd.explained_variance_ratio_.sum())\n",
    "\n",
    "# dictionary of TruncatedSVD transforms\n",
    "(lsa[1]['title']).append(make_pipeline(svd, Normalizer(copy=False)))\n",
    "\n",
    "# dictionary of tf-idf training data after TruncatedSVD transform\n",
    "(X_train_lsa[1]['title']).append(lsa[1]['title'][2].fit_transform(X_train_tfidf[1]['title'][2]))\n",
    "\n",
    "# dictionary of tf-idf test data after TruncatedSVD transfrom (transform was learned from training data)\n",
    "(X_test_lsa[1]['title']).append(lsa[1]['title'][2].transform(X_test_tfidf[1]['title'][2]))"
   ]
  },
  {
   "cell_type": "code",
   "execution_count": 64,
   "metadata": {},
   "outputs": [
    {
     "name": "stdout",
     "output_type": "stream",
     "text": [
      "1.0000000000000002\n"
     ]
    },
    {
     "data": {
      "text/plain": [
       "[Text(0, 0.5, 'nth singular value'),\n",
       " Text(0.5, 0, 'n'),\n",
       " Text(0.5, 1.0, 'singular values of term-document matrix\\ntitle, max_df=1.000000, 2-grams')]"
      ]
     },
     "execution_count": 64,
     "metadata": {},
     "output_type": "execute_result"
    },
    {
     "data": {
      "image/png": "[encoded data removed]",
      "text/plain": [
       "<Figure size 432x288 with 1 Axes>"
      ]
     },
     "metadata": {
      "needs_background": "light"
     },
     "output_type": "display_data"
    }
   ],
   "source": [
    "# 2-grams, title, max_df=1.0\n",
    "# experiment with a good reduced rank to find one that explains most of the variance in the term-document matrices\n",
    "X_train_tfidf[2]['title'][2]\n",
    "#print(len(X_test['title']))\n",
    "\n",
    "# plot the singular values (scree plot) to find a knee that suggests underlying low rank structure\n",
    "rank = 2999\n",
    "svd = TruncatedSVD(rank)\n",
    "svd.fit(X_train_tfidf[2]['title'][2])\n",
    "print(svd.explained_variance_ratio_.sum())\n",
    "fig, ax = plt.subplots()\n",
    "ax.plot(svd.singular_values_)\n",
    "ax.set(xlabel='n', ylabel='nth singular value', title = ('singular values of term-document matrix\\ntitle, max_df=%f, %d-grams' % (max_dfs[2], 2)))"
   ]
  },
  {
   "cell_type": "code",
   "execution_count": 65,
   "metadata": {},
   "outputs": [
    {
     "name": "stdout",
     "output_type": "stream",
     "text": [
      "0.7568542592277008\n"
     ]
    }
   ],
   "source": [
    "# 500 seems reasonable\n",
    "rank = 1050\n",
    "svd = TruncatedSVD(rank)\n",
    "svd.fit(X_train_tfidf[2]['title'][2])\n",
    "print(svd.explained_variance_ratio_.sum())\n",
    "\n",
    "# dictionary of TruncatedSVD transforms\n",
    "(lsa[2]['title']).append(make_pipeline(svd, Normalizer(copy=False)))\n",
    "\n",
    "# dictionary of tf-idf training data after TruncatedSVD transform\n",
    "(X_train_lsa[2]['title']).append(lsa[2]['title'][2].fit_transform(X_train_tfidf[2]['title'][2]))\n",
    "\n",
    "# dictionary of tf-idf test data after TruncatedSVD transfrom (transform was learned from training data)\n",
    "(X_test_lsa[2]['title']).append(lsa[2]['title'][2].transform(X_test_tfidf[2]['title'][2]))"
   ]
  },
  {
   "cell_type": "code",
   "execution_count": 66,
   "metadata": {},
   "outputs": [
    {
     "name": "stdout",
     "output_type": "stream",
     "text": [
      "1.0000000000000002\n"
     ]
    },
    {
     "data": {
      "text/plain": [
       "[Text(0, 0.5, 'nth singular value'),\n",
       " Text(0.5, 0, 'n'),\n",
       " Text(0.5, 1.0, 'singular values of term-document matrix\\ntitle, max_df=1.000000, 3-grams')]"
      ]
     },
     "execution_count": 66,
     "metadata": {},
     "output_type": "execute_result"
    },
    {
     "data": {
      "image/png": "[encoded data removed]",
      "text/plain": [
       "<Figure size 432x288 with 1 Axes>"
      ]
     },
     "metadata": {
      "needs_background": "light"
     },
     "output_type": "display_data"
    }
   ],
   "source": [
    "# 3-grams, title, max_df=1.0\n",
    "# experiment with a good reduced rank to find one that explains most of the variance in the term-document matrices\n",
    "X_train_tfidf[3]['title'][2]\n",
    "#print(len(X_test['title']))\n",
    "\n",
    "# plot the singular values (scree plot) to find a knee that suggests underlying low rank structure\n",
    "rank = 2999\n",
    "svd = TruncatedSVD(rank)\n",
    "svd.fit(X_train_tfidf[3]['title'][2])\n",
    "print(svd.explained_variance_ratio_.sum())\n",
    "fig, ax = plt.subplots()\n",
    "ax.plot(svd.singular_values_)\n",
    "ax.set(xlabel='n', ylabel='nth singular value', title = ('singular values of term-document matrix\\ntitle, max_df=%f, %d-grams' % (max_dfs[2], 3)))"
   ]
  },
  {
   "cell_type": "code",
   "execution_count": 67,
   "metadata": {},
   "outputs": [
    {
     "name": "stdout",
     "output_type": "stream",
     "text": [
      "0.7583555598310412\n"
     ]
    }
   ],
   "source": [
    "# 500 seems reasonable\n",
    "rank = 1060\n",
    "svd = TruncatedSVD(rank)\n",
    "svd.fit(X_train_tfidf[3]['title'][2])\n",
    "print(svd.explained_variance_ratio_.sum())\n",
    "\n",
    "# dictionary of TruncatedSVD transforms\n",
    "(lsa[3]['title']).append(make_pipeline(svd, Normalizer(copy=False)))\n",
    "\n",
    "# dictionary of tf-idf training data after TruncatedSVD transform\n",
    "(X_train_lsa[3]['title']).append(lsa[3]['title'][2].fit_transform(X_train_tfidf[3]['title'][2]))\n",
    "\n",
    "# dictionary of tf-idf test data after TruncatedSVD transfrom (transform was learned from training data)\n",
    "(X_test_lsa[3]['title']).append(lsa[3]['title'][2].transform(X_test_tfidf[3]['title'][2]))"
   ]
  },
  {
   "cell_type": "code",
   "execution_count": 68,
   "metadata": {},
   "outputs": [
    {
     "name": "stdout",
     "output_type": "stream",
     "text": [
      "2\n",
      "3000\n",
      "3000\n",
      "2\n",
      "750\n",
      "750\n",
      "3\n",
      "3\n",
      "(3000, 8309)\n",
      "(3000, 8381)\n",
      "(3000, 8391)\n",
      "3\n",
      "(3000, 8345)\n",
      "(3000, 8418)\n",
      "(3000, 8428)\n",
      "3\n",
      "(3000, 13959)\n",
      "(3000, 14032)\n",
      "(3000, 14042)\n",
      "3\n",
      "(3000, 14089)\n",
      "(3000, 14163)\n",
      "(3000, 14173)\n",
      "3\n",
      "(3000, 14861)\n",
      "(3000, 14934)\n",
      "(3000, 14944)\n",
      "3\n",
      "(3000, 15003)\n",
      "(3000, 15077)\n",
      "(3000, 15087)\n",
      "3\n",
      "3\n",
      "(750, 8309)\n",
      "(750, 8381)\n",
      "(750, 8391)\n",
      "3\n",
      "(750, 8345)\n",
      "(750, 8418)\n",
      "(750, 8428)\n",
      "3\n",
      "(750, 13959)\n",
      "(750, 14032)\n",
      "(750, 14042)\n",
      "3\n",
      "(750, 14089)\n",
      "(750, 14163)\n",
      "(750, 14173)\n",
      "3\n",
      "(750, 14861)\n",
      "(750, 14934)\n",
      "(750, 14944)\n",
      "3\n",
      "(750, 15003)\n",
      "(750, 15077)\n",
      "(750, 15087)\n",
      "3\n",
      "3\n",
      "3\n",
      "3\n",
      "3\n",
      "3\n",
      "3\n",
      "3\n",
      "3\n",
      "(3000, 1000)\n",
      "(3000, 1000)\n",
      "(3000, 1000)\n",
      "3\n",
      "(3000, 1000)\n",
      "(3000, 1000)\n",
      "(3000, 1000)\n",
      "3\n",
      "(3000, 1050)\n",
      "(3000, 1050)\n",
      "(3000, 1050)\n",
      "3\n",
      "(3000, 1050)\n",
      "(3000, 1050)\n",
      "(3000, 1050)\n",
      "3\n",
      "(3000, 1060)\n",
      "(3000, 1060)\n",
      "(3000, 1060)\n",
      "3\n",
      "(3000, 1060)\n",
      "(3000, 1060)\n",
      "(3000, 1060)\n",
      "3\n",
      "3\n",
      "(750, 1000)\n",
      "(750, 1000)\n",
      "(750, 1000)\n",
      "3\n",
      "(750, 1000)\n",
      "(750, 1000)\n",
      "(750, 1000)\n",
      "3\n",
      "(750, 1050)\n",
      "(750, 1050)\n",
      "(750, 1050)\n",
      "3\n",
      "(750, 1050)\n",
      "(750, 1050)\n",
      "(750, 1050)\n",
      "3\n",
      "(750, 1060)\n",
      "(750, 1060)\n",
      "(750, 1060)\n",
      "3\n",
      "(750, 1060)\n",
      "(750, 1060)\n",
      "(750, 1060)\n",
      "2\n",
      "3000\n",
      "3000\n",
      "2\n",
      "750\n",
      "750\n"
     ]
    }
   ],
   "source": [
    "# sanity check lengths\n",
    "print(len(X_train))\n",
    "print(len(X_train['content']))\n",
    "print(len(X_train['title']))\n",
    "print(len(X_test))\n",
    "print(len(X_test['content']))\n",
    "print(len(X_test['title']))\n",
    "\n",
    "print(len(X_train_tfidf))\n",
    "for n in max_ngram:\n",
    "    print(len(X_train_tfidf[n]['content']))\n",
    "    print(X_train_tfidf[n]['content'][0].shape)\n",
    "    print(X_train_tfidf[n]['content'][1].shape)\n",
    "    print(X_train_tfidf[n]['content'][2].shape)\n",
    "    print(len(X_train_tfidf[n]['title']))\n",
    "    print(X_train_tfidf[n]['title'][0].shape)\n",
    "    print(X_train_tfidf[n]['title'][1].shape)\n",
    "    print(X_train_tfidf[n]['title'][2].shape)\n",
    "\n",
    "print(len(X_test_tfidf))\n",
    "for n in max_ngram:\n",
    "    print(len(X_test_tfidf[n]['content']))\n",
    "    print(X_test_tfidf[n]['content'][0].shape)\n",
    "    print(X_test_tfidf[n]['content'][1].shape)\n",
    "    print(X_test_tfidf[n]['content'][2].shape)\n",
    "    print(len(X_test_tfidf[n]['title']))\n",
    "    print(X_test_tfidf[n]['title'][0].shape)\n",
    "    print(X_test_tfidf[n]['title'][1].shape)\n",
    "    print(X_test_tfidf[n]['title'][2].shape)\n",
    "\n",
    "print(len(lsa))\n",
    "for n in max_ngram:\n",
    "    print(len(lsa[n]['content']))\n",
    "    print(len(lsa[n]['title']))\n",
    "\n",
    "print(len(X_train_lsa))\n",
    "for n in max_ngram:\n",
    "    print(len(X_train_lsa[n]['content']))\n",
    "    print(X_train_lsa[n]['content'][0].shape)\n",
    "    print(X_train_lsa[n]['content'][1].shape)\n",
    "    print(X_train_lsa[n]['content'][2].shape)\n",
    "    print(len(X_train_lsa[n]['title']))\n",
    "    print(X_train_lsa[n]['title'][0].shape)\n",
    "    print(X_train_lsa[n]['title'][1].shape)\n",
    "    print(X_train_lsa[n]['title'][2].shape)\n",
    "\n",
    "print(len(X_test_lsa))\n",
    "for n in max_ngram:\n",
    "    print(len(X_test_lsa[n]['content']))\n",
    "    print(X_test_lsa[n]['content'][0].shape)\n",
    "    print(X_test_lsa[n]['content'][1].shape)\n",
    "    print(X_test_lsa[n]['content'][2].shape)\n",
    "    print(len(X_test_lsa[n]['title']))\n",
    "    print(X_test_lsa[n]['title'][0].shape)\n",
    "    print(X_test_lsa[n]['title'][1].shape)\n",
    "    print(X_test_lsa[n]['title'][2].shape)\n",
    "\n",
    "print(len(y_train))\n",
    "print(len(y_train['content']))\n",
    "print(len(y_train['title']))\n",
    "\n",
    "print(len(y_test))\n",
    "print(len(y_test['content']))\n",
    "print(len(y_test['title']))"
   ]
  },
  {
   "cell_type": "code",
   "execution_count": 189,
   "metadata": {},
   "outputs": [],
   "source": [
    "from sklearn.model_selection import GridSearchCV, cross_val_score\n",
    "\n",
    "algorithm_comparison = pd.DataFrame(columns=['algorithm', 'n_train', 'n_test', 'use_title', 'max_df', 'n-gram', 'cv_score', 'train_acc', 'test_acc'])\n",
    "cv_results = {'title': [None]*3, 'content': [None]*3}\n",
    "\n",
    "def algorithm_score(classifier, params, use_title, vectorizer_idx, i):\n",
    "    # use_title: True or False - if pre-pending title to article content\n",
    "    # vectorizer_idx: (n_gram, idx)\n",
    "    #      n_gram - 1, 2, 3 - max words used in n-grams\n",
    "    #      idx - 0, 1, 2 - idx corresponding to max document frequency (0 has max_df=0.25, 1 has max_df=0.5, 2 has max_df=1.)\n",
    "    key = 'title' if use_title else 'content'\n",
    "    n = vectorizer_idx[0]\n",
    "    df = vectorizer_idx[1]\n",
    "    \n",
    "    algorithm_comparison.loc[i, 'use_title'] = key\n",
    "    algorithm_comparison.loc[i, 'max_df'] = max_dfs[df]\n",
    "    algorithm_comparison.loc[i, 'n-gram'] = n\n",
    "    \n",
    "    print('use_title: ', key, ', max_df: ', max_dfs[df], 'n-gram: ', n)\n",
    "    \n",
    "    # 5-fold cross-validation\n",
    "    grid_search = GridSearchCV(classifier, params, cv=5, verbose=2)\n",
    "    grid_search.fit(np.array(X_train_lsa[key][vectorizer_idx]), np.array(y_train[key]))\n",
    "    cv_results[key][vectorizer_idx] = grid_search.cv_results_\n",
    "    \n",
    "    # compute accuracies with best result from cross-validation\n",
    "    best = grid_search.best_estimator_\n",
    "    print('Best parameters: ', grid_search.best_params_)\n",
    "    \n",
    "    # show best scores for cross-validation\n",
    "    cv_score = cross_val_score(best, X=np.array(X_train_lsa[key][vectorizer_idx]), y = np.array(y_train[key]), cv=5)\n",
    "    print('CV score for each fold (best estimator): ', cv_score)\n",
    "    print('CV score averaged across folds (best estimator): ', cv_score.mean())\n",
    "    algorithm_comparison.loc[i, 'cv_score'] = cv_score.mean()\n",
    "    \n",
    "    \n",
    "    # use best parameters on whole training set for train accuracy\n",
    "    best_all = best.fit(np.array(X_train_lsa[key][vectorizer_idx]), np.array(y_train[key]))\n",
    "    train_acc = best_all.score(X=np.array(X_train_lsa[key][vectorizer_idx]), y=np.array(y_train[key]))\n",
    "    print('Training accuracy (best estimator): ', train_acc)\n",
    "    algorithm_comparison.loc[i, 'train_acc'] = train_acc\n",
    "    \n",
    "    # use best parameters on whole training set for test accuracy\n",
    "    test_acc = best_all.score(X=np.array(X_test_lsa[key][vectorizer_idx]), y=np.array(y_test[key]))\n",
    "    print('Test accuracy (best estimator): ', test_acc)\n",
    "    algorithm_comparison.loc[i, 'test_acc'] = test_acc\n",
    "    \n",
    "    algorithm_comparison.loc[i, 'n_train'] = len(y_train[key])\n",
    "    algorithm_comparison.loc[i, 'n_test'] = len(y_test[key])\n",
    "       "
   ]
  },
  {
   "cell_type": "code",
   "execution_count": 169,
   "metadata": {},
   "outputs": [
    {
     "name": "stdout",
     "output_type": "stream",
     "text": [
      "----Random Forest-----\n",
      "use_title:  title , max_df:  1.0\n",
      "Fitting 5 folds for each of 6 candidates, totalling 30 fits\n",
      "[CV] criterion=entropy, n_estimators=10 ..............................\n"
     ]
    },
    {
     "name": "stderr",
     "output_type": "stream",
     "text": [
      "[Parallel(n_jobs=1)]: Using backend SequentialBackend with 1 concurrent workers.\n"
     ]
    },
    {
     "name": "stdout",
     "output_type": "stream",
     "text": [
      "[CV] ............... criterion=entropy, n_estimators=10, total=  22.5s\n",
      "[CV] criterion=entropy, n_estimators=10 ..............................\n"
     ]
    },
    {
     "name": "stderr",
     "output_type": "stream",
     "text": [
      "[Parallel(n_jobs=1)]: Done   1 out of   1 | elapsed:   22.5s remaining:    0.0s\n"
     ]
    },
    {
     "name": "stdout",
     "output_type": "stream",
     "text": [
      "[CV] ............... criterion=entropy, n_estimators=10, total=  19.9s\n",
      "[CV] criterion=entropy, n_estimators=10 ..............................\n",
      "[CV] ............... criterion=entropy, n_estimators=10, total=  20.0s\n",
      "[CV] criterion=entropy, n_estimators=10 ..............................\n",
      "[CV] ............... criterion=entropy, n_estimators=10, total=  20.1s\n",
      "[CV] criterion=entropy, n_estimators=10 ..............................\n",
      "[CV] ............... criterion=entropy, n_estimators=10, total=  20.9s\n",
      "[CV] criterion=entropy, n_estimators=50 ..............................\n",
      "[CV] ............... criterion=entropy, n_estimators=50, total= 1.8min\n",
      "[CV] criterion=entropy, n_estimators=50 ..............................\n",
      "[CV] ............... criterion=entropy, n_estimators=50, total= 1.6min\n",
      "[CV] criterion=entropy, n_estimators=50 ..............................\n",
      "[CV] ............... criterion=entropy, n_estimators=50, total= 1.7min\n",
      "[CV] criterion=entropy, n_estimators=50 ..............................\n",
      "[CV] ............... criterion=entropy, n_estimators=50, total= 1.6min\n",
      "[CV] criterion=entropy, n_estimators=50 ..............................\n",
      "[CV] ............... criterion=entropy, n_estimators=50, total= 1.9min\n",
      "[CV] criterion=entropy, n_estimators=100 .............................\n",
      "[CV] .............. criterion=entropy, n_estimators=100, total= 5.1min\n",
      "[CV] criterion=entropy, n_estimators=100 .............................\n",
      "[CV] .............. criterion=entropy, n_estimators=100, total= 6.9min\n",
      "[CV] criterion=entropy, n_estimators=100 .............................\n",
      "[CV] .............. criterion=entropy, n_estimators=100, total= 3.2min\n",
      "[CV] criterion=entropy, n_estimators=100 .............................\n",
      "[CV] .............. criterion=entropy, n_estimators=100, total= 3.2min\n",
      "[CV] criterion=entropy, n_estimators=100 .............................\n",
      "[CV] .............. criterion=entropy, n_estimators=100, total= 3.4min\n",
      "[CV] criterion=gini, n_estimators=10 .................................\n",
      "[CV] .................. criterion=gini, n_estimators=10, total=   8.6s\n",
      "[CV] criterion=gini, n_estimators=10 .................................\n",
      "[CV] .................. criterion=gini, n_estimators=10, total=   8.7s\n",
      "[CV] criterion=gini, n_estimators=10 .................................\n",
      "[CV] .................. criterion=gini, n_estimators=10, total=   8.4s\n",
      "[CV] criterion=gini, n_estimators=10 .................................\n",
      "[CV] .................. criterion=gini, n_estimators=10, total=   8.5s\n",
      "[CV] criterion=gini, n_estimators=10 .................................\n",
      "[CV] .................. criterion=gini, n_estimators=10, total=  10.8s\n",
      "[CV] criterion=gini, n_estimators=50 .................................\n",
      "[CV] .................. criterion=gini, n_estimators=50, total=  48.7s\n",
      "[CV] criterion=gini, n_estimators=50 .................................\n",
      "[CV] .................. criterion=gini, n_estimators=50, total=  39.6s\n",
      "[CV] criterion=gini, n_estimators=50 .................................\n",
      "[CV] .................. criterion=gini, n_estimators=50, total=  39.2s\n",
      "[CV] criterion=gini, n_estimators=50 .................................\n",
      "[CV] .................. criterion=gini, n_estimators=50, total=  39.1s\n",
      "[CV] criterion=gini, n_estimators=50 .................................\n",
      "[CV] .................. criterion=gini, n_estimators=50, total=  43.2s\n",
      "[CV] criterion=gini, n_estimators=100 ................................\n",
      "[CV] ................. criterion=gini, n_estimators=100, total= 1.3min\n",
      "[CV] criterion=gini, n_estimators=100 ................................\n",
      "[CV] ................. criterion=gini, n_estimators=100, total= 1.4min\n",
      "[CV] criterion=gini, n_estimators=100 ................................\n",
      "[CV] ................. criterion=gini, n_estimators=100, total= 1.3min\n",
      "[CV] criterion=gini, n_estimators=100 ................................\n",
      "[CV] ................. criterion=gini, n_estimators=100, total= 1.4min\n",
      "[CV] criterion=gini, n_estimators=100 ................................\n",
      "[CV] ................. criterion=gini, n_estimators=100, total= 1.3min\n"
     ]
    },
    {
     "name": "stderr",
     "output_type": "stream",
     "text": [
      "[Parallel(n_jobs=1)]: Done  30 out of  30 | elapsed: 43.2min finished\n"
     ]
    },
    {
     "name": "stdout",
     "output_type": "stream",
     "text": [
      "Best parameters:  {'criterion': 'entropy', 'n_estimators': 100}\n",
      "CV score for each fold (best estimator):  [0.32666667 0.34166667 0.33333333 0.33       0.31      ]\n",
      "CV score averaged across folds (best estimator):  0.32833333333333337\n",
      "Training accuracy (best estimator):  1.0\n",
      "Test accuracy (best estimator):  0.31466666666666665\n"
     ]
    }
   ],
   "source": [
    "from sklearn.ensemble import RandomForestClassifier\n",
    "\n",
    "params = {'criterion': ['entropy', 'gini'],\n",
    "         'n_estimators': [10, 50, 100]}\n",
    "classifier = RandomForestClassifier(max_features=None, n_jobs=-1)\n",
    "\n",
    "i = 0\n",
    "print('----Random Forest-----')\n",
    "algorithm_comparison.loc[i, 'algorithm'] = 'RandomForest'\n",
    "# chose one with highest variance explained by SVD\n",
    "algorithm_score(classifier, params, True, 2, i)\n",
    "i += 1"
   ]
  },
  {
   "cell_type": "code",
   "execution_count": 170,
   "metadata": {},
   "outputs": [
    {
     "data": {
      "text/html": [
       "<div>\n",
       "<style scoped>\n",
       "    .dataframe tbody tr th:only-of-type {\n",
       "        vertical-align: middle;\n",
       "    }\n",
       "\n",
       "    .dataframe tbody tr th {\n",
       "        vertical-align: top;\n",
       "    }\n",
       "\n",
       "    .dataframe thead th {\n",
       "        text-align: right;\n",
       "    }\n",
       "</style>\n",
       "<table border=\"1\" class=\"dataframe\">\n",
       "  <thead>\n",
       "    <tr style=\"text-align: right;\">\n",
       "      <th></th>\n",
       "      <th>algorithm</th>\n",
       "      <th>n_train</th>\n",
       "      <th>n_test</th>\n",
       "      <th>use_title</th>\n",
       "      <th>max_df</th>\n",
       "      <th>cv_score</th>\n",
       "      <th>train_acc</th>\n",
       "      <th>test_acc</th>\n",
       "    </tr>\n",
       "  </thead>\n",
       "  <tbody>\n",
       "    <tr>\n",
       "      <th>0</th>\n",
       "      <td>RandomForest</td>\n",
       "      <td>3000</td>\n",
       "      <td>750</td>\n",
       "      <td>title</td>\n",
       "      <td>1</td>\n",
       "      <td>0.328333</td>\n",
       "      <td>1</td>\n",
       "      <td>0.314667</td>\n",
       "    </tr>\n",
       "  </tbody>\n",
       "</table>\n",
       "</div>"
      ],
      "text/plain": [
       "      algorithm n_train n_test use_title max_df  cv_score train_acc  test_acc\n",
       "0  RandomForest    3000    750     title      1  0.328333         1  0.314667"
      ]
     },
     "execution_count": 170,
     "metadata": {},
     "output_type": "execute_result"
    }
   ],
   "source": [
    "algorithm_comparison.head()"
   ]
  },
  {
   "cell_type": "code",
   "execution_count": 171,
   "metadata": {},
   "outputs": [
    {
     "name": "stdout",
     "output_type": "stream",
     "text": [
      "----Random Forest-----\n",
      "use_title:  title , max_df:  1.0\n",
      "Fitting 5 folds for each of 2 candidates, totalling 10 fits\n",
      "[CV] criterion=entropy ...............................................\n"
     ]
    },
    {
     "name": "stderr",
     "output_type": "stream",
     "text": [
      "[Parallel(n_jobs=1)]: Using backend SequentialBackend with 1 concurrent workers.\n"
     ]
    },
    {
     "name": "stdout",
     "output_type": "stream",
     "text": [
      "[CV] ................................ criterion=entropy, total= 6.8min\n",
      "[CV] criterion=entropy ...............................................\n"
     ]
    },
    {
     "name": "stderr",
     "output_type": "stream",
     "text": [
      "[Parallel(n_jobs=1)]: Done   1 out of   1 | elapsed:  6.8min remaining:    0.0s\n"
     ]
    },
    {
     "name": "stdout",
     "output_type": "stream",
     "text": [
      "[CV] ................................ criterion=entropy, total= 7.4min\n",
      "[CV] criterion=entropy ...............................................\n",
      "[CV] ................................ criterion=entropy, total= 7.4min\n",
      "[CV] criterion=entropy ...............................................\n",
      "[CV] ................................ criterion=entropy, total= 6.9min\n",
      "[CV] criterion=entropy ...............................................\n",
      "[CV] ................................ criterion=entropy, total= 7.4min\n",
      "[CV] criterion=gini ..................................................\n",
      "[CV] ................................... criterion=gini, total= 3.1min\n",
      "[CV] criterion=gini ..................................................\n",
      "[CV] ................................... criterion=gini, total= 3.0min\n",
      "[CV] criterion=gini ..................................................\n",
      "[CV] ................................... criterion=gini, total= 2.8min\n",
      "[CV] criterion=gini ..................................................\n",
      "[CV] ................................... criterion=gini, total= 3.0min\n",
      "[CV] criterion=gini ..................................................\n",
      "[CV] ................................... criterion=gini, total= 3.2min\n"
     ]
    },
    {
     "name": "stderr",
     "output_type": "stream",
     "text": [
      "[Parallel(n_jobs=1)]: Done  10 out of  10 | elapsed: 51.1min finished\n"
     ]
    },
    {
     "name": "stdout",
     "output_type": "stream",
     "text": [
      "Best parameters:  {'criterion': 'gini'}\n",
      "CV score for each fold (best estimator):  [0.32666667 0.35666667 0.35       0.33666667 0.32166667]\n",
      "CV score averaged across folds (best estimator):  0.33833333333333326\n",
      "Training accuracy (best estimator):  1.0\n",
      "Test accuracy (best estimator):  0.332\n"
     ]
    }
   ],
   "source": [
    "params = {'criterion': ['entropy', 'gini']}\n",
    "classifier = RandomForestClassifier(max_features=None, n_jobs=-1, n_estimators=200)\n",
    "print('----Random Forest-----')\n",
    "algorithm_comparison.loc[i, 'algorithm'] = 'RandomForest'\n",
    "# chose one with highest variance explained by SVD\n",
    "algorithm_score(classifier, params, True, 2, i)\n",
    "i += 1"
   ]
  },
  {
   "cell_type": "code",
   "execution_count": 173,
   "metadata": {},
   "outputs": [
    {
     "name": "stdout",
     "output_type": "stream",
     "text": [
      "{'title': [None, None, {'mean_fit_time': array([430.53904176, 182.19043317]), 'std_fit_time': array([14.92752001,  8.22952975]), 'mean_score_time': array([0.1545742 , 0.12165484]), 'std_score_time': array([0.06154177, 0.01326442]), 'param_criterion': masked_array(data=['entropy', 'gini'],\n",
      "             mask=[False, False],\n",
      "       fill_value='?',\n",
      "            dtype=object), 'params': [{'criterion': 'entropy'}, {'criterion': 'gini'}], 'split0_test_score': array([0.33      , 0.33666667]), 'split1_test_score': array([0.34166667, 0.34833333]), 'split2_test_score': array([0.34, 0.36]), 'split3_test_score': array([0.34333333, 0.35166667]), 'split4_test_score': array([0.32166667, 0.35166667]), 'mean_test_score': array([0.33533333, 0.34966667]), 'std_test_score': array([0.00825967, 0.00755719]), 'rank_test_score': array([2, 1], dtype=int32)}], 'content': [None, None, None]}\n"
     ]
    },
    {
     "data": {
      "text/html": [
       "<div>\n",
       "<style scoped>\n",
       "    .dataframe tbody tr th:only-of-type {\n",
       "        vertical-align: middle;\n",
       "    }\n",
       "\n",
       "    .dataframe tbody tr th {\n",
       "        vertical-align: top;\n",
       "    }\n",
       "\n",
       "    .dataframe thead th {\n",
       "        text-align: right;\n",
       "    }\n",
       "</style>\n",
       "<table border=\"1\" class=\"dataframe\">\n",
       "  <thead>\n",
       "    <tr style=\"text-align: right;\">\n",
       "      <th></th>\n",
       "      <th>algorithm</th>\n",
       "      <th>n_train</th>\n",
       "      <th>n_test</th>\n",
       "      <th>use_title</th>\n",
       "      <th>max_df</th>\n",
       "      <th>cv_score</th>\n",
       "      <th>train_acc</th>\n",
       "      <th>test_acc</th>\n",
       "    </tr>\n",
       "  </thead>\n",
       "  <tbody>\n",
       "    <tr>\n",
       "      <th>0</th>\n",
       "      <td>RandomForest</td>\n",
       "      <td>3000</td>\n",
       "      <td>750</td>\n",
       "      <td>title</td>\n",
       "      <td>1</td>\n",
       "      <td>0.328333</td>\n",
       "      <td>1</td>\n",
       "      <td>0.314667</td>\n",
       "    </tr>\n",
       "    <tr>\n",
       "      <th>1</th>\n",
       "      <td>RandomForest</td>\n",
       "      <td>3000</td>\n",
       "      <td>750</td>\n",
       "      <td>title</td>\n",
       "      <td>1</td>\n",
       "      <td>0.338333</td>\n",
       "      <td>1</td>\n",
       "      <td>0.332</td>\n",
       "    </tr>\n",
       "  </tbody>\n",
       "</table>\n",
       "</div>"
      ],
      "text/plain": [
       "      algorithm n_train n_test use_title max_df  cv_score train_acc  test_acc\n",
       "0  RandomForest    3000    750     title      1  0.328333         1  0.314667\n",
       "1  RandomForest    3000    750     title      1  0.338333         1     0.332"
      ]
     },
     "execution_count": 173,
     "metadata": {},
     "output_type": "execute_result"
    }
   ],
   "source": [
    "print(cv_results)\n",
    "algorithm_comparison.head()"
   ]
  },
  {
   "cell_type": "code",
   "execution_count": 174,
   "metadata": {},
   "outputs": [
    {
     "name": "stdout",
     "output_type": "stream",
     "text": [
      "----Random Forest-----\n",
      "use_title:  title , max_df:  1.0\n",
      "Fitting 5 folds for each of 8 candidates, totalling 40 fits\n",
      "[CV] criterion=entropy, max_features=auto, min_samples_split=2 .......\n"
     ]
    },
    {
     "name": "stderr",
     "output_type": "stream",
     "text": [
      "[Parallel(n_jobs=1)]: Using backend SequentialBackend with 1 concurrent workers.\n"
     ]
    },
    {
     "name": "stdout",
     "output_type": "stream",
     "text": [
      "[CV]  criterion=entropy, max_features=auto, min_samples_split=2, total=  19.6s\n",
      "[CV] criterion=entropy, max_features=auto, min_samples_split=2 .......\n"
     ]
    },
    {
     "name": "stderr",
     "output_type": "stream",
     "text": [
      "[Parallel(n_jobs=1)]: Done   1 out of   1 | elapsed:   19.6s remaining:    0.0s\n"
     ]
    },
    {
     "name": "stdout",
     "output_type": "stream",
     "text": [
      "[CV]  criterion=entropy, max_features=auto, min_samples_split=2, total=  14.0s\n",
      "[CV] criterion=entropy, max_features=auto, min_samples_split=2 .......\n",
      "[CV]  criterion=entropy, max_features=auto, min_samples_split=2, total=  15.0s\n",
      "[CV] criterion=entropy, max_features=auto, min_samples_split=2 .......\n",
      "[CV]  criterion=entropy, max_features=auto, min_samples_split=2, total=  13.8s\n",
      "[CV] criterion=entropy, max_features=auto, min_samples_split=2 .......\n",
      "[CV]  criterion=entropy, max_features=auto, min_samples_split=2, total=  13.8s\n",
      "[CV] criterion=entropy, max_features=auto, min_samples_split=0.05 ....\n",
      "[CV]  criterion=entropy, max_features=auto, min_samples_split=0.05, total=   9.5s\n",
      "[CV] criterion=entropy, max_features=auto, min_samples_split=0.05 ....\n",
      "[CV]  criterion=entropy, max_features=auto, min_samples_split=0.05, total=   9.3s\n",
      "[CV] criterion=entropy, max_features=auto, min_samples_split=0.05 ....\n",
      "[CV]  criterion=entropy, max_features=auto, min_samples_split=0.05, total=   9.5s\n",
      "[CV] criterion=entropy, max_features=auto, min_samples_split=0.05 ....\n",
      "[CV]  criterion=entropy, max_features=auto, min_samples_split=0.05, total=   9.5s\n",
      "[CV] criterion=entropy, max_features=auto, min_samples_split=0.05 ....\n",
      "[CV]  criterion=entropy, max_features=auto, min_samples_split=0.05, total=  10.0s\n",
      "[CV] criterion=entropy, max_features=None, min_samples_split=2 .......\n",
      "[CV]  criterion=entropy, max_features=None, min_samples_split=2, total= 6.5min\n",
      "[CV] criterion=entropy, max_features=None, min_samples_split=2 .......\n",
      "[CV]  criterion=entropy, max_features=None, min_samples_split=2, total= 6.4min\n",
      "[CV] criterion=entropy, max_features=None, min_samples_split=2 .......\n",
      "[CV]  criterion=entropy, max_features=None, min_samples_split=2, total= 6.9min\n",
      "[CV] criterion=entropy, max_features=None, min_samples_split=2 .......\n",
      "[CV]  criterion=entropy, max_features=None, min_samples_split=2, total= 6.8min\n",
      "[CV] criterion=entropy, max_features=None, min_samples_split=2 .......\n",
      "[CV]  criterion=entropy, max_features=None, min_samples_split=2, total= 6.7min\n",
      "[CV] criterion=entropy, max_features=None, min_samples_split=0.05 ....\n",
      "[CV]  criterion=entropy, max_features=None, min_samples_split=0.05, total= 4.8min\n",
      "[CV] criterion=entropy, max_features=None, min_samples_split=0.05 ....\n",
      "[CV]  criterion=entropy, max_features=None, min_samples_split=0.05, total= 4.6min\n",
      "[CV] criterion=entropy, max_features=None, min_samples_split=0.05 ....\n",
      "[CV]  criterion=entropy, max_features=None, min_samples_split=0.05, total= 5.1min\n",
      "[CV] criterion=entropy, max_features=None, min_samples_split=0.05 ....\n",
      "[CV]  criterion=entropy, max_features=None, min_samples_split=0.05, total= 4.9min\n",
      "[CV] criterion=entropy, max_features=None, min_samples_split=0.05 ....\n",
      "[CV]  criterion=entropy, max_features=None, min_samples_split=0.05, total= 4.8min\n",
      "[CV] criterion=gini, max_features=auto, min_samples_split=2 ..........\n",
      "[CV]  criterion=gini, max_features=auto, min_samples_split=2, total=   6.0s\n",
      "[CV] criterion=gini, max_features=auto, min_samples_split=2 ..........\n",
      "[CV]  criterion=gini, max_features=auto, min_samples_split=2, total=   6.2s\n",
      "[CV] criterion=gini, max_features=auto, min_samples_split=2 ..........\n",
      "[CV]  criterion=gini, max_features=auto, min_samples_split=2, total=   6.3s\n",
      "[CV] criterion=gini, max_features=auto, min_samples_split=2 ..........\n",
      "[CV]  criterion=gini, max_features=auto, min_samples_split=2, total=   6.2s\n",
      "[CV] criterion=gini, max_features=auto, min_samples_split=2 ..........\n",
      "[CV]  criterion=gini, max_features=auto, min_samples_split=2, total=   6.8s\n",
      "[CV] criterion=gini, max_features=auto, min_samples_split=0.05 .......\n",
      "[CV]  criterion=gini, max_features=auto, min_samples_split=0.05, total=   4.1s\n",
      "[CV] criterion=gini, max_features=auto, min_samples_split=0.05 .......\n",
      "[CV]  criterion=gini, max_features=auto, min_samples_split=0.05, total=   4.8s\n",
      "[CV] criterion=gini, max_features=auto, min_samples_split=0.05 .......\n",
      "[CV]  criterion=gini, max_features=auto, min_samples_split=0.05, total=   4.0s\n",
      "[CV] criterion=gini, max_features=auto, min_samples_split=0.05 .......\n",
      "[CV]  criterion=gini, max_features=auto, min_samples_split=0.05, total=   3.8s\n",
      "[CV] criterion=gini, max_features=auto, min_samples_split=0.05 .......\n",
      "[CV]  criterion=gini, max_features=auto, min_samples_split=0.05, total=   4.0s\n",
      "[CV] criterion=gini, max_features=None, min_samples_split=2 ..........\n",
      "[CV]  criterion=gini, max_features=None, min_samples_split=2, total= 2.6min\n",
      "[CV] criterion=gini, max_features=None, min_samples_split=2 ..........\n",
      "[CV]  criterion=gini, max_features=None, min_samples_split=2, total= 2.6min\n",
      "[CV] criterion=gini, max_features=None, min_samples_split=2 ..........\n",
      "[CV]  criterion=gini, max_features=None, min_samples_split=2, total= 2.8min\n",
      "[CV] criterion=gini, max_features=None, min_samples_split=2 ..........\n",
      "[CV]  criterion=gini, max_features=None, min_samples_split=2, total= 2.8min\n",
      "[CV] criterion=gini, max_features=None, min_samples_split=2 ..........\n",
      "[CV]  criterion=gini, max_features=None, min_samples_split=2, total= 2.6min\n",
      "[CV] criterion=gini, max_features=None, min_samples_split=0.05 .......\n",
      "[CV]  criterion=gini, max_features=None, min_samples_split=0.05, total= 1.7min\n",
      "[CV] criterion=gini, max_features=None, min_samples_split=0.05 .......\n",
      "[CV]  criterion=gini, max_features=None, min_samples_split=0.05, total= 1.8min\n",
      "[CV] criterion=gini, max_features=None, min_samples_split=0.05 .......\n",
      "[CV]  criterion=gini, max_features=None, min_samples_split=0.05, total= 1.7min\n",
      "[CV] criterion=gini, max_features=None, min_samples_split=0.05 .......\n",
      "[CV]  criterion=gini, max_features=None, min_samples_split=0.05, total= 1.7min\n",
      "[CV] criterion=gini, max_features=None, min_samples_split=0.05 .......\n",
      "[CV]  criterion=gini, max_features=None, min_samples_split=0.05, total= 1.7min\n"
     ]
    },
    {
     "name": "stderr",
     "output_type": "stream",
     "text": [
      "[Parallel(n_jobs=1)]: Done  40 out of  40 | elapsed: 82.4min finished\n"
     ]
    },
    {
     "name": "stdout",
     "output_type": "stream",
     "text": [
      "Best parameters:  {'criterion': 'entropy', 'max_features': 'auto', 'min_samples_split': 0.05}\n",
      "CV score for each fold (best estimator):  [0.33666667 0.39333333 0.35       0.37166667 0.31666667]\n",
      "CV score averaged across folds (best estimator):  0.3536666666666667\n",
      "Training accuracy (best estimator):  0.6816666666666666\n",
      "Test accuracy (best estimator):  0.35333333333333333\n"
     ]
    }
   ],
   "source": [
    "# try other parameters - use sqrt(n) vs n samples with replacement per tree (max_features)\n",
    "#                      - use min samples to split decision tree (2 vs .05*n_train)\n",
    "params = {'criterion': ['entropy', 'gini'], 'min_samples_split': [2, .05], 'max_features': ['auto', None]}\n",
    "classifier = RandomForestClassifier(max_features=None, n_jobs=-1, n_estimators=200)\n",
    "print('----Random Forest-----')\n",
    "algorithm_comparison.loc[i, 'algorithm'] = 'RandomForest'\n",
    "# chose one with highest variance explained by SVD\n",
    "algorithm_score(classifier, params, True, 2, i)\n",
    "i += 1"
   ]
  },
  {
   "cell_type": "code",
   "execution_count": 179,
   "metadata": {},
   "outputs": [
    {
     "data": {
      "text/html": [
       "<div>\n",
       "<style scoped>\n",
       "    .dataframe tbody tr th:only-of-type {\n",
       "        vertical-align: middle;\n",
       "    }\n",
       "\n",
       "    .dataframe tbody tr th {\n",
       "        vertical-align: top;\n",
       "    }\n",
       "\n",
       "    .dataframe thead th {\n",
       "        text-align: right;\n",
       "    }\n",
       "</style>\n",
       "<table border=\"1\" class=\"dataframe\">\n",
       "  <thead>\n",
       "    <tr style=\"text-align: right;\">\n",
       "      <th></th>\n",
       "      <th>mean_fit_time</th>\n",
       "      <th>std_fit_time</th>\n",
       "      <th>mean_score_time</th>\n",
       "      <th>std_score_time</th>\n",
       "      <th>param_criterion</th>\n",
       "      <th>param_max_features</th>\n",
       "      <th>param_min_samples_split</th>\n",
       "      <th>params</th>\n",
       "      <th>split0_test_score</th>\n",
       "      <th>split1_test_score</th>\n",
       "      <th>split2_test_score</th>\n",
       "      <th>split3_test_score</th>\n",
       "      <th>split4_test_score</th>\n",
       "      <th>mean_test_score</th>\n",
       "      <th>std_test_score</th>\n",
       "      <th>rank_test_score</th>\n",
       "    </tr>\n",
       "  </thead>\n",
       "  <tbody>\n",
       "    <tr>\n",
       "      <th>0</th>\n",
       "      <td>15.144393</td>\n",
       "      <td>2.229123</td>\n",
       "      <td>0.128075</td>\n",
       "      <td>0.039729</td>\n",
       "      <td>entropy</td>\n",
       "      <td>auto</td>\n",
       "      <td>2</td>\n",
       "      <td>{'criterion': 'entropy', 'max_features': 'auto...</td>\n",
       "      <td>0.300000</td>\n",
       "      <td>0.311667</td>\n",
       "      <td>0.330000</td>\n",
       "      <td>0.313333</td>\n",
       "      <td>0.285000</td>\n",
       "      <td>0.308000</td>\n",
       "      <td>0.014959</td>\n",
       "      <td>5</td>\n",
       "    </tr>\n",
       "    <tr>\n",
       "      <th>1</th>\n",
       "      <td>9.439076</td>\n",
       "      <td>0.244533</td>\n",
       "      <td>0.107290</td>\n",
       "      <td>0.000868</td>\n",
       "      <td>entropy</td>\n",
       "      <td>auto</td>\n",
       "      <td>0.05</td>\n",
       "      <td>{'criterion': 'entropy', 'max_features': 'auto...</td>\n",
       "      <td>0.325000</td>\n",
       "      <td>0.360000</td>\n",
       "      <td>0.366667</td>\n",
       "      <td>0.361667</td>\n",
       "      <td>0.341667</td>\n",
       "      <td>0.351000</td>\n",
       "      <td>0.015513</td>\n",
       "      <td>1</td>\n",
       "    </tr>\n",
       "    <tr>\n",
       "      <th>2</th>\n",
       "      <td>399.881713</td>\n",
       "      <td>10.917164</td>\n",
       "      <td>0.106763</td>\n",
       "      <td>0.001722</td>\n",
       "      <td>entropy</td>\n",
       "      <td>None</td>\n",
       "      <td>2</td>\n",
       "      <td>{'criterion': 'entropy', 'max_features': None,...</td>\n",
       "      <td>0.340000</td>\n",
       "      <td>0.348333</td>\n",
       "      <td>0.353333</td>\n",
       "      <td>0.336667</td>\n",
       "      <td>0.320000</td>\n",
       "      <td>0.339667</td>\n",
       "      <td>0.011470</td>\n",
       "      <td>3</td>\n",
       "    </tr>\n",
       "    <tr>\n",
       "      <th>3</th>\n",
       "      <td>290.076585</td>\n",
       "      <td>8.883343</td>\n",
       "      <td>0.109759</td>\n",
       "      <td>0.004441</td>\n",
       "      <td>entropy</td>\n",
       "      <td>None</td>\n",
       "      <td>0.05</td>\n",
       "      <td>{'criterion': 'entropy', 'max_features': None,...</td>\n",
       "      <td>0.283333</td>\n",
       "      <td>0.285000</td>\n",
       "      <td>0.286667</td>\n",
       "      <td>0.290000</td>\n",
       "      <td>0.290000</td>\n",
       "      <td>0.287000</td>\n",
       "      <td>0.002667</td>\n",
       "      <td>8</td>\n",
       "    </tr>\n",
       "    <tr>\n",
       "      <th>4</th>\n",
       "      <td>6.207917</td>\n",
       "      <td>0.278743</td>\n",
       "      <td>0.107767</td>\n",
       "      <td>0.001345</td>\n",
       "      <td>gini</td>\n",
       "      <td>auto</td>\n",
       "      <td>2</td>\n",
       "      <td>{'criterion': 'gini', 'max_features': 'auto', ...</td>\n",
       "      <td>0.266667</td>\n",
       "      <td>0.353333</td>\n",
       "      <td>0.301667</td>\n",
       "      <td>0.325000</td>\n",
       "      <td>0.288333</td>\n",
       "      <td>0.307000</td>\n",
       "      <td>0.029915</td>\n",
       "      <td>6</td>\n",
       "    </tr>\n",
       "    <tr>\n",
       "      <th>5</th>\n",
       "      <td>4.030873</td>\n",
       "      <td>0.323433</td>\n",
       "      <td>0.106199</td>\n",
       "      <td>0.001360</td>\n",
       "      <td>gini</td>\n",
       "      <td>auto</td>\n",
       "      <td>0.05</td>\n",
       "      <td>{'criterion': 'gini', 'max_features': 'auto', ...</td>\n",
       "      <td>0.336667</td>\n",
       "      <td>0.371667</td>\n",
       "      <td>0.358333</td>\n",
       "      <td>0.356667</td>\n",
       "      <td>0.306667</td>\n",
       "      <td>0.346000</td>\n",
       "      <td>0.022623</td>\n",
       "      <td>2</td>\n",
       "    </tr>\n",
       "    <tr>\n",
       "      <th>6</th>\n",
       "      <td>160.327225</td>\n",
       "      <td>6.653711</td>\n",
       "      <td>0.127912</td>\n",
       "      <td>0.041317</td>\n",
       "      <td>gini</td>\n",
       "      <td>None</td>\n",
       "      <td>2</td>\n",
       "      <td>{'criterion': 'gini', 'max_features': None, 'm...</td>\n",
       "      <td>0.326667</td>\n",
       "      <td>0.363333</td>\n",
       "      <td>0.338333</td>\n",
       "      <td>0.343333</td>\n",
       "      <td>0.325000</td>\n",
       "      <td>0.339333</td>\n",
       "      <td>0.013848</td>\n",
       "      <td>4</td>\n",
       "    </tr>\n",
       "    <tr>\n",
       "      <th>7</th>\n",
       "      <td>103.196231</td>\n",
       "      <td>3.202736</td>\n",
       "      <td>0.107017</td>\n",
       "      <td>0.001380</td>\n",
       "      <td>gini</td>\n",
       "      <td>None</td>\n",
       "      <td>0.05</td>\n",
       "      <td>{'criterion': 'gini', 'max_features': None, 'm...</td>\n",
       "      <td>0.295000</td>\n",
       "      <td>0.315000</td>\n",
       "      <td>0.298333</td>\n",
       "      <td>0.320000</td>\n",
       "      <td>0.280000</td>\n",
       "      <td>0.301667</td>\n",
       "      <td>0.014414</td>\n",
       "      <td>7</td>\n",
       "    </tr>\n",
       "  </tbody>\n",
       "</table>\n",
       "</div>"
      ],
      "text/plain": [
       "   mean_fit_time  std_fit_time  mean_score_time  std_score_time  \\\n",
       "0      15.144393      2.229123         0.128075        0.039729   \n",
       "1       9.439076      0.244533         0.107290        0.000868   \n",
       "2     399.881713     10.917164         0.106763        0.001722   \n",
       "3     290.076585      8.883343         0.109759        0.004441   \n",
       "4       6.207917      0.278743         0.107767        0.001345   \n",
       "5       4.030873      0.323433         0.106199        0.001360   \n",
       "6     160.327225      6.653711         0.127912        0.041317   \n",
       "7     103.196231      3.202736         0.107017        0.001380   \n",
       "\n",
       "  param_criterion param_max_features param_min_samples_split  \\\n",
       "0         entropy               auto                       2   \n",
       "1         entropy               auto                    0.05   \n",
       "2         entropy               None                       2   \n",
       "3         entropy               None                    0.05   \n",
       "4            gini               auto                       2   \n",
       "5            gini               auto                    0.05   \n",
       "6            gini               None                       2   \n",
       "7            gini               None                    0.05   \n",
       "\n",
       "                                              params  split0_test_score  \\\n",
       "0  {'criterion': 'entropy', 'max_features': 'auto...           0.300000   \n",
       "1  {'criterion': 'entropy', 'max_features': 'auto...           0.325000   \n",
       "2  {'criterion': 'entropy', 'max_features': None,...           0.340000   \n",
       "3  {'criterion': 'entropy', 'max_features': None,...           0.283333   \n",
       "4  {'criterion': 'gini', 'max_features': 'auto', ...           0.266667   \n",
       "5  {'criterion': 'gini', 'max_features': 'auto', ...           0.336667   \n",
       "6  {'criterion': 'gini', 'max_features': None, 'm...           0.326667   \n",
       "7  {'criterion': 'gini', 'max_features': None, 'm...           0.295000   \n",
       "\n",
       "   split1_test_score  split2_test_score  split3_test_score  split4_test_score  \\\n",
       "0           0.311667           0.330000           0.313333           0.285000   \n",
       "1           0.360000           0.366667           0.361667           0.341667   \n",
       "2           0.348333           0.353333           0.336667           0.320000   \n",
       "3           0.285000           0.286667           0.290000           0.290000   \n",
       "4           0.353333           0.301667           0.325000           0.288333   \n",
       "5           0.371667           0.358333           0.356667           0.306667   \n",
       "6           0.363333           0.338333           0.343333           0.325000   \n",
       "7           0.315000           0.298333           0.320000           0.280000   \n",
       "\n",
       "   mean_test_score  std_test_score  rank_test_score  \n",
       "0         0.308000        0.014959                5  \n",
       "1         0.351000        0.015513                1  \n",
       "2         0.339667        0.011470                3  \n",
       "3         0.287000        0.002667                8  \n",
       "4         0.307000        0.029915                6  \n",
       "5         0.346000        0.022623                2  \n",
       "6         0.339333        0.013848                4  \n",
       "7         0.301667        0.014414                7  "
      ]
     },
     "execution_count": 179,
     "metadata": {},
     "output_type": "execute_result"
    }
   ],
   "source": [
    "cv_results_table = pd.DataFrame(cv_results['title'][2])\n",
    "cv_results_table.head(10)"
   ]
  },
  {
   "cell_type": "code",
   "execution_count": 188,
   "metadata": {},
   "outputs": [
    {
     "name": "stdout",
     "output_type": "stream",
     "text": [
      "class frequencies:  [200, 200, 200, 200, 200, 200, 200, 200, 200, 200, 200, 200, 200, 200]\n",
      "[50, 50, 50, 50, 50, 50, 50, 50, 50, 50, 50, 50, 50, 50]\n"
     ]
    }
   ],
   "source": [
    "#print(y_train['title'])\n",
    "#print(np.max(y_train['title']))\n",
    "#print(np.array(y_train['title']) == 1)\n",
    "class_frequencies = [np.sum(np.array(y_train['title']) == i) for i in range(np.max(y_train['title']))]\n",
    "print('class frequencies: ', class_frequencies)\n",
    "class_frequencies_test = [np.sum(np.array(y_test['title']) == i) for i in range(np.max(y_test['title']))]\n",
    "print(class_frequencies_test)"
   ]
  },
  {
   "cell_type": "code",
   "execution_count": 194,
   "metadata": {},
   "outputs": [
    {
     "name": "stdout",
     "output_type": "stream",
     "text": [
      "----Support Vector Machine-----\n",
      "use_title:  title , max_df:  1.0\n",
      "Fitting 5 folds for each of 15 candidates, totalling 75 fits\n",
      "[CV] C=0.1, kernel=linear ............................................\n"
     ]
    },
    {
     "name": "stderr",
     "output_type": "stream",
     "text": [
      "[Parallel(n_jobs=1)]: Using backend SequentialBackend with 1 concurrent workers.\n"
     ]
    },
    {
     "name": "stdout",
     "output_type": "stream",
     "text": [
      "[CV] ............................. C=0.1, kernel=linear, total=  12.8s\n",
      "[CV] C=0.1, kernel=linear ............................................\n"
     ]
    },
    {
     "name": "stderr",
     "output_type": "stream",
     "text": [
      "[Parallel(n_jobs=1)]: Done   1 out of   1 | elapsed:   12.8s remaining:    0.0s\n"
     ]
    },
    {
     "name": "stdout",
     "output_type": "stream",
     "text": [
      "[CV] ............................. C=0.1, kernel=linear, total=  12.3s\n",
      "[CV] C=0.1, kernel=linear ............................................\n",
      "[CV] ............................. C=0.1, kernel=linear, total=  12.7s\n",
      "[CV] C=0.1, kernel=linear ............................................\n",
      "[CV] ............................. C=0.1, kernel=linear, total=  13.6s\n",
      "[CV] C=0.1, kernel=linear ............................................\n",
      "[CV] ............................. C=0.1, kernel=linear, total=  12.7s\n",
      "[CV] C=1, kernel=linear ..............................................\n",
      "[CV] ............................... C=1, kernel=linear, total=  11.0s\n",
      "[CV] C=1, kernel=linear ..............................................\n",
      "[CV] ............................... C=1, kernel=linear, total=  11.7s\n",
      "[CV] C=1, kernel=linear ..............................................\n",
      "[CV] ............................... C=1, kernel=linear, total=  11.6s\n",
      "[CV] C=1, kernel=linear ..............................................\n",
      "[CV] ............................... C=1, kernel=linear, total=  10.8s\n",
      "[CV] C=1, kernel=linear ..............................................\n",
      "[CV] ............................... C=1, kernel=linear, total=  10.7s\n",
      "[CV] C=10, kernel=linear .............................................\n",
      "[CV] .............................. C=10, kernel=linear, total=  11.3s\n",
      "[CV] C=10, kernel=linear .............................................\n",
      "[CV] .............................. C=10, kernel=linear, total=  11.3s\n",
      "[CV] C=10, kernel=linear .............................................\n",
      "[CV] .............................. C=10, kernel=linear, total=  11.3s\n",
      "[CV] C=10, kernel=linear .............................................\n",
      "[CV] .............................. C=10, kernel=linear, total=  11.3s\n",
      "[CV] C=10, kernel=linear .............................................\n",
      "[CV] .............................. C=10, kernel=linear, total=  11.2s\n",
      "[CV] C=0.1, gamma=0.0001, kernel=rbf .................................\n",
      "[CV] .................. C=0.1, gamma=0.0001, kernel=rbf, total=  12.6s\n",
      "[CV] C=0.1, gamma=0.0001, kernel=rbf .................................\n",
      "[CV] .................. C=0.1, gamma=0.0001, kernel=rbf, total=  12.5s\n",
      "[CV] C=0.1, gamma=0.0001, kernel=rbf .................................\n",
      "[CV] .................. C=0.1, gamma=0.0001, kernel=rbf, total=  12.9s\n",
      "[CV] C=0.1, gamma=0.0001, kernel=rbf .................................\n",
      "[CV] .................. C=0.1, gamma=0.0001, kernel=rbf, total=  12.6s\n",
      "[CV] C=0.1, gamma=0.0001, kernel=rbf .................................\n",
      "[CV] .................. C=0.1, gamma=0.0001, kernel=rbf, total=  12.7s\n",
      "[CV] C=0.1, gamma=0.001, kernel=rbf ..................................\n",
      "[CV] ................... C=0.1, gamma=0.001, kernel=rbf, total=  12.6s\n",
      "[CV] C=0.1, gamma=0.001, kernel=rbf ..................................\n",
      "[CV] ................... C=0.1, gamma=0.001, kernel=rbf, total=  12.5s\n",
      "[CV] C=0.1, gamma=0.001, kernel=rbf ..................................\n",
      "[CV] ................... C=0.1, gamma=0.001, kernel=rbf, total=  12.6s\n",
      "[CV] C=0.1, gamma=0.001, kernel=rbf ..................................\n",
      "[CV] ................... C=0.1, gamma=0.001, kernel=rbf, total=  12.6s\n",
      "[CV] C=0.1, gamma=0.001, kernel=rbf ..................................\n",
      "[CV] ................... C=0.1, gamma=0.001, kernel=rbf, total=  12.6s\n",
      "[CV] C=0.1, gamma=0.01, kernel=rbf ...................................\n",
      "[CV] .................... C=0.1, gamma=0.01, kernel=rbf, total=  12.6s\n",
      "[CV] C=0.1, gamma=0.01, kernel=rbf ...................................\n",
      "[CV] .................... C=0.1, gamma=0.01, kernel=rbf, total=  12.8s\n",
      "[CV] C=0.1, gamma=0.01, kernel=rbf ...................................\n",
      "[CV] .................... C=0.1, gamma=0.01, kernel=rbf, total=  12.6s\n",
      "[CV] C=0.1, gamma=0.01, kernel=rbf ...................................\n",
      "[CV] .................... C=0.1, gamma=0.01, kernel=rbf, total=  12.5s\n",
      "[CV] C=0.1, gamma=0.01, kernel=rbf ...................................\n",
      "[CV] .................... C=0.1, gamma=0.01, kernel=rbf, total=  12.6s\n",
      "[CV] C=0.1, gamma=0.1, kernel=rbf ....................................\n",
      "[CV] ..................... C=0.1, gamma=0.1, kernel=rbf, total=  12.6s\n",
      "[CV] C=0.1, gamma=0.1, kernel=rbf ....................................\n",
      "[CV] ..................... C=0.1, gamma=0.1, kernel=rbf, total=  12.6s\n",
      "[CV] C=0.1, gamma=0.1, kernel=rbf ....................................\n",
      "[CV] ..................... C=0.1, gamma=0.1, kernel=rbf, total=  12.6s\n",
      "[CV] C=0.1, gamma=0.1, kernel=rbf ....................................\n",
      "[CV] ..................... C=0.1, gamma=0.1, kernel=rbf, total=  12.9s\n",
      "[CV] C=0.1, gamma=0.1, kernel=rbf ....................................\n",
      "[CV] ..................... C=0.1, gamma=0.1, kernel=rbf, total=  12.7s\n",
      "[CV] C=1, gamma=0.0001, kernel=rbf ...................................\n",
      "[CV] .................... C=1, gamma=0.0001, kernel=rbf, total=  12.6s\n",
      "[CV] C=1, gamma=0.0001, kernel=rbf ...................................\n",
      "[CV] .................... C=1, gamma=0.0001, kernel=rbf, total=  12.8s\n",
      "[CV] C=1, gamma=0.0001, kernel=rbf ...................................\n",
      "[CV] .................... C=1, gamma=0.0001, kernel=rbf, total=  12.6s\n",
      "[CV] C=1, gamma=0.0001, kernel=rbf ...................................\n",
      "[CV] .................... C=1, gamma=0.0001, kernel=rbf, total=  12.6s\n",
      "[CV] C=1, gamma=0.0001, kernel=rbf ...................................\n",
      "[CV] .................... C=1, gamma=0.0001, kernel=rbf, total=  12.6s\n",
      "[CV] C=1, gamma=0.001, kernel=rbf ....................................\n",
      "[CV] ..................... C=1, gamma=0.001, kernel=rbf, total=  12.6s\n",
      "[CV] C=1, gamma=0.001, kernel=rbf ....................................\n",
      "[CV] ..................... C=1, gamma=0.001, kernel=rbf, total=  12.6s\n",
      "[CV] C=1, gamma=0.001, kernel=rbf ....................................\n",
      "[CV] ..................... C=1, gamma=0.001, kernel=rbf, total=  12.5s\n",
      "[CV] C=1, gamma=0.001, kernel=rbf ....................................\n",
      "[CV] ..................... C=1, gamma=0.001, kernel=rbf, total=  12.6s\n",
      "[CV] C=1, gamma=0.001, kernel=rbf ....................................\n",
      "[CV] ..................... C=1, gamma=0.001, kernel=rbf, total=  12.6s\n",
      "[CV] C=1, gamma=0.01, kernel=rbf .....................................\n",
      "[CV] ...................... C=1, gamma=0.01, kernel=rbf, total=  12.9s\n",
      "[CV] C=1, gamma=0.01, kernel=rbf .....................................\n",
      "[CV] ...................... C=1, gamma=0.01, kernel=rbf, total=  12.7s\n",
      "[CV] C=1, gamma=0.01, kernel=rbf .....................................\n",
      "[CV] ...................... C=1, gamma=0.01, kernel=rbf, total=  12.5s\n",
      "[CV] C=1, gamma=0.01, kernel=rbf .....................................\n",
      "[CV] ...................... C=1, gamma=0.01, kernel=rbf, total=  12.7s\n",
      "[CV] C=1, gamma=0.01, kernel=rbf .....................................\n",
      "[CV] ...................... C=1, gamma=0.01, kernel=rbf, total=  12.6s\n",
      "[CV] C=1, gamma=0.1, kernel=rbf ......................................\n",
      "[CV] ....................... C=1, gamma=0.1, kernel=rbf, total=  13.1s\n",
      "[CV] C=1, gamma=0.1, kernel=rbf ......................................\n",
      "[CV] ....................... C=1, gamma=0.1, kernel=rbf, total=  12.7s\n",
      "[CV] C=1, gamma=0.1, kernel=rbf ......................................\n",
      "[CV] ....................... C=1, gamma=0.1, kernel=rbf, total=  12.2s\n",
      "[CV] C=1, gamma=0.1, kernel=rbf ......................................\n",
      "[CV] ....................... C=1, gamma=0.1, kernel=rbf, total=  12.1s\n",
      "[CV] C=1, gamma=0.1, kernel=rbf ......................................\n",
      "[CV] ....................... C=1, gamma=0.1, kernel=rbf, total=  12.1s\n",
      "[CV] C=10, gamma=0.0001, kernel=rbf ..................................\n",
      "[CV] ................... C=10, gamma=0.0001, kernel=rbf, total=  12.8s\n",
      "[CV] C=10, gamma=0.0001, kernel=rbf ..................................\n",
      "[CV] ................... C=10, gamma=0.0001, kernel=rbf, total=  12.5s\n",
      "[CV] C=10, gamma=0.0001, kernel=rbf ..................................\n",
      "[CV] ................... C=10, gamma=0.0001, kernel=rbf, total=  12.6s\n",
      "[CV] C=10, gamma=0.0001, kernel=rbf ..................................\n",
      "[CV] ................... C=10, gamma=0.0001, kernel=rbf, total=  12.6s\n",
      "[CV] C=10, gamma=0.0001, kernel=rbf ..................................\n"
     ]
    },
    {
     "name": "stdout",
     "output_type": "stream",
     "text": [
      "[CV] ................... C=10, gamma=0.0001, kernel=rbf, total=  12.6s\n",
      "[CV] C=10, gamma=0.001, kernel=rbf ...................................\n",
      "[CV] .................... C=10, gamma=0.001, kernel=rbf, total=  12.6s\n",
      "[CV] C=10, gamma=0.001, kernel=rbf ...................................\n",
      "[CV] .................... C=10, gamma=0.001, kernel=rbf, total=  12.5s\n",
      "[CV] C=10, gamma=0.001, kernel=rbf ...................................\n",
      "[CV] .................... C=10, gamma=0.001, kernel=rbf, total=  13.2s\n",
      "[CV] C=10, gamma=0.001, kernel=rbf ...................................\n",
      "[CV] .................... C=10, gamma=0.001, kernel=rbf, total=  12.6s\n",
      "[CV] C=10, gamma=0.001, kernel=rbf ...................................\n",
      "[CV] .................... C=10, gamma=0.001, kernel=rbf, total=  12.9s\n",
      "[CV] C=10, gamma=0.01, kernel=rbf ....................................\n",
      "[CV] ..................... C=10, gamma=0.01, kernel=rbf, total=  12.9s\n",
      "[CV] C=10, gamma=0.01, kernel=rbf ....................................\n",
      "[CV] ..................... C=10, gamma=0.01, kernel=rbf, total=  14.1s\n",
      "[CV] C=10, gamma=0.01, kernel=rbf ....................................\n",
      "[CV] ..................... C=10, gamma=0.01, kernel=rbf, total=  14.7s\n",
      "[CV] C=10, gamma=0.01, kernel=rbf ....................................\n",
      "[CV] ..................... C=10, gamma=0.01, kernel=rbf, total=  15.9s\n",
      "[CV] C=10, gamma=0.01, kernel=rbf ....................................\n",
      "[CV] ..................... C=10, gamma=0.01, kernel=rbf, total=  12.0s\n",
      "[CV] C=10, gamma=0.1, kernel=rbf .....................................\n",
      "[CV] ...................... C=10, gamma=0.1, kernel=rbf, total=  11.7s\n",
      "[CV] C=10, gamma=0.1, kernel=rbf .....................................\n",
      "[CV] ...................... C=10, gamma=0.1, kernel=rbf, total=  13.1s\n",
      "[CV] C=10, gamma=0.1, kernel=rbf .....................................\n",
      "[CV] ...................... C=10, gamma=0.1, kernel=rbf, total=  12.8s\n",
      "[CV] C=10, gamma=0.1, kernel=rbf .....................................\n",
      "[CV] ...................... C=10, gamma=0.1, kernel=rbf, total=  13.4s\n",
      "[CV] C=10, gamma=0.1, kernel=rbf .....................................\n",
      "[CV] ...................... C=10, gamma=0.1, kernel=rbf, total=  12.2s\n"
     ]
    },
    {
     "name": "stderr",
     "output_type": "stream",
     "text": [
      "[Parallel(n_jobs=1)]: Done  75 out of  75 | elapsed: 15.7min finished\n"
     ]
    },
    {
     "name": "stdout",
     "output_type": "stream",
     "text": [
      "Best parameters:  {'C': 10, 'gamma': 0.1, 'kernel': 'rbf'}\n",
      "CV score for each fold (best estimator):  [0.45666667 0.47833333 0.47       0.47833333 0.45833333]\n",
      "CV score averaged across folds (best estimator):  0.4683333333333334\n",
      "Training accuracy (best estimator):  0.939\n",
      "Test accuracy (best estimator):  0.476\n"
     ]
    }
   ],
   "source": [
    "from sklearn.svm import SVC\n",
    "\n",
    "params = [{'kernel' : ['linear'], 'C': [1e-1, 1, 10]}, \n",
    "          {'kernel' : ['rbf'], 'C': [1e-1, 1, 10], 'gamma' : [1e-4, 1e-3, 1e-2, 1e-1]}]\n",
    "classifier = SVC()\n",
    "print('----Support Vector Machine-----')\n",
    "algorithm_comparison.loc[i, 'algorithm'] = 'SVM'\n",
    "# chose one with highest variance explained by SVD\n",
    "algorithm_score(classifier, params, True, 2, i)\n",
    "i += 1"
   ]
  },
  {
   "cell_type": "code",
   "execution_count": 196,
   "metadata": {},
   "outputs": [
    {
     "data": {
      "text/html": [
       "<div>\n",
       "<style scoped>\n",
       "    .dataframe tbody tr th:only-of-type {\n",
       "        vertical-align: middle;\n",
       "    }\n",
       "\n",
       "    .dataframe tbody tr th {\n",
       "        vertical-align: top;\n",
       "    }\n",
       "\n",
       "    .dataframe thead th {\n",
       "        text-align: right;\n",
       "    }\n",
       "</style>\n",
       "<table border=\"1\" class=\"dataframe\">\n",
       "  <thead>\n",
       "    <tr style=\"text-align: right;\">\n",
       "      <th></th>\n",
       "      <th>mean_fit_time</th>\n",
       "      <th>std_fit_time</th>\n",
       "      <th>mean_score_time</th>\n",
       "      <th>std_score_time</th>\n",
       "      <th>param_C</th>\n",
       "      <th>param_kernel</th>\n",
       "      <th>param_gamma</th>\n",
       "      <th>params</th>\n",
       "      <th>split0_test_score</th>\n",
       "      <th>split1_test_score</th>\n",
       "      <th>split2_test_score</th>\n",
       "      <th>split3_test_score</th>\n",
       "      <th>split4_test_score</th>\n",
       "      <th>mean_test_score</th>\n",
       "      <th>std_test_score</th>\n",
       "      <th>rank_test_score</th>\n",
       "    </tr>\n",
       "  </thead>\n",
       "  <tbody>\n",
       "    <tr>\n",
       "      <th>0</th>\n",
       "      <td>11.288270</td>\n",
       "      <td>0.425803</td>\n",
       "      <td>1.565004</td>\n",
       "      <td>0.063423</td>\n",
       "      <td>0.1</td>\n",
       "      <td>linear</td>\n",
       "      <td>NaN</td>\n",
       "      <td>{'C': 0.1, 'kernel': 'linear'}</td>\n",
       "      <td>0.300000</td>\n",
       "      <td>0.380000</td>\n",
       "      <td>0.336667</td>\n",
       "      <td>0.355000</td>\n",
       "      <td>0.301667</td>\n",
       "      <td>0.334667</td>\n",
       "      <td>0.030865</td>\n",
       "      <td>6</td>\n",
       "    </tr>\n",
       "    <tr>\n",
       "      <th>1</th>\n",
       "      <td>9.637299</td>\n",
       "      <td>0.346554</td>\n",
       "      <td>1.521149</td>\n",
       "      <td>0.103748</td>\n",
       "      <td>1</td>\n",
       "      <td>linear</td>\n",
       "      <td>NaN</td>\n",
       "      <td>{'C': 1, 'kernel': 'linear'}</td>\n",
       "      <td>0.465000</td>\n",
       "      <td>0.486667</td>\n",
       "      <td>0.455000</td>\n",
       "      <td>0.456667</td>\n",
       "      <td>0.455000</td>\n",
       "      <td>0.463667</td>\n",
       "      <td>0.012083</td>\n",
       "      <td>3</td>\n",
       "    </tr>\n",
       "    <tr>\n",
       "      <th>2</th>\n",
       "      <td>9.871507</td>\n",
       "      <td>0.055789</td>\n",
       "      <td>1.421024</td>\n",
       "      <td>0.011095</td>\n",
       "      <td>10</td>\n",
       "      <td>linear</td>\n",
       "      <td>NaN</td>\n",
       "      <td>{'C': 10, 'kernel': 'linear'}</td>\n",
       "      <td>0.460000</td>\n",
       "      <td>0.461667</td>\n",
       "      <td>0.476667</td>\n",
       "      <td>0.470000</td>\n",
       "      <td>0.455000</td>\n",
       "      <td>0.464667</td>\n",
       "      <td>0.007703</td>\n",
       "      <td>2</td>\n",
       "    </tr>\n",
       "    <tr>\n",
       "      <th>3</th>\n",
       "      <td>11.117057</td>\n",
       "      <td>0.133438</td>\n",
       "      <td>1.537499</td>\n",
       "      <td>0.019955</td>\n",
       "      <td>0.1</td>\n",
       "      <td>rbf</td>\n",
       "      <td>0.0001</td>\n",
       "      <td>{'C': 0.1, 'gamma': 0.0001, 'kernel': 'rbf'}</td>\n",
       "      <td>0.293333</td>\n",
       "      <td>0.376667</td>\n",
       "      <td>0.333333</td>\n",
       "      <td>0.348333</td>\n",
       "      <td>0.298333</td>\n",
       "      <td>0.330000</td>\n",
       "      <td>0.031216</td>\n",
       "      <td>7</td>\n",
       "    </tr>\n",
       "    <tr>\n",
       "      <th>4</th>\n",
       "      <td>11.019986</td>\n",
       "      <td>0.022035</td>\n",
       "      <td>1.542720</td>\n",
       "      <td>0.014724</td>\n",
       "      <td>0.1</td>\n",
       "      <td>rbf</td>\n",
       "      <td>0.001</td>\n",
       "      <td>{'C': 0.1, 'gamma': 0.001, 'kernel': 'rbf'}</td>\n",
       "      <td>0.291667</td>\n",
       "      <td>0.376667</td>\n",
       "      <td>0.333333</td>\n",
       "      <td>0.348333</td>\n",
       "      <td>0.298333</td>\n",
       "      <td>0.329667</td>\n",
       "      <td>0.031612</td>\n",
       "      <td>10</td>\n",
       "    </tr>\n",
       "    <tr>\n",
       "      <th>5</th>\n",
       "      <td>11.081633</td>\n",
       "      <td>0.098908</td>\n",
       "      <td>1.557742</td>\n",
       "      <td>0.013940</td>\n",
       "      <td>0.1</td>\n",
       "      <td>rbf</td>\n",
       "      <td>0.01</td>\n",
       "      <td>{'C': 0.1, 'gamma': 0.01, 'kernel': 'rbf'}</td>\n",
       "      <td>0.288333</td>\n",
       "      <td>0.376667</td>\n",
       "      <td>0.333333</td>\n",
       "      <td>0.348333</td>\n",
       "      <td>0.300000</td>\n",
       "      <td>0.329333</td>\n",
       "      <td>0.032121</td>\n",
       "      <td>13</td>\n",
       "    </tr>\n",
       "    <tr>\n",
       "      <th>6</th>\n",
       "      <td>11.138348</td>\n",
       "      <td>0.126560</td>\n",
       "      <td>1.565715</td>\n",
       "      <td>0.035525</td>\n",
       "      <td>0.1</td>\n",
       "      <td>rbf</td>\n",
       "      <td>0.1</td>\n",
       "      <td>{'C': 0.1, 'gamma': 0.1, 'kernel': 'rbf'}</td>\n",
       "      <td>0.288333</td>\n",
       "      <td>0.370000</td>\n",
       "      <td>0.330000</td>\n",
       "      <td>0.343333</td>\n",
       "      <td>0.301667</td>\n",
       "      <td>0.326667</td>\n",
       "      <td>0.029193</td>\n",
       "      <td>15</td>\n",
       "    </tr>\n",
       "    <tr>\n",
       "      <th>7</th>\n",
       "      <td>11.099866</td>\n",
       "      <td>0.116916</td>\n",
       "      <td>1.537987</td>\n",
       "      <td>0.018472</td>\n",
       "      <td>1</td>\n",
       "      <td>rbf</td>\n",
       "      <td>0.0001</td>\n",
       "      <td>{'C': 1, 'gamma': 0.0001, 'kernel': 'rbf'}</td>\n",
       "      <td>0.293333</td>\n",
       "      <td>0.376667</td>\n",
       "      <td>0.333333</td>\n",
       "      <td>0.348333</td>\n",
       "      <td>0.298333</td>\n",
       "      <td>0.330000</td>\n",
       "      <td>0.031216</td>\n",
       "      <td>7</td>\n",
       "    </tr>\n",
       "    <tr>\n",
       "      <th>8</th>\n",
       "      <td>11.034302</td>\n",
       "      <td>0.028989</td>\n",
       "      <td>1.542059</td>\n",
       "      <td>0.016244</td>\n",
       "      <td>1</td>\n",
       "      <td>rbf</td>\n",
       "      <td>0.001</td>\n",
       "      <td>{'C': 1, 'gamma': 0.001, 'kernel': 'rbf'}</td>\n",
       "      <td>0.291667</td>\n",
       "      <td>0.376667</td>\n",
       "      <td>0.333333</td>\n",
       "      <td>0.348333</td>\n",
       "      <td>0.298333</td>\n",
       "      <td>0.329667</td>\n",
       "      <td>0.031612</td>\n",
       "      <td>10</td>\n",
       "    </tr>\n",
       "    <tr>\n",
       "      <th>9</th>\n",
       "      <td>11.111710</td>\n",
       "      <td>0.127909</td>\n",
       "      <td>1.563029</td>\n",
       "      <td>0.011170</td>\n",
       "      <td>1</td>\n",
       "      <td>rbf</td>\n",
       "      <td>0.01</td>\n",
       "      <td>{'C': 1, 'gamma': 0.01, 'kernel': 'rbf'}</td>\n",
       "      <td>0.288333</td>\n",
       "      <td>0.376667</td>\n",
       "      <td>0.333333</td>\n",
       "      <td>0.348333</td>\n",
       "      <td>0.300000</td>\n",
       "      <td>0.329333</td>\n",
       "      <td>0.032121</td>\n",
       "      <td>13</td>\n",
       "    </tr>\n",
       "    <tr>\n",
       "      <th>10</th>\n",
       "      <td>10.796454</td>\n",
       "      <td>0.246624</td>\n",
       "      <td>1.638945</td>\n",
       "      <td>0.210716</td>\n",
       "      <td>1</td>\n",
       "      <td>rbf</td>\n",
       "      <td>0.1</td>\n",
       "      <td>{'C': 1, 'gamma': 0.1, 'kernel': 'rbf'}</td>\n",
       "      <td>0.323333</td>\n",
       "      <td>0.415000</td>\n",
       "      <td>0.353333</td>\n",
       "      <td>0.393333</td>\n",
       "      <td>0.348333</td>\n",
       "      <td>0.366667</td>\n",
       "      <td>0.032981</td>\n",
       "      <td>5</td>\n",
       "    </tr>\n",
       "    <tr>\n",
       "      <th>11</th>\n",
       "      <td>11.097846</td>\n",
       "      <td>0.114902</td>\n",
       "      <td>1.541456</td>\n",
       "      <td>0.022054</td>\n",
       "      <td>10</td>\n",
       "      <td>rbf</td>\n",
       "      <td>0.0001</td>\n",
       "      <td>{'C': 10, 'gamma': 0.0001, 'kernel': 'rbf'}</td>\n",
       "      <td>0.293333</td>\n",
       "      <td>0.376667</td>\n",
       "      <td>0.333333</td>\n",
       "      <td>0.348333</td>\n",
       "      <td>0.298333</td>\n",
       "      <td>0.330000</td>\n",
       "      <td>0.031216</td>\n",
       "      <td>7</td>\n",
       "    </tr>\n",
       "    <tr>\n",
       "      <th>12</th>\n",
       "      <td>11.180267</td>\n",
       "      <td>0.235569</td>\n",
       "      <td>1.558694</td>\n",
       "      <td>0.027872</td>\n",
       "      <td>10</td>\n",
       "      <td>rbf</td>\n",
       "      <td>0.001</td>\n",
       "      <td>{'C': 10, 'gamma': 0.001, 'kernel': 'rbf'}</td>\n",
       "      <td>0.291667</td>\n",
       "      <td>0.376667</td>\n",
       "      <td>0.333333</td>\n",
       "      <td>0.348333</td>\n",
       "      <td>0.298333</td>\n",
       "      <td>0.329667</td>\n",
       "      <td>0.031612</td>\n",
       "      <td>10</td>\n",
       "    </tr>\n",
       "    <tr>\n",
       "      <th>13</th>\n",
       "      <td>12.089823</td>\n",
       "      <td>1.284884</td>\n",
       "      <td>1.800021</td>\n",
       "      <td>0.304104</td>\n",
       "      <td>10</td>\n",
       "      <td>rbf</td>\n",
       "      <td>0.01</td>\n",
       "      <td>{'C': 10, 'gamma': 0.01, 'kernel': 'rbf'}</td>\n",
       "      <td>0.341667</td>\n",
       "      <td>0.431667</td>\n",
       "      <td>0.361667</td>\n",
       "      <td>0.406667</td>\n",
       "      <td>0.351667</td>\n",
       "      <td>0.378667</td>\n",
       "      <td>0.034583</td>\n",
       "      <td>4</td>\n",
       "    </tr>\n",
       "    <tr>\n",
       "      <th>14</th>\n",
       "      <td>10.932723</td>\n",
       "      <td>0.570345</td>\n",
       "      <td>1.695408</td>\n",
       "      <td>0.405892</td>\n",
       "      <td>10</td>\n",
       "      <td>rbf</td>\n",
       "      <td>0.1</td>\n",
       "      <td>{'C': 10, 'gamma': 0.1, 'kernel': 'rbf'}</td>\n",
       "      <td>0.456667</td>\n",
       "      <td>0.478333</td>\n",
       "      <td>0.470000</td>\n",
       "      <td>0.478333</td>\n",
       "      <td>0.458333</td>\n",
       "      <td>0.468333</td>\n",
       "      <td>0.009369</td>\n",
       "      <td>1</td>\n",
       "    </tr>\n",
       "  </tbody>\n",
       "</table>\n",
       "</div>"
      ],
      "text/plain": [
       "    mean_fit_time  std_fit_time  mean_score_time  std_score_time param_C  \\\n",
       "0       11.288270      0.425803         1.565004        0.063423     0.1   \n",
       "1        9.637299      0.346554         1.521149        0.103748       1   \n",
       "2        9.871507      0.055789         1.421024        0.011095      10   \n",
       "3       11.117057      0.133438         1.537499        0.019955     0.1   \n",
       "4       11.019986      0.022035         1.542720        0.014724     0.1   \n",
       "5       11.081633      0.098908         1.557742        0.013940     0.1   \n",
       "6       11.138348      0.126560         1.565715        0.035525     0.1   \n",
       "7       11.099866      0.116916         1.537987        0.018472       1   \n",
       "8       11.034302      0.028989         1.542059        0.016244       1   \n",
       "9       11.111710      0.127909         1.563029        0.011170       1   \n",
       "10      10.796454      0.246624         1.638945        0.210716       1   \n",
       "11      11.097846      0.114902         1.541456        0.022054      10   \n",
       "12      11.180267      0.235569         1.558694        0.027872      10   \n",
       "13      12.089823      1.284884         1.800021        0.304104      10   \n",
       "14      10.932723      0.570345         1.695408        0.405892      10   \n",
       "\n",
       "   param_kernel param_gamma                                        params  \\\n",
       "0        linear         NaN                {'C': 0.1, 'kernel': 'linear'}   \n",
       "1        linear         NaN                  {'C': 1, 'kernel': 'linear'}   \n",
       "2        linear         NaN                 {'C': 10, 'kernel': 'linear'}   \n",
       "3           rbf      0.0001  {'C': 0.1, 'gamma': 0.0001, 'kernel': 'rbf'}   \n",
       "4           rbf       0.001   {'C': 0.1, 'gamma': 0.001, 'kernel': 'rbf'}   \n",
       "5           rbf        0.01    {'C': 0.1, 'gamma': 0.01, 'kernel': 'rbf'}   \n",
       "6           rbf         0.1     {'C': 0.1, 'gamma': 0.1, 'kernel': 'rbf'}   \n",
       "7           rbf      0.0001    {'C': 1, 'gamma': 0.0001, 'kernel': 'rbf'}   \n",
       "8           rbf       0.001     {'C': 1, 'gamma': 0.001, 'kernel': 'rbf'}   \n",
       "9           rbf        0.01      {'C': 1, 'gamma': 0.01, 'kernel': 'rbf'}   \n",
       "10          rbf         0.1       {'C': 1, 'gamma': 0.1, 'kernel': 'rbf'}   \n",
       "11          rbf      0.0001   {'C': 10, 'gamma': 0.0001, 'kernel': 'rbf'}   \n",
       "12          rbf       0.001    {'C': 10, 'gamma': 0.001, 'kernel': 'rbf'}   \n",
       "13          rbf        0.01     {'C': 10, 'gamma': 0.01, 'kernel': 'rbf'}   \n",
       "14          rbf         0.1      {'C': 10, 'gamma': 0.1, 'kernel': 'rbf'}   \n",
       "\n",
       "    split0_test_score  split1_test_score  split2_test_score  \\\n",
       "0            0.300000           0.380000           0.336667   \n",
       "1            0.465000           0.486667           0.455000   \n",
       "2            0.460000           0.461667           0.476667   \n",
       "3            0.293333           0.376667           0.333333   \n",
       "4            0.291667           0.376667           0.333333   \n",
       "5            0.288333           0.376667           0.333333   \n",
       "6            0.288333           0.370000           0.330000   \n",
       "7            0.293333           0.376667           0.333333   \n",
       "8            0.291667           0.376667           0.333333   \n",
       "9            0.288333           0.376667           0.333333   \n",
       "10           0.323333           0.415000           0.353333   \n",
       "11           0.293333           0.376667           0.333333   \n",
       "12           0.291667           0.376667           0.333333   \n",
       "13           0.341667           0.431667           0.361667   \n",
       "14           0.456667           0.478333           0.470000   \n",
       "\n",
       "    split3_test_score  split4_test_score  mean_test_score  std_test_score  \\\n",
       "0            0.355000           0.301667         0.334667        0.030865   \n",
       "1            0.456667           0.455000         0.463667        0.012083   \n",
       "2            0.470000           0.455000         0.464667        0.007703   \n",
       "3            0.348333           0.298333         0.330000        0.031216   \n",
       "4            0.348333           0.298333         0.329667        0.031612   \n",
       "5            0.348333           0.300000         0.329333        0.032121   \n",
       "6            0.343333           0.301667         0.326667        0.029193   \n",
       "7            0.348333           0.298333         0.330000        0.031216   \n",
       "8            0.348333           0.298333         0.329667        0.031612   \n",
       "9            0.348333           0.300000         0.329333        0.032121   \n",
       "10           0.393333           0.348333         0.366667        0.032981   \n",
       "11           0.348333           0.298333         0.330000        0.031216   \n",
       "12           0.348333           0.298333         0.329667        0.031612   \n",
       "13           0.406667           0.351667         0.378667        0.034583   \n",
       "14           0.478333           0.458333         0.468333        0.009369   \n",
       "\n",
       "    rank_test_score  \n",
       "0                 6  \n",
       "1                 3  \n",
       "2                 2  \n",
       "3                 7  \n",
       "4                10  \n",
       "5                13  \n",
       "6                15  \n",
       "7                 7  \n",
       "8                10  \n",
       "9                13  \n",
       "10                5  \n",
       "11                7  \n",
       "12               10  \n",
       "13                4  \n",
       "14                1  "
      ]
     },
     "execution_count": 196,
     "metadata": {},
     "output_type": "execute_result"
    }
   ],
   "source": [
    "cv_results_table = pd.DataFrame(cv_results['title'][2])\n",
    "cv_results_table.head(15)"
   ]
  },
  {
   "cell_type": "code",
   "execution_count": 197,
   "metadata": {},
   "outputs": [
    {
     "name": "stdout",
     "output_type": "stream",
     "text": [
      "----Support Vector Machine-----\n",
      "use_title:  title , max_df:  1.0\n",
      "Fitting 5 folds for each of 13 candidates, totalling 65 fits\n",
      "[CV] C=1, kernel=linear ..............................................\n"
     ]
    },
    {
     "name": "stderr",
     "output_type": "stream",
     "text": [
      "[Parallel(n_jobs=1)]: Using backend SequentialBackend with 1 concurrent workers.\n"
     ]
    },
    {
     "name": "stdout",
     "output_type": "stream",
     "text": [
      "[CV] ............................... C=1, kernel=linear, total=  10.9s\n",
      "[CV] C=1, kernel=linear ..............................................\n"
     ]
    },
    {
     "name": "stderr",
     "output_type": "stream",
     "text": [
      "[Parallel(n_jobs=1)]: Done   1 out of   1 | elapsed:   10.9s remaining:    0.0s\n"
     ]
    },
    {
     "name": "stdout",
     "output_type": "stream",
     "text": [
      "[CV] ............................... C=1, kernel=linear, total=  12.2s\n",
      "[CV] C=1, kernel=linear ..............................................\n",
      "[CV] ............................... C=1, kernel=linear, total=  17.0s\n",
      "[CV] C=1, kernel=linear ..............................................\n",
      "[CV] ............................... C=1, kernel=linear, total=  12.6s\n",
      "[CV] C=1, kernel=linear ..............................................\n",
      "[CV] ............................... C=1, kernel=linear, total=  11.1s\n",
      "[CV] C=2, kernel=linear ..............................................\n",
      "[CV] ............................... C=2, kernel=linear, total=  11.3s\n",
      "[CV] C=2, kernel=linear ..............................................\n",
      "[CV] ............................... C=2, kernel=linear, total=  11.4s\n",
      "[CV] C=2, kernel=linear ..............................................\n",
      "[CV] ............................... C=2, kernel=linear, total=  11.3s\n",
      "[CV] C=2, kernel=linear ..............................................\n",
      "[CV] ............................... C=2, kernel=linear, total=  11.5s\n",
      "[CV] C=2, kernel=linear ..............................................\n",
      "[CV] ............................... C=2, kernel=linear, total=  13.0s\n",
      "[CV] C=5, kernel=linear ..............................................\n",
      "[CV] ............................... C=5, kernel=linear, total=  14.1s\n",
      "[CV] C=5, kernel=linear ..............................................\n",
      "[CV] ............................... C=5, kernel=linear, total=  11.9s\n",
      "[CV] C=5, kernel=linear ..............................................\n",
      "[CV] ............................... C=5, kernel=linear, total=  15.4s\n",
      "[CV] C=5, kernel=linear ..............................................\n",
      "[CV] ............................... C=5, kernel=linear, total=  17.0s\n",
      "[CV] C=5, kernel=linear ..............................................\n",
      "[CV] ............................... C=5, kernel=linear, total=  12.1s\n",
      "[CV] C=10, kernel=linear .............................................\n",
      "[CV] .............................. C=10, kernel=linear, total=  12.1s\n",
      "[CV] C=10, kernel=linear .............................................\n",
      "[CV] .............................. C=10, kernel=linear, total=  11.4s\n",
      "[CV] C=10, kernel=linear .............................................\n",
      "[CV] .............................. C=10, kernel=linear, total=  11.5s\n",
      "[CV] C=10, kernel=linear .............................................\n",
      "[CV] .............................. C=10, kernel=linear, total=  11.4s\n",
      "[CV] C=10, kernel=linear .............................................\n",
      "[CV] .............................. C=10, kernel=linear, total=  11.3s\n",
      "[CV] C=5, gamma=0.05, kernel=rbf .....................................\n",
      "[CV] ...................... C=5, gamma=0.05, kernel=rbf, total=  12.6s\n",
      "[CV] C=5, gamma=0.05, kernel=rbf .....................................\n",
      "[CV] ...................... C=5, gamma=0.05, kernel=rbf, total=  13.2s\n",
      "[CV] C=5, gamma=0.05, kernel=rbf .....................................\n",
      "[CV] ...................... C=5, gamma=0.05, kernel=rbf, total=  11.7s\n",
      "[CV] C=5, gamma=0.05, kernel=rbf .....................................\n",
      "[CV] ...................... C=5, gamma=0.05, kernel=rbf, total=  11.3s\n",
      "[CV] C=5, gamma=0.05, kernel=rbf .....................................\n",
      "[CV] ...................... C=5, gamma=0.05, kernel=rbf, total=  12.4s\n",
      "[CV] C=5, gamma=0.1, kernel=rbf ......................................\n",
      "[CV] ....................... C=5, gamma=0.1, kernel=rbf, total=  11.1s\n",
      "[CV] C=5, gamma=0.1, kernel=rbf ......................................\n",
      "[CV] ....................... C=5, gamma=0.1, kernel=rbf, total=  11.2s\n",
      "[CV] C=5, gamma=0.1, kernel=rbf ......................................\n",
      "[CV] ....................... C=5, gamma=0.1, kernel=rbf, total=  11.1s\n",
      "[CV] C=5, gamma=0.1, kernel=rbf ......................................\n",
      "[CV] ....................... C=5, gamma=0.1, kernel=rbf, total=  12.7s\n",
      "[CV] C=5, gamma=0.1, kernel=rbf ......................................\n",
      "[CV] ....................... C=5, gamma=0.1, kernel=rbf, total=  11.2s\n",
      "[CV] C=5, gamma=1, kernel=rbf ........................................\n",
      "[CV] ......................... C=5, gamma=1, kernel=rbf, total=  13.1s\n",
      "[CV] C=5, gamma=1, kernel=rbf ........................................\n",
      "[CV] ......................... C=5, gamma=1, kernel=rbf, total=  12.6s\n",
      "[CV] C=5, gamma=1, kernel=rbf ........................................\n",
      "[CV] ......................... C=5, gamma=1, kernel=rbf, total=  12.6s\n",
      "[CV] C=5, gamma=1, kernel=rbf ........................................\n",
      "[CV] ......................... C=5, gamma=1, kernel=rbf, total=  13.2s\n",
      "[CV] C=5, gamma=1, kernel=rbf ........................................\n",
      "[CV] ......................... C=5, gamma=1, kernel=rbf, total=  14.5s\n",
      "[CV] C=10, gamma=0.05, kernel=rbf ....................................\n",
      "[CV] ..................... C=10, gamma=0.05, kernel=rbf, total=  10.9s\n",
      "[CV] C=10, gamma=0.05, kernel=rbf ....................................\n",
      "[CV] ..................... C=10, gamma=0.05, kernel=rbf, total=  11.2s\n",
      "[CV] C=10, gamma=0.05, kernel=rbf ....................................\n",
      "[CV] ..................... C=10, gamma=0.05, kernel=rbf, total=  11.2s\n",
      "[CV] C=10, gamma=0.05, kernel=rbf ....................................\n",
      "[CV] ..................... C=10, gamma=0.05, kernel=rbf, total=  11.8s\n",
      "[CV] C=10, gamma=0.05, kernel=rbf ....................................\n",
      "[CV] ..................... C=10, gamma=0.05, kernel=rbf, total=  11.0s\n",
      "[CV] C=10, gamma=0.1, kernel=rbf .....................................\n",
      "[CV] ...................... C=10, gamma=0.1, kernel=rbf, total=  11.8s\n",
      "[CV] C=10, gamma=0.1, kernel=rbf .....................................\n",
      "[CV] ...................... C=10, gamma=0.1, kernel=rbf, total=  12.0s\n",
      "[CV] C=10, gamma=0.1, kernel=rbf .....................................\n",
      "[CV] ...................... C=10, gamma=0.1, kernel=rbf, total=  11.6s\n",
      "[CV] C=10, gamma=0.1, kernel=rbf .....................................\n",
      "[CV] ...................... C=10, gamma=0.1, kernel=rbf, total=  11.7s\n",
      "[CV] C=10, gamma=0.1, kernel=rbf .....................................\n",
      "[CV] ...................... C=10, gamma=0.1, kernel=rbf, total=  11.6s\n",
      "[CV] C=10, gamma=1, kernel=rbf .......................................\n",
      "[CV] ........................ C=10, gamma=1, kernel=rbf, total=  12.6s\n",
      "[CV] C=10, gamma=1, kernel=rbf .......................................\n",
      "[CV] ........................ C=10, gamma=1, kernel=rbf, total=  12.6s\n",
      "[CV] C=10, gamma=1, kernel=rbf .......................................\n",
      "[CV] ........................ C=10, gamma=1, kernel=rbf, total=  12.7s\n",
      "[CV] C=10, gamma=1, kernel=rbf .......................................\n",
      "[CV] ........................ C=10, gamma=1, kernel=rbf, total=  12.5s\n",
      "[CV] C=10, gamma=1, kernel=rbf .......................................\n",
      "[CV] ........................ C=10, gamma=1, kernel=rbf, total=  13.2s\n",
      "[CV] C=20, gamma=0.05, kernel=rbf ....................................\n",
      "[CV] ..................... C=20, gamma=0.05, kernel=rbf, total=  11.9s\n",
      "[CV] C=20, gamma=0.05, kernel=rbf ....................................\n",
      "[CV] ..................... C=20, gamma=0.05, kernel=rbf, total=  11.7s\n",
      "[CV] C=20, gamma=0.05, kernel=rbf ....................................\n",
      "[CV] ..................... C=20, gamma=0.05, kernel=rbf, total=  11.9s\n",
      "[CV] C=20, gamma=0.05, kernel=rbf ....................................\n",
      "[CV] ..................... C=20, gamma=0.05, kernel=rbf, total=  11.8s\n",
      "[CV] C=20, gamma=0.05, kernel=rbf ....................................\n",
      "[CV] ..................... C=20, gamma=0.05, kernel=rbf, total=  11.6s\n",
      "[CV] C=20, gamma=0.1, kernel=rbf .....................................\n",
      "[CV] ...................... C=20, gamma=0.1, kernel=rbf, total=  11.8s\n",
      "[CV] C=20, gamma=0.1, kernel=rbf .....................................\n",
      "[CV] ...................... C=20, gamma=0.1, kernel=rbf, total=  11.7s\n",
      "[CV] C=20, gamma=0.1, kernel=rbf .....................................\n",
      "[CV] ...................... C=20, gamma=0.1, kernel=rbf, total=  11.9s\n",
      "[CV] C=20, gamma=0.1, kernel=rbf .....................................\n",
      "[CV] ...................... C=20, gamma=0.1, kernel=rbf, total=  12.0s\n",
      "[CV] C=20, gamma=0.1, kernel=rbf .....................................\n"
     ]
    },
    {
     "name": "stdout",
     "output_type": "stream",
     "text": [
      "[CV] ...................... C=20, gamma=0.1, kernel=rbf, total=  13.9s\n",
      "[CV] C=20, gamma=1, kernel=rbf .......................................\n",
      "[CV] ........................ C=20, gamma=1, kernel=rbf, total=  14.9s\n",
      "[CV] C=20, gamma=1, kernel=rbf .......................................\n",
      "[CV] ........................ C=20, gamma=1, kernel=rbf, total=  13.2s\n",
      "[CV] C=20, gamma=1, kernel=rbf .......................................\n",
      "[CV] ........................ C=20, gamma=1, kernel=rbf, total=  13.4s\n",
      "[CV] C=20, gamma=1, kernel=rbf .......................................\n",
      "[CV] ........................ C=20, gamma=1, kernel=rbf, total=  12.6s\n",
      "[CV] C=20, gamma=1, kernel=rbf .......................................\n",
      "[CV] ........................ C=20, gamma=1, kernel=rbf, total=  13.0s\n"
     ]
    },
    {
     "name": "stderr",
     "output_type": "stream",
     "text": [
      "[Parallel(n_jobs=1)]: Done  65 out of  65 | elapsed: 13.4min finished\n"
     ]
    },
    {
     "name": "stdout",
     "output_type": "stream",
     "text": [
      "Best parameters:  {'C': 10, 'gamma': 0.1, 'kernel': 'rbf'}\n",
      "CV score for each fold (best estimator):  [0.45666667 0.47833333 0.47       0.47833333 0.45833333]\n",
      "CV score averaged across folds (best estimator):  0.4683333333333334\n",
      "Training accuracy (best estimator):  0.939\n",
      "Test accuracy (best estimator):  0.476\n"
     ]
    }
   ],
   "source": [
    "params = [{'kernel' : ['linear'], 'C': [1, 2, 5, 10]}, \n",
    "          {'kernel' : ['rbf'], 'C': [5, 10, 20], 'gamma' : [5e-2, 1e-1, 1]}]\n",
    "classifier = SVC()\n",
    "print('----Support Vector Machine-----')\n",
    "algorithm_comparison.loc[i, 'algorithm'] = 'SVM'\n",
    "# chose one with highest variance explained by SVD\n",
    "algorithm_score(classifier, params, True, 2, i)\n",
    "i += 1"
   ]
  },
  {
   "cell_type": "code",
   "execution_count": 198,
   "metadata": {},
   "outputs": [
    {
     "data": {
      "text/html": [
       "<div>\n",
       "<style scoped>\n",
       "    .dataframe tbody tr th:only-of-type {\n",
       "        vertical-align: middle;\n",
       "    }\n",
       "\n",
       "    .dataframe tbody tr th {\n",
       "        vertical-align: top;\n",
       "    }\n",
       "\n",
       "    .dataframe thead th {\n",
       "        text-align: right;\n",
       "    }\n",
       "</style>\n",
       "<table border=\"1\" class=\"dataframe\">\n",
       "  <thead>\n",
       "    <tr style=\"text-align: right;\">\n",
       "      <th></th>\n",
       "      <th>mean_fit_time</th>\n",
       "      <th>std_fit_time</th>\n",
       "      <th>mean_score_time</th>\n",
       "      <th>std_score_time</th>\n",
       "      <th>param_C</th>\n",
       "      <th>param_kernel</th>\n",
       "      <th>param_gamma</th>\n",
       "      <th>params</th>\n",
       "      <th>split0_test_score</th>\n",
       "      <th>split1_test_score</th>\n",
       "      <th>split2_test_score</th>\n",
       "      <th>split3_test_score</th>\n",
       "      <th>split4_test_score</th>\n",
       "      <th>mean_test_score</th>\n",
       "      <th>std_test_score</th>\n",
       "      <th>rank_test_score</th>\n",
       "    </tr>\n",
       "  </thead>\n",
       "  <tbody>\n",
       "    <tr>\n",
       "      <th>0</th>\n",
       "      <td>10.962164</td>\n",
       "      <td>1.899112</td>\n",
       "      <td>1.796550</td>\n",
       "      <td>0.391193</td>\n",
       "      <td>1</td>\n",
       "      <td>linear</td>\n",
       "      <td>NaN</td>\n",
       "      <td>{'C': 1, 'kernel': 'linear'}</td>\n",
       "      <td>0.465000</td>\n",
       "      <td>0.486667</td>\n",
       "      <td>0.455000</td>\n",
       "      <td>0.456667</td>\n",
       "      <td>0.455000</td>\n",
       "      <td>0.463667</td>\n",
       "      <td>0.012083</td>\n",
       "      <td>5</td>\n",
       "    </tr>\n",
       "    <tr>\n",
       "      <th>1</th>\n",
       "      <td>10.278743</td>\n",
       "      <td>0.644620</td>\n",
       "      <td>1.427817</td>\n",
       "      <td>0.007113</td>\n",
       "      <td>2</td>\n",
       "      <td>linear</td>\n",
       "      <td>NaN</td>\n",
       "      <td>{'C': 2, 'kernel': 'linear'}</td>\n",
       "      <td>0.451667</td>\n",
       "      <td>0.470000</td>\n",
       "      <td>0.465000</td>\n",
       "      <td>0.473333</td>\n",
       "      <td>0.458333</td>\n",
       "      <td>0.463667</td>\n",
       "      <td>0.007846</td>\n",
       "      <td>5</td>\n",
       "    </tr>\n",
       "    <tr>\n",
       "      <th>2</th>\n",
       "      <td>12.415118</td>\n",
       "      <td>1.673009</td>\n",
       "      <td>1.680991</td>\n",
       "      <td>0.308198</td>\n",
       "      <td>5</td>\n",
       "      <td>linear</td>\n",
       "      <td>NaN</td>\n",
       "      <td>{'C': 5, 'kernel': 'linear'}</td>\n",
       "      <td>0.450000</td>\n",
       "      <td>0.463333</td>\n",
       "      <td>0.475000</td>\n",
       "      <td>0.465000</td>\n",
       "      <td>0.460000</td>\n",
       "      <td>0.462667</td>\n",
       "      <td>0.008069</td>\n",
       "      <td>8</td>\n",
       "    </tr>\n",
       "    <tr>\n",
       "      <th>3</th>\n",
       "      <td>10.102228</td>\n",
       "      <td>0.289323</td>\n",
       "      <td>1.451897</td>\n",
       "      <td>0.045478</td>\n",
       "      <td>10</td>\n",
       "      <td>linear</td>\n",
       "      <td>NaN</td>\n",
       "      <td>{'C': 10, 'kernel': 'linear'}</td>\n",
       "      <td>0.460000</td>\n",
       "      <td>0.461667</td>\n",
       "      <td>0.476667</td>\n",
       "      <td>0.470000</td>\n",
       "      <td>0.455000</td>\n",
       "      <td>0.464667</td>\n",
       "      <td>0.007703</td>\n",
       "      <td>3</td>\n",
       "    </tr>\n",
       "    <tr>\n",
       "      <th>4</th>\n",
       "      <td>10.690036</td>\n",
       "      <td>0.651324</td>\n",
       "      <td>1.549457</td>\n",
       "      <td>0.098243</td>\n",
       "      <td>5</td>\n",
       "      <td>rbf</td>\n",
       "      <td>0.05</td>\n",
       "      <td>{'C': 5, 'gamma': 0.05, 'kernel': 'rbf'}</td>\n",
       "      <td>0.426667</td>\n",
       "      <td>0.475000</td>\n",
       "      <td>0.428333</td>\n",
       "      <td>0.443333</td>\n",
       "      <td>0.416667</td>\n",
       "      <td>0.438000</td>\n",
       "      <td>0.020369</td>\n",
       "      <td>13</td>\n",
       "    </tr>\n",
       "    <tr>\n",
       "      <th>5</th>\n",
       "      <td>9.974354</td>\n",
       "      <td>0.622389</td>\n",
       "      <td>1.491086</td>\n",
       "      <td>0.020249</td>\n",
       "      <td>5</td>\n",
       "      <td>rbf</td>\n",
       "      <td>0.1</td>\n",
       "      <td>{'C': 5, 'gamma': 0.1, 'kernel': 'rbf'}</td>\n",
       "      <td>0.466667</td>\n",
       "      <td>0.490000</td>\n",
       "      <td>0.450000</td>\n",
       "      <td>0.463333</td>\n",
       "      <td>0.445000</td>\n",
       "      <td>0.463000</td>\n",
       "      <td>0.015720</td>\n",
       "      <td>7</td>\n",
       "    </tr>\n",
       "    <tr>\n",
       "      <th>6</th>\n",
       "      <td>11.645516</td>\n",
       "      <td>0.691682</td>\n",
       "      <td>1.557099</td>\n",
       "      <td>0.027367</td>\n",
       "      <td>5</td>\n",
       "      <td>rbf</td>\n",
       "      <td>1</td>\n",
       "      <td>{'C': 5, 'gamma': 1, 'kernel': 'rbf'}</td>\n",
       "      <td>0.435000</td>\n",
       "      <td>0.461667</td>\n",
       "      <td>0.453333</td>\n",
       "      <td>0.461667</td>\n",
       "      <td>0.441667</td>\n",
       "      <td>0.450667</td>\n",
       "      <td>0.010729</td>\n",
       "      <td>12</td>\n",
       "    </tr>\n",
       "    <tr>\n",
       "      <th>7</th>\n",
       "      <td>9.737890</td>\n",
       "      <td>0.284963</td>\n",
       "      <td>1.475740</td>\n",
       "      <td>0.045945</td>\n",
       "      <td>10</td>\n",
       "      <td>rbf</td>\n",
       "      <td>0.05</td>\n",
       "      <td>{'C': 10, 'gamma': 0.05, 'kernel': 'rbf'}</td>\n",
       "      <td>0.465000</td>\n",
       "      <td>0.485000</td>\n",
       "      <td>0.448333</td>\n",
       "      <td>0.463333</td>\n",
       "      <td>0.446667</td>\n",
       "      <td>0.461667</td>\n",
       "      <td>0.013864</td>\n",
       "      <td>9</td>\n",
       "    </tr>\n",
       "    <tr>\n",
       "      <th>8</th>\n",
       "      <td>10.293081</td>\n",
       "      <td>0.136632</td>\n",
       "      <td>1.444221</td>\n",
       "      <td>0.020708</td>\n",
       "      <td>10</td>\n",
       "      <td>rbf</td>\n",
       "      <td>0.1</td>\n",
       "      <td>{'C': 10, 'gamma': 0.1, 'kernel': 'rbf'}</td>\n",
       "      <td>0.456667</td>\n",
       "      <td>0.478333</td>\n",
       "      <td>0.470000</td>\n",
       "      <td>0.478333</td>\n",
       "      <td>0.458333</td>\n",
       "      <td>0.468333</td>\n",
       "      <td>0.009369</td>\n",
       "      <td>1</td>\n",
       "    </tr>\n",
       "    <tr>\n",
       "      <th>9</th>\n",
       "      <td>11.172995</td>\n",
       "      <td>0.252180</td>\n",
       "      <td>1.545518</td>\n",
       "      <td>0.018555</td>\n",
       "      <td>10</td>\n",
       "      <td>rbf</td>\n",
       "      <td>1</td>\n",
       "      <td>{'C': 10, 'gamma': 1, 'kernel': 'rbf'}</td>\n",
       "      <td>0.436667</td>\n",
       "      <td>0.463333</td>\n",
       "      <td>0.458333</td>\n",
       "      <td>0.461667</td>\n",
       "      <td>0.441667</td>\n",
       "      <td>0.452333</td>\n",
       "      <td>0.010985</td>\n",
       "      <td>10</td>\n",
       "    </tr>\n",
       "    <tr>\n",
       "      <th>10</th>\n",
       "      <td>10.309876</td>\n",
       "      <td>0.104007</td>\n",
       "      <td>1.467803</td>\n",
       "      <td>0.026417</td>\n",
       "      <td>20</td>\n",
       "      <td>rbf</td>\n",
       "      <td>0.05</td>\n",
       "      <td>{'C': 20, 'gamma': 0.05, 'kernel': 'rbf'}</td>\n",
       "      <td>0.453333</td>\n",
       "      <td>0.478333</td>\n",
       "      <td>0.466667</td>\n",
       "      <td>0.471667</td>\n",
       "      <td>0.460000</td>\n",
       "      <td>0.466000</td>\n",
       "      <td>0.008731</td>\n",
       "      <td>2</td>\n",
       "    </tr>\n",
       "    <tr>\n",
       "      <th>11</th>\n",
       "      <td>10.771947</td>\n",
       "      <td>0.786589</td>\n",
       "      <td>1.488003</td>\n",
       "      <td>0.048449</td>\n",
       "      <td>20</td>\n",
       "      <td>rbf</td>\n",
       "      <td>0.1</td>\n",
       "      <td>{'C': 20, 'gamma': 0.1, 'kernel': 'rbf'}</td>\n",
       "      <td>0.460000</td>\n",
       "      <td>0.475000</td>\n",
       "      <td>0.470000</td>\n",
       "      <td>0.461667</td>\n",
       "      <td>0.453333</td>\n",
       "      <td>0.464000</td>\n",
       "      <td>0.007645</td>\n",
       "      <td>4</td>\n",
       "    </tr>\n",
       "    <tr>\n",
       "      <th>12</th>\n",
       "      <td>11.820706</td>\n",
       "      <td>0.735048</td>\n",
       "      <td>1.593003</td>\n",
       "      <td>0.079671</td>\n",
       "      <td>20</td>\n",
       "      <td>rbf</td>\n",
       "      <td>1</td>\n",
       "      <td>{'C': 20, 'gamma': 1, 'kernel': 'rbf'}</td>\n",
       "      <td>0.438333</td>\n",
       "      <td>0.463333</td>\n",
       "      <td>0.456667</td>\n",
       "      <td>0.463333</td>\n",
       "      <td>0.440000</td>\n",
       "      <td>0.452333</td>\n",
       "      <td>0.011035</td>\n",
       "      <td>10</td>\n",
       "    </tr>\n",
       "  </tbody>\n",
       "</table>\n",
       "</div>"
      ],
      "text/plain": [
       "    mean_fit_time  std_fit_time  mean_score_time  std_score_time param_C  \\\n",
       "0       10.962164      1.899112         1.796550        0.391193       1   \n",
       "1       10.278743      0.644620         1.427817        0.007113       2   \n",
       "2       12.415118      1.673009         1.680991        0.308198       5   \n",
       "3       10.102228      0.289323         1.451897        0.045478      10   \n",
       "4       10.690036      0.651324         1.549457        0.098243       5   \n",
       "5        9.974354      0.622389         1.491086        0.020249       5   \n",
       "6       11.645516      0.691682         1.557099        0.027367       5   \n",
       "7        9.737890      0.284963         1.475740        0.045945      10   \n",
       "8       10.293081      0.136632         1.444221        0.020708      10   \n",
       "9       11.172995      0.252180         1.545518        0.018555      10   \n",
       "10      10.309876      0.104007         1.467803        0.026417      20   \n",
       "11      10.771947      0.786589         1.488003        0.048449      20   \n",
       "12      11.820706      0.735048         1.593003        0.079671      20   \n",
       "\n",
       "   param_kernel param_gamma                                     params  \\\n",
       "0        linear         NaN               {'C': 1, 'kernel': 'linear'}   \n",
       "1        linear         NaN               {'C': 2, 'kernel': 'linear'}   \n",
       "2        linear         NaN               {'C': 5, 'kernel': 'linear'}   \n",
       "3        linear         NaN              {'C': 10, 'kernel': 'linear'}   \n",
       "4           rbf        0.05   {'C': 5, 'gamma': 0.05, 'kernel': 'rbf'}   \n",
       "5           rbf         0.1    {'C': 5, 'gamma': 0.1, 'kernel': 'rbf'}   \n",
       "6           rbf           1      {'C': 5, 'gamma': 1, 'kernel': 'rbf'}   \n",
       "7           rbf        0.05  {'C': 10, 'gamma': 0.05, 'kernel': 'rbf'}   \n",
       "8           rbf         0.1   {'C': 10, 'gamma': 0.1, 'kernel': 'rbf'}   \n",
       "9           rbf           1     {'C': 10, 'gamma': 1, 'kernel': 'rbf'}   \n",
       "10          rbf        0.05  {'C': 20, 'gamma': 0.05, 'kernel': 'rbf'}   \n",
       "11          rbf         0.1   {'C': 20, 'gamma': 0.1, 'kernel': 'rbf'}   \n",
       "12          rbf           1     {'C': 20, 'gamma': 1, 'kernel': 'rbf'}   \n",
       "\n",
       "    split0_test_score  split1_test_score  split2_test_score  \\\n",
       "0            0.465000           0.486667           0.455000   \n",
       "1            0.451667           0.470000           0.465000   \n",
       "2            0.450000           0.463333           0.475000   \n",
       "3            0.460000           0.461667           0.476667   \n",
       "4            0.426667           0.475000           0.428333   \n",
       "5            0.466667           0.490000           0.450000   \n",
       "6            0.435000           0.461667           0.453333   \n",
       "7            0.465000           0.485000           0.448333   \n",
       "8            0.456667           0.478333           0.470000   \n",
       "9            0.436667           0.463333           0.458333   \n",
       "10           0.453333           0.478333           0.466667   \n",
       "11           0.460000           0.475000           0.470000   \n",
       "12           0.438333           0.463333           0.456667   \n",
       "\n",
       "    split3_test_score  split4_test_score  mean_test_score  std_test_score  \\\n",
       "0            0.456667           0.455000         0.463667        0.012083   \n",
       "1            0.473333           0.458333         0.463667        0.007846   \n",
       "2            0.465000           0.460000         0.462667        0.008069   \n",
       "3            0.470000           0.455000         0.464667        0.007703   \n",
       "4            0.443333           0.416667         0.438000        0.020369   \n",
       "5            0.463333           0.445000         0.463000        0.015720   \n",
       "6            0.461667           0.441667         0.450667        0.010729   \n",
       "7            0.463333           0.446667         0.461667        0.013864   \n",
       "8            0.478333           0.458333         0.468333        0.009369   \n",
       "9            0.461667           0.441667         0.452333        0.010985   \n",
       "10           0.471667           0.460000         0.466000        0.008731   \n",
       "11           0.461667           0.453333         0.464000        0.007645   \n",
       "12           0.463333           0.440000         0.452333        0.011035   \n",
       "\n",
       "    rank_test_score  \n",
       "0                 5  \n",
       "1                 5  \n",
       "2                 8  \n",
       "3                 3  \n",
       "4                13  \n",
       "5                 7  \n",
       "6                12  \n",
       "7                 9  \n",
       "8                 1  \n",
       "9                10  \n",
       "10                2  \n",
       "11                4  \n",
       "12               10  "
      ]
     },
     "execution_count": 198,
     "metadata": {},
     "output_type": "execute_result"
    }
   ],
   "source": [
    "cv_results_table = pd.DataFrame(cv_results['title'][2])\n",
    "cv_results_table.head(15)"
   ]
  },
  {
   "cell_type": "code",
   "execution_count": 199,
   "metadata": {},
   "outputs": [
    {
     "name": "stdout",
     "output_type": "stream",
     "text": [
      "----Support Vector Machine-----\n",
      "use_title:  title , max_df:  1.0\n",
      "Fitting 5 folds for each of 16 candidates, totalling 80 fits\n",
      "[CV] C=8, gamma=0.08, kernel=rbf .....................................\n"
     ]
    },
    {
     "name": "stderr",
     "output_type": "stream",
     "text": [
      "[Parallel(n_jobs=1)]: Using backend SequentialBackend with 1 concurrent workers.\n"
     ]
    },
    {
     "name": "stdout",
     "output_type": "stream",
     "text": [
      "[CV] ...................... C=8, gamma=0.08, kernel=rbf, total=  11.8s\n",
      "[CV] C=8, gamma=0.08, kernel=rbf .....................................\n"
     ]
    },
    {
     "name": "stderr",
     "output_type": "stream",
     "text": [
      "[Parallel(n_jobs=1)]: Done   1 out of   1 | elapsed:   11.8s remaining:    0.0s\n"
     ]
    },
    {
     "name": "stdout",
     "output_type": "stream",
     "text": [
      "[CV] ...................... C=8, gamma=0.08, kernel=rbf, total=  11.6s\n",
      "[CV] C=8, gamma=0.08, kernel=rbf .....................................\n",
      "[CV] ...................... C=8, gamma=0.08, kernel=rbf, total=  12.1s\n",
      "[CV] C=8, gamma=0.08, kernel=rbf .....................................\n",
      "[CV] ...................... C=8, gamma=0.08, kernel=rbf, total=  11.9s\n",
      "[CV] C=8, gamma=0.08, kernel=rbf .....................................\n",
      "[CV] ...................... C=8, gamma=0.08, kernel=rbf, total=  11.6s\n",
      "[CV] C=8, gamma=0.1, kernel=rbf ......................................\n",
      "[CV] ....................... C=8, gamma=0.1, kernel=rbf, total=  12.0s\n",
      "[CV] C=8, gamma=0.1, kernel=rbf ......................................\n",
      "[CV] ....................... C=8, gamma=0.1, kernel=rbf, total=  11.8s\n",
      "[CV] C=8, gamma=0.1, kernel=rbf ......................................\n",
      "[CV] ....................... C=8, gamma=0.1, kernel=rbf, total=  11.8s\n",
      "[CV] C=8, gamma=0.1, kernel=rbf ......................................\n",
      "[CV] ....................... C=8, gamma=0.1, kernel=rbf, total=  11.8s\n",
      "[CV] C=8, gamma=0.1, kernel=rbf ......................................\n",
      "[CV] ....................... C=8, gamma=0.1, kernel=rbf, total=  12.4s\n",
      "[CV] C=8, gamma=0.2, kernel=rbf ......................................\n",
      "[CV] ....................... C=8, gamma=0.2, kernel=rbf, total=  13.4s\n",
      "[CV] C=8, gamma=0.2, kernel=rbf ......................................\n",
      "[CV] ....................... C=8, gamma=0.2, kernel=rbf, total=  12.2s\n",
      "[CV] C=8, gamma=0.2, kernel=rbf ......................................\n",
      "[CV] ....................... C=8, gamma=0.2, kernel=rbf, total=  12.3s\n",
      "[CV] C=8, gamma=0.2, kernel=rbf ......................................\n",
      "[CV] ....................... C=8, gamma=0.2, kernel=rbf, total=  12.3s\n",
      "[CV] C=8, gamma=0.2, kernel=rbf ......................................\n",
      "[CV] ....................... C=8, gamma=0.2, kernel=rbf, total=  11.9s\n",
      "[CV] C=8, gamma=0.5, kernel=rbf ......................................\n",
      "[CV] ....................... C=8, gamma=0.5, kernel=rbf, total=  13.4s\n",
      "[CV] C=8, gamma=0.5, kernel=rbf ......................................\n",
      "[CV] ....................... C=8, gamma=0.5, kernel=rbf, total=  14.6s\n",
      "[CV] C=8, gamma=0.5, kernel=rbf ......................................\n",
      "[CV] ....................... C=8, gamma=0.5, kernel=rbf, total=  13.0s\n",
      "[CV] C=8, gamma=0.5, kernel=rbf ......................................\n",
      "[CV] ....................... C=8, gamma=0.5, kernel=rbf, total=  12.5s\n",
      "[CV] C=8, gamma=0.5, kernel=rbf ......................................\n",
      "[CV] ....................... C=8, gamma=0.5, kernel=rbf, total=  12.4s\n",
      "[CV] C=10, gamma=0.08, kernel=rbf ....................................\n",
      "[CV] ..................... C=10, gamma=0.08, kernel=rbf, total=  11.8s\n",
      "[CV] C=10, gamma=0.08, kernel=rbf ....................................\n",
      "[CV] ..................... C=10, gamma=0.08, kernel=rbf, total=  11.8s\n",
      "[CV] C=10, gamma=0.08, kernel=rbf ....................................\n",
      "[CV] ..................... C=10, gamma=0.08, kernel=rbf, total=  11.7s\n",
      "[CV] C=10, gamma=0.08, kernel=rbf ....................................\n",
      "[CV] ..................... C=10, gamma=0.08, kernel=rbf, total=  11.6s\n",
      "[CV] C=10, gamma=0.08, kernel=rbf ....................................\n",
      "[CV] ..................... C=10, gamma=0.08, kernel=rbf, total=  12.0s\n",
      "[CV] C=10, gamma=0.1, kernel=rbf .....................................\n",
      "[CV] ...................... C=10, gamma=0.1, kernel=rbf, total=  11.8s\n",
      "[CV] C=10, gamma=0.1, kernel=rbf .....................................\n",
      "[CV] ...................... C=10, gamma=0.1, kernel=rbf, total=  12.4s\n",
      "[CV] C=10, gamma=0.1, kernel=rbf .....................................\n",
      "[CV] ...................... C=10, gamma=0.1, kernel=rbf, total=  11.9s\n",
      "[CV] C=10, gamma=0.1, kernel=rbf .....................................\n",
      "[CV] ...................... C=10, gamma=0.1, kernel=rbf, total=  11.9s\n",
      "[CV] C=10, gamma=0.1, kernel=rbf .....................................\n",
      "[CV] ...................... C=10, gamma=0.1, kernel=rbf, total=  11.9s\n",
      "[CV] C=10, gamma=0.2, kernel=rbf .....................................\n",
      "[CV] ...................... C=10, gamma=0.2, kernel=rbf, total=  14.4s\n",
      "[CV] C=10, gamma=0.2, kernel=rbf .....................................\n",
      "[CV] ...................... C=10, gamma=0.2, kernel=rbf, total=  12.0s\n",
      "[CV] C=10, gamma=0.2, kernel=rbf .....................................\n",
      "[CV] ...................... C=10, gamma=0.2, kernel=rbf, total=  11.9s\n",
      "[CV] C=10, gamma=0.2, kernel=rbf .....................................\n",
      "[CV] ...................... C=10, gamma=0.2, kernel=rbf, total=  11.9s\n",
      "[CV] C=10, gamma=0.2, kernel=rbf .....................................\n",
      "[CV] ...................... C=10, gamma=0.2, kernel=rbf, total=  12.2s\n",
      "[CV] C=10, gamma=0.5, kernel=rbf .....................................\n",
      "[CV] ...................... C=10, gamma=0.5, kernel=rbf, total=  12.3s\n",
      "[CV] C=10, gamma=0.5, kernel=rbf .....................................\n",
      "[CV] ...................... C=10, gamma=0.5, kernel=rbf, total=  12.3s\n",
      "[CV] C=10, gamma=0.5, kernel=rbf .....................................\n",
      "[CV] ...................... C=10, gamma=0.5, kernel=rbf, total=  12.3s\n",
      "[CV] C=10, gamma=0.5, kernel=rbf .....................................\n",
      "[CV] ...................... C=10, gamma=0.5, kernel=rbf, total=  12.3s\n",
      "[CV] C=10, gamma=0.5, kernel=rbf .....................................\n",
      "[CV] ...................... C=10, gamma=0.5, kernel=rbf, total=  13.8s\n",
      "[CV] C=12, gamma=0.08, kernel=rbf ....................................\n",
      "[CV] ..................... C=12, gamma=0.08, kernel=rbf, total=  11.6s\n",
      "[CV] C=12, gamma=0.08, kernel=rbf ....................................\n",
      "[CV] ..................... C=12, gamma=0.08, kernel=rbf, total=  11.6s\n",
      "[CV] C=12, gamma=0.08, kernel=rbf ....................................\n",
      "[CV] ..................... C=12, gamma=0.08, kernel=rbf, total=  11.6s\n",
      "[CV] C=12, gamma=0.08, kernel=rbf ....................................\n",
      "[CV] ..................... C=12, gamma=0.08, kernel=rbf, total=  11.9s\n",
      "[CV] C=12, gamma=0.08, kernel=rbf ....................................\n",
      "[CV] ..................... C=12, gamma=0.08, kernel=rbf, total=  11.9s\n",
      "[CV] C=12, gamma=0.1, kernel=rbf .....................................\n",
      "[CV] ...................... C=12, gamma=0.1, kernel=rbf, total=  11.7s\n",
      "[CV] C=12, gamma=0.1, kernel=rbf .....................................\n",
      "[CV] ...................... C=12, gamma=0.1, kernel=rbf, total=  11.7s\n",
      "[CV] C=12, gamma=0.1, kernel=rbf .....................................\n",
      "[CV] ...................... C=12, gamma=0.1, kernel=rbf, total=  12.7s\n",
      "[CV] C=12, gamma=0.1, kernel=rbf .....................................\n",
      "[CV] ...................... C=12, gamma=0.1, kernel=rbf, total=  12.2s\n",
      "[CV] C=12, gamma=0.1, kernel=rbf .....................................\n",
      "[CV] ...................... C=12, gamma=0.1, kernel=rbf, total=  12.2s\n",
      "[CV] C=12, gamma=0.2, kernel=rbf .....................................\n",
      "[CV] ...................... C=12, gamma=0.2, kernel=rbf, total=  12.3s\n",
      "[CV] C=12, gamma=0.2, kernel=rbf .....................................\n",
      "[CV] ...................... C=12, gamma=0.2, kernel=rbf, total=  11.9s\n",
      "[CV] C=12, gamma=0.2, kernel=rbf .....................................\n",
      "[CV] ...................... C=12, gamma=0.2, kernel=rbf, total=  12.0s\n",
      "[CV] C=12, gamma=0.2, kernel=rbf .....................................\n",
      "[CV] ...................... C=12, gamma=0.2, kernel=rbf, total=  12.2s\n",
      "[CV] C=12, gamma=0.2, kernel=rbf .....................................\n",
      "[CV] ...................... C=12, gamma=0.2, kernel=rbf, total=  12.5s\n",
      "[CV] C=12, gamma=0.5, kernel=rbf .....................................\n",
      "[CV] ...................... C=12, gamma=0.5, kernel=rbf, total=  12.2s\n",
      "[CV] C=12, gamma=0.5, kernel=rbf .....................................\n",
      "[CV] ...................... C=12, gamma=0.5, kernel=rbf, total=  12.3s\n",
      "[CV] C=12, gamma=0.5, kernel=rbf .....................................\n",
      "[CV] ...................... C=12, gamma=0.5, kernel=rbf, total=  12.6s\n",
      "[CV] C=12, gamma=0.5, kernel=rbf .....................................\n",
      "[CV] ...................... C=12, gamma=0.5, kernel=rbf, total=  12.3s\n",
      "[CV] C=12, gamma=0.5, kernel=rbf .....................................\n"
     ]
    },
    {
     "name": "stdout",
     "output_type": "stream",
     "text": [
      "[CV] ...................... C=12, gamma=0.5, kernel=rbf, total=  12.3s\n",
      "[CV] C=15, gamma=0.08, kernel=rbf ....................................\n",
      "[CV] ..................... C=15, gamma=0.08, kernel=rbf, total=  11.7s\n",
      "[CV] C=15, gamma=0.08, kernel=rbf ....................................\n",
      "[CV] ..................... C=15, gamma=0.08, kernel=rbf, total=  11.8s\n",
      "[CV] C=15, gamma=0.08, kernel=rbf ....................................\n",
      "[CV] ..................... C=15, gamma=0.08, kernel=rbf, total=  11.7s\n",
      "[CV] C=15, gamma=0.08, kernel=rbf ....................................\n",
      "[CV] ..................... C=15, gamma=0.08, kernel=rbf, total=  15.6s\n",
      "[CV] C=15, gamma=0.08, kernel=rbf ....................................\n",
      "[CV] ..................... C=15, gamma=0.08, kernel=rbf, total=  11.8s\n",
      "[CV] C=15, gamma=0.1, kernel=rbf .....................................\n",
      "[CV] ...................... C=15, gamma=0.1, kernel=rbf, total=  12.2s\n",
      "[CV] C=15, gamma=0.1, kernel=rbf .....................................\n",
      "[CV] ...................... C=15, gamma=0.1, kernel=rbf, total=  12.6s\n",
      "[CV] C=15, gamma=0.1, kernel=rbf .....................................\n",
      "[CV] ...................... C=15, gamma=0.1, kernel=rbf, total=  11.9s\n",
      "[CV] C=15, gamma=0.1, kernel=rbf .....................................\n",
      "[CV] ...................... C=15, gamma=0.1, kernel=rbf, total=  11.9s\n",
      "[CV] C=15, gamma=0.1, kernel=rbf .....................................\n",
      "[CV] ...................... C=15, gamma=0.1, kernel=rbf, total=  11.6s\n",
      "[CV] C=15, gamma=0.2, kernel=rbf .....................................\n",
      "[CV] ...................... C=15, gamma=0.2, kernel=rbf, total=  11.9s\n",
      "[CV] C=15, gamma=0.2, kernel=rbf .....................................\n",
      "[CV] ...................... C=15, gamma=0.2, kernel=rbf, total=  12.0s\n",
      "[CV] C=15, gamma=0.2, kernel=rbf .....................................\n",
      "[CV] ...................... C=15, gamma=0.2, kernel=rbf, total=  11.9s\n",
      "[CV] C=15, gamma=0.2, kernel=rbf .....................................\n",
      "[CV] ...................... C=15, gamma=0.2, kernel=rbf, total=  11.9s\n",
      "[CV] C=15, gamma=0.2, kernel=rbf .....................................\n",
      "[CV] ...................... C=15, gamma=0.2, kernel=rbf, total=  12.1s\n",
      "[CV] C=15, gamma=0.5, kernel=rbf .....................................\n",
      "[CV] ...................... C=15, gamma=0.5, kernel=rbf, total=  12.3s\n",
      "[CV] C=15, gamma=0.5, kernel=rbf .....................................\n",
      "[CV] ...................... C=15, gamma=0.5, kernel=rbf, total=  12.3s\n",
      "[CV] C=15, gamma=0.5, kernel=rbf .....................................\n",
      "[CV] ...................... C=15, gamma=0.5, kernel=rbf, total=  12.7s\n",
      "[CV] C=15, gamma=0.5, kernel=rbf .....................................\n",
      "[CV] ...................... C=15, gamma=0.5, kernel=rbf, total=  12.3s\n",
      "[CV] C=15, gamma=0.5, kernel=rbf .....................................\n",
      "[CV] ...................... C=15, gamma=0.5, kernel=rbf, total=  12.8s\n"
     ]
    },
    {
     "name": "stderr",
     "output_type": "stream",
     "text": [
      "[Parallel(n_jobs=1)]: Done  80 out of  80 | elapsed: 16.3min finished\n"
     ]
    },
    {
     "name": "stdout",
     "output_type": "stream",
     "text": [
      "Best parameters:  {'C': 10, 'gamma': 0.1, 'kernel': 'rbf'}\n",
      "CV score for each fold (best estimator):  [0.45666667 0.47833333 0.47       0.47833333 0.45833333]\n",
      "CV score averaged across folds (best estimator):  0.4683333333333334\n",
      "Training accuracy (best estimator):  0.939\n",
      "Test accuracy (best estimator):  0.476\n"
     ]
    }
   ],
   "source": [
    "params = {'kernel' : ['rbf'], 'C': [8, 10, 12, 15], 'gamma' : [8e-2, 1e-1, 2e-1, 5e-1]}\n",
    "classifier = SVC()\n",
    "print('----Support Vector Machine-----')\n",
    "algorithm_comparison.loc[i, 'algorithm'] = 'SVM'\n",
    "# chose one with highest variance explained by SVD\n",
    "algorithm_score(classifier, params, True, 2, i)\n",
    "i += 1"
   ]
  },
  {
   "cell_type": "code",
   "execution_count": 201,
   "metadata": {},
   "outputs": [
    {
     "data": {
      "text/html": [
       "<div>\n",
       "<style scoped>\n",
       "    .dataframe tbody tr th:only-of-type {\n",
       "        vertical-align: middle;\n",
       "    }\n",
       "\n",
       "    .dataframe tbody tr th {\n",
       "        vertical-align: top;\n",
       "    }\n",
       "\n",
       "    .dataframe thead th {\n",
       "        text-align: right;\n",
       "    }\n",
       "</style>\n",
       "<table border=\"1\" class=\"dataframe\">\n",
       "  <thead>\n",
       "    <tr style=\"text-align: right;\">\n",
       "      <th></th>\n",
       "      <th>mean_fit_time</th>\n",
       "      <th>std_fit_time</th>\n",
       "      <th>mean_score_time</th>\n",
       "      <th>std_score_time</th>\n",
       "      <th>param_C</th>\n",
       "      <th>param_gamma</th>\n",
       "      <th>param_kernel</th>\n",
       "      <th>params</th>\n",
       "      <th>split0_test_score</th>\n",
       "      <th>split1_test_score</th>\n",
       "      <th>split2_test_score</th>\n",
       "      <th>split3_test_score</th>\n",
       "      <th>split4_test_score</th>\n",
       "      <th>mean_test_score</th>\n",
       "      <th>std_test_score</th>\n",
       "      <th>rank_test_score</th>\n",
       "    </tr>\n",
       "  </thead>\n",
       "  <tbody>\n",
       "    <tr>\n",
       "      <th>0</th>\n",
       "      <td>10.319890</td>\n",
       "      <td>0.172071</td>\n",
       "      <td>1.475496</td>\n",
       "      <td>0.023569</td>\n",
       "      <td>8</td>\n",
       "      <td>0.08</td>\n",
       "      <td>rbf</td>\n",
       "      <td>{'C': 8, 'gamma': 0.08, 'kernel': 'rbf'}</td>\n",
       "      <td>0.465000</td>\n",
       "      <td>0.470000</td>\n",
       "      <td>0.460000</td>\n",
       "      <td>0.465000</td>\n",
       "      <td>0.450000</td>\n",
       "      <td>0.462000</td>\n",
       "      <td>0.006782</td>\n",
       "      <td>6</td>\n",
       "    </tr>\n",
       "    <tr>\n",
       "      <th>1</th>\n",
       "      <td>10.419829</td>\n",
       "      <td>0.115479</td>\n",
       "      <td>1.554075</td>\n",
       "      <td>0.151192</td>\n",
       "      <td>8</td>\n",
       "      <td>0.1</td>\n",
       "      <td>rbf</td>\n",
       "      <td>{'C': 8, 'gamma': 0.1, 'kernel': 'rbf'}</td>\n",
       "      <td>0.460000</td>\n",
       "      <td>0.461667</td>\n",
       "      <td>0.463333</td>\n",
       "      <td>0.461667</td>\n",
       "      <td>0.456667</td>\n",
       "      <td>0.460667</td>\n",
       "      <td>0.002261</td>\n",
       "      <td>11</td>\n",
       "    </tr>\n",
       "    <tr>\n",
       "      <th>2</th>\n",
       "      <td>10.896429</td>\n",
       "      <td>0.535251</td>\n",
       "      <td>1.512668</td>\n",
       "      <td>0.077884</td>\n",
       "      <td>8</td>\n",
       "      <td>0.2</td>\n",
       "      <td>rbf</td>\n",
       "      <td>{'C': 8, 'gamma': 0.2, 'kernel': 'rbf'}</td>\n",
       "      <td>0.458333</td>\n",
       "      <td>0.475000</td>\n",
       "      <td>0.463333</td>\n",
       "      <td>0.463333</td>\n",
       "      <td>0.451667</td>\n",
       "      <td>0.462333</td>\n",
       "      <td>0.007645</td>\n",
       "      <td>3</td>\n",
       "    </tr>\n",
       "    <tr>\n",
       "      <th>3</th>\n",
       "      <td>11.638259</td>\n",
       "      <td>0.783711</td>\n",
       "      <td>1.533653</td>\n",
       "      <td>0.027578</td>\n",
       "      <td>8</td>\n",
       "      <td>0.5</td>\n",
       "      <td>rbf</td>\n",
       "      <td>{'C': 8, 'gamma': 0.5, 'kernel': 'rbf'}</td>\n",
       "      <td>0.446667</td>\n",
       "      <td>0.481667</td>\n",
       "      <td>0.468333</td>\n",
       "      <td>0.463333</td>\n",
       "      <td>0.443333</td>\n",
       "      <td>0.460667</td>\n",
       "      <td>0.014166</td>\n",
       "      <td>11</td>\n",
       "    </tr>\n",
       "    <tr>\n",
       "      <th>4</th>\n",
       "      <td>10.289085</td>\n",
       "      <td>0.104853</td>\n",
       "      <td>1.474953</td>\n",
       "      <td>0.015511</td>\n",
       "      <td>10</td>\n",
       "      <td>0.08</td>\n",
       "      <td>rbf</td>\n",
       "      <td>{'C': 10, 'gamma': 0.08, 'kernel': 'rbf'}</td>\n",
       "      <td>0.456667</td>\n",
       "      <td>0.465000</td>\n",
       "      <td>0.461667</td>\n",
       "      <td>0.461667</td>\n",
       "      <td>0.456667</td>\n",
       "      <td>0.460333</td>\n",
       "      <td>0.003232</td>\n",
       "      <td>15</td>\n",
       "    </tr>\n",
       "    <tr>\n",
       "      <th>5</th>\n",
       "      <td>10.496016</td>\n",
       "      <td>0.192512</td>\n",
       "      <td>1.482595</td>\n",
       "      <td>0.012889</td>\n",
       "      <td>10</td>\n",
       "      <td>0.1</td>\n",
       "      <td>rbf</td>\n",
       "      <td>{'C': 10, 'gamma': 0.1, 'kernel': 'rbf'}</td>\n",
       "      <td>0.456667</td>\n",
       "      <td>0.478333</td>\n",
       "      <td>0.470000</td>\n",
       "      <td>0.478333</td>\n",
       "      <td>0.458333</td>\n",
       "      <td>0.468333</td>\n",
       "      <td>0.009369</td>\n",
       "      <td>1</td>\n",
       "    </tr>\n",
       "    <tr>\n",
       "      <th>6</th>\n",
       "      <td>11.015642</td>\n",
       "      <td>0.923417</td>\n",
       "      <td>1.474927</td>\n",
       "      <td>0.043820</td>\n",
       "      <td>10</td>\n",
       "      <td>0.2</td>\n",
       "      <td>rbf</td>\n",
       "      <td>{'C': 10, 'gamma': 0.2, 'kernel': 'rbf'}</td>\n",
       "      <td>0.453333</td>\n",
       "      <td>0.475000</td>\n",
       "      <td>0.466667</td>\n",
       "      <td>0.460000</td>\n",
       "      <td>0.450000</td>\n",
       "      <td>0.461000</td>\n",
       "      <td>0.009043</td>\n",
       "      <td>10</td>\n",
       "    </tr>\n",
       "    <tr>\n",
       "      <th>7</th>\n",
       "      <td>11.106971</td>\n",
       "      <td>0.605930</td>\n",
       "      <td>1.493708</td>\n",
       "      <td>0.024272</td>\n",
       "      <td>10</td>\n",
       "      <td>0.5</td>\n",
       "      <td>rbf</td>\n",
       "      <td>{'C': 10, 'gamma': 0.5, 'kernel': 'rbf'}</td>\n",
       "      <td>0.443333</td>\n",
       "      <td>0.481667</td>\n",
       "      <td>0.473333</td>\n",
       "      <td>0.463333</td>\n",
       "      <td>0.441667</td>\n",
       "      <td>0.460667</td>\n",
       "      <td>0.015937</td>\n",
       "      <td>11</td>\n",
       "    </tr>\n",
       "    <tr>\n",
       "      <th>8</th>\n",
       "      <td>10.280615</td>\n",
       "      <td>0.130879</td>\n",
       "      <td>1.452214</td>\n",
       "      <td>0.019096</td>\n",
       "      <td>12</td>\n",
       "      <td>0.08</td>\n",
       "      <td>rbf</td>\n",
       "      <td>{'C': 12, 'gamma': 0.08, 'kernel': 'rbf'}</td>\n",
       "      <td>0.456667</td>\n",
       "      <td>0.476667</td>\n",
       "      <td>0.470000</td>\n",
       "      <td>0.476667</td>\n",
       "      <td>0.456667</td>\n",
       "      <td>0.467333</td>\n",
       "      <td>0.009043</td>\n",
       "      <td>2</td>\n",
       "    </tr>\n",
       "    <tr>\n",
       "      <th>9</th>\n",
       "      <td>10.625291</td>\n",
       "      <td>0.315965</td>\n",
       "      <td>1.492050</td>\n",
       "      <td>0.038304</td>\n",
       "      <td>12</td>\n",
       "      <td>0.1</td>\n",
       "      <td>rbf</td>\n",
       "      <td>{'C': 12, 'gamma': 0.1, 'kernel': 'rbf'}</td>\n",
       "      <td>0.456667</td>\n",
       "      <td>0.460000</td>\n",
       "      <td>0.470000</td>\n",
       "      <td>0.463333</td>\n",
       "      <td>0.458333</td>\n",
       "      <td>0.461667</td>\n",
       "      <td>0.004714</td>\n",
       "      <td>7</td>\n",
       "    </tr>\n",
       "    <tr>\n",
       "      <th>10</th>\n",
       "      <td>10.727392</td>\n",
       "      <td>0.207798</td>\n",
       "      <td>1.465746</td>\n",
       "      <td>0.020563</td>\n",
       "      <td>12</td>\n",
       "      <td>0.2</td>\n",
       "      <td>rbf</td>\n",
       "      <td>{'C': 12, 'gamma': 0.2, 'kernel': 'rbf'}</td>\n",
       "      <td>0.453333</td>\n",
       "      <td>0.473333</td>\n",
       "      <td>0.473333</td>\n",
       "      <td>0.461667</td>\n",
       "      <td>0.445000</td>\n",
       "      <td>0.461333</td>\n",
       "      <td>0.011126</td>\n",
       "      <td>8</td>\n",
       "    </tr>\n",
       "    <tr>\n",
       "      <th>11</th>\n",
       "      <td>10.838334</td>\n",
       "      <td>0.138512</td>\n",
       "      <td>1.494905</td>\n",
       "      <td>0.016758</td>\n",
       "      <td>12</td>\n",
       "      <td>0.5</td>\n",
       "      <td>rbf</td>\n",
       "      <td>{'C': 12, 'gamma': 0.5, 'kernel': 'rbf'}</td>\n",
       "      <td>0.441667</td>\n",
       "      <td>0.480000</td>\n",
       "      <td>0.475000</td>\n",
       "      <td>0.461667</td>\n",
       "      <td>0.445000</td>\n",
       "      <td>0.460667</td>\n",
       "      <td>0.015406</td>\n",
       "      <td>11</td>\n",
       "    </tr>\n",
       "    <tr>\n",
       "      <th>12</th>\n",
       "      <td>11.036849</td>\n",
       "      <td>1.514841</td>\n",
       "      <td>1.461173</td>\n",
       "      <td>0.032808</td>\n",
       "      <td>15</td>\n",
       "      <td>0.08</td>\n",
       "      <td>rbf</td>\n",
       "      <td>{'C': 15, 'gamma': 0.08, 'kernel': 'rbf'}</td>\n",
       "      <td>0.453333</td>\n",
       "      <td>0.461667</td>\n",
       "      <td>0.471667</td>\n",
       "      <td>0.461667</td>\n",
       "      <td>0.458333</td>\n",
       "      <td>0.461333</td>\n",
       "      <td>0.006000</td>\n",
       "      <td>8</td>\n",
       "    </tr>\n",
       "    <tr>\n",
       "      <th>13</th>\n",
       "      <td>10.582231</td>\n",
       "      <td>0.303980</td>\n",
       "      <td>1.473365</td>\n",
       "      <td>0.034898</td>\n",
       "      <td>15</td>\n",
       "      <td>0.1</td>\n",
       "      <td>rbf</td>\n",
       "      <td>{'C': 15, 'gamma': 0.1, 'kernel': 'rbf'}</td>\n",
       "      <td>0.456667</td>\n",
       "      <td>0.473333</td>\n",
       "      <td>0.466667</td>\n",
       "      <td>0.460000</td>\n",
       "      <td>0.455000</td>\n",
       "      <td>0.462333</td>\n",
       "      <td>0.006799</td>\n",
       "      <td>3</td>\n",
       "    </tr>\n",
       "    <tr>\n",
       "      <th>14</th>\n",
       "      <td>10.498319</td>\n",
       "      <td>0.113638</td>\n",
       "      <td>1.462220</td>\n",
       "      <td>0.011064</td>\n",
       "      <td>15</td>\n",
       "      <td>0.2</td>\n",
       "      <td>rbf</td>\n",
       "      <td>{'C': 15, 'gamma': 0.2, 'kernel': 'rbf'}</td>\n",
       "      <td>0.458333</td>\n",
       "      <td>0.465000</td>\n",
       "      <td>0.473333</td>\n",
       "      <td>0.468333</td>\n",
       "      <td>0.446667</td>\n",
       "      <td>0.462333</td>\n",
       "      <td>0.009226</td>\n",
       "      <td>3</td>\n",
       "    </tr>\n",
       "    <tr>\n",
       "      <th>15</th>\n",
       "      <td>10.965985</td>\n",
       "      <td>0.214939</td>\n",
       "      <td>1.513687</td>\n",
       "      <td>0.013311</td>\n",
       "      <td>15</td>\n",
       "      <td>0.5</td>\n",
       "      <td>rbf</td>\n",
       "      <td>{'C': 15, 'gamma': 0.5, 'kernel': 'rbf'}</td>\n",
       "      <td>0.440000</td>\n",
       "      <td>0.480000</td>\n",
       "      <td>0.475000</td>\n",
       "      <td>0.461667</td>\n",
       "      <td>0.443333</td>\n",
       "      <td>0.460000</td>\n",
       "      <td>0.016159</td>\n",
       "      <td>16</td>\n",
       "    </tr>\n",
       "  </tbody>\n",
       "</table>\n",
       "</div>"
      ],
      "text/plain": [
       "    mean_fit_time  std_fit_time  mean_score_time  std_score_time param_C  \\\n",
       "0       10.319890      0.172071         1.475496        0.023569       8   \n",
       "1       10.419829      0.115479         1.554075        0.151192       8   \n",
       "2       10.896429      0.535251         1.512668        0.077884       8   \n",
       "3       11.638259      0.783711         1.533653        0.027578       8   \n",
       "4       10.289085      0.104853         1.474953        0.015511      10   \n",
       "5       10.496016      0.192512         1.482595        0.012889      10   \n",
       "6       11.015642      0.923417         1.474927        0.043820      10   \n",
       "7       11.106971      0.605930         1.493708        0.024272      10   \n",
       "8       10.280615      0.130879         1.452214        0.019096      12   \n",
       "9       10.625291      0.315965         1.492050        0.038304      12   \n",
       "10      10.727392      0.207798         1.465746        0.020563      12   \n",
       "11      10.838334      0.138512         1.494905        0.016758      12   \n",
       "12      11.036849      1.514841         1.461173        0.032808      15   \n",
       "13      10.582231      0.303980         1.473365        0.034898      15   \n",
       "14      10.498319      0.113638         1.462220        0.011064      15   \n",
       "15      10.965985      0.214939         1.513687        0.013311      15   \n",
       "\n",
       "   param_gamma param_kernel                                     params  \\\n",
       "0         0.08          rbf   {'C': 8, 'gamma': 0.08, 'kernel': 'rbf'}   \n",
       "1          0.1          rbf    {'C': 8, 'gamma': 0.1, 'kernel': 'rbf'}   \n",
       "2          0.2          rbf    {'C': 8, 'gamma': 0.2, 'kernel': 'rbf'}   \n",
       "3          0.5          rbf    {'C': 8, 'gamma': 0.5, 'kernel': 'rbf'}   \n",
       "4         0.08          rbf  {'C': 10, 'gamma': 0.08, 'kernel': 'rbf'}   \n",
       "5          0.1          rbf   {'C': 10, 'gamma': 0.1, 'kernel': 'rbf'}   \n",
       "6          0.2          rbf   {'C': 10, 'gamma': 0.2, 'kernel': 'rbf'}   \n",
       "7          0.5          rbf   {'C': 10, 'gamma': 0.5, 'kernel': 'rbf'}   \n",
       "8         0.08          rbf  {'C': 12, 'gamma': 0.08, 'kernel': 'rbf'}   \n",
       "9          0.1          rbf   {'C': 12, 'gamma': 0.1, 'kernel': 'rbf'}   \n",
       "10         0.2          rbf   {'C': 12, 'gamma': 0.2, 'kernel': 'rbf'}   \n",
       "11         0.5          rbf   {'C': 12, 'gamma': 0.5, 'kernel': 'rbf'}   \n",
       "12        0.08          rbf  {'C': 15, 'gamma': 0.08, 'kernel': 'rbf'}   \n",
       "13         0.1          rbf   {'C': 15, 'gamma': 0.1, 'kernel': 'rbf'}   \n",
       "14         0.2          rbf   {'C': 15, 'gamma': 0.2, 'kernel': 'rbf'}   \n",
       "15         0.5          rbf   {'C': 15, 'gamma': 0.5, 'kernel': 'rbf'}   \n",
       "\n",
       "    split0_test_score  split1_test_score  split2_test_score  \\\n",
       "0            0.465000           0.470000           0.460000   \n",
       "1            0.460000           0.461667           0.463333   \n",
       "2            0.458333           0.475000           0.463333   \n",
       "3            0.446667           0.481667           0.468333   \n",
       "4            0.456667           0.465000           0.461667   \n",
       "5            0.456667           0.478333           0.470000   \n",
       "6            0.453333           0.475000           0.466667   \n",
       "7            0.443333           0.481667           0.473333   \n",
       "8            0.456667           0.476667           0.470000   \n",
       "9            0.456667           0.460000           0.470000   \n",
       "10           0.453333           0.473333           0.473333   \n",
       "11           0.441667           0.480000           0.475000   \n",
       "12           0.453333           0.461667           0.471667   \n",
       "13           0.456667           0.473333           0.466667   \n",
       "14           0.458333           0.465000           0.473333   \n",
       "15           0.440000           0.480000           0.475000   \n",
       "\n",
       "    split3_test_score  split4_test_score  mean_test_score  std_test_score  \\\n",
       "0            0.465000           0.450000         0.462000        0.006782   \n",
       "1            0.461667           0.456667         0.460667        0.002261   \n",
       "2            0.463333           0.451667         0.462333        0.007645   \n",
       "3            0.463333           0.443333         0.460667        0.014166   \n",
       "4            0.461667           0.456667         0.460333        0.003232   \n",
       "5            0.478333           0.458333         0.468333        0.009369   \n",
       "6            0.460000           0.450000         0.461000        0.009043   \n",
       "7            0.463333           0.441667         0.460667        0.015937   \n",
       "8            0.476667           0.456667         0.467333        0.009043   \n",
       "9            0.463333           0.458333         0.461667        0.004714   \n",
       "10           0.461667           0.445000         0.461333        0.011126   \n",
       "11           0.461667           0.445000         0.460667        0.015406   \n",
       "12           0.461667           0.458333         0.461333        0.006000   \n",
       "13           0.460000           0.455000         0.462333        0.006799   \n",
       "14           0.468333           0.446667         0.462333        0.009226   \n",
       "15           0.461667           0.443333         0.460000        0.016159   \n",
       "\n",
       "    rank_test_score  \n",
       "0                 6  \n",
       "1                11  \n",
       "2                 3  \n",
       "3                11  \n",
       "4                15  \n",
       "5                 1  \n",
       "6                10  \n",
       "7                11  \n",
       "8                 2  \n",
       "9                 7  \n",
       "10                8  \n",
       "11               11  \n",
       "12                8  \n",
       "13                3  \n",
       "14                3  \n",
       "15               16  "
      ]
     },
     "execution_count": 201,
     "metadata": {},
     "output_type": "execute_result"
    }
   ],
   "source": [
    "cv_results_table = pd.DataFrame(cv_results['title'][2])\n",
    "cv_results_table.head(16)"
   ]
  },
  {
   "cell_type": "code",
   "execution_count": 202,
   "metadata": {},
   "outputs": [
    {
     "name": "stdout",
     "output_type": "stream",
     "text": [
      "----Logistic Regression-----\n",
      "use_title:  title , max_df:  1.0\n",
      "Fitting 5 folds for each of 8 candidates, totalling 40 fits\n",
      "[CV] C=0.5, solver=newton-cg .........................................\n"
     ]
    },
    {
     "name": "stderr",
     "output_type": "stream",
     "text": [
      "[Parallel(n_jobs=1)]: Using backend SequentialBackend with 1 concurrent workers.\n"
     ]
    },
    {
     "name": "stdout",
     "output_type": "stream",
     "text": [
      "[CV] .......................... C=0.5, solver=newton-cg, total=   0.9s\n",
      "[CV] C=0.5, solver=newton-cg .........................................\n"
     ]
    },
    {
     "name": "stderr",
     "output_type": "stream",
     "text": [
      "[Parallel(n_jobs=1)]: Done   1 out of   1 | elapsed:    0.9s remaining:    0.0s\n"
     ]
    },
    {
     "name": "stdout",
     "output_type": "stream",
     "text": [
      "[CV] .......................... C=0.5, solver=newton-cg, total=   0.7s\n",
      "[CV] C=0.5, solver=newton-cg .........................................\n",
      "[CV] .......................... C=0.5, solver=newton-cg, total=   0.5s\n",
      "[CV] C=0.5, solver=newton-cg .........................................\n",
      "[CV] .......................... C=0.5, solver=newton-cg, total=   0.8s\n",
      "[CV] C=0.5, solver=newton-cg .........................................\n",
      "[CV] .......................... C=0.5, solver=newton-cg, total=   0.6s\n",
      "[CV] C=0.5, solver=sag ...............................................\n",
      "[CV] ................................ C=0.5, solver=sag, total=   2.7s\n",
      "[CV] C=0.5, solver=sag ...............................................\n",
      "[CV] ................................ C=0.5, solver=sag, total=   3.0s\n",
      "[CV] C=0.5, solver=sag ...............................................\n",
      "[CV] ................................ C=0.5, solver=sag, total=   4.5s\n",
      "[CV] C=0.5, solver=sag ...............................................\n",
      "[CV] ................................ C=0.5, solver=sag, total=   6.0s\n",
      "[CV] C=0.5, solver=sag ...............................................\n",
      "[CV] ................................ C=0.5, solver=sag, total=   4.2s\n",
      "[CV] C=1, solver=newton-cg ...........................................\n",
      "[CV] ............................ C=1, solver=newton-cg, total=   0.7s\n",
      "[CV] C=1, solver=newton-cg ...........................................\n",
      "[CV] ............................ C=1, solver=newton-cg, total=   0.6s\n",
      "[CV] C=1, solver=newton-cg ...........................................\n",
      "[CV] ............................ C=1, solver=newton-cg, total=   0.8s\n",
      "[CV] C=1, solver=newton-cg ...........................................\n",
      "[CV] ............................ C=1, solver=newton-cg, total=   0.7s\n",
      "[CV] C=1, solver=newton-cg ...........................................\n",
      "[CV] ............................ C=1, solver=newton-cg, total=   0.8s\n",
      "[CV] C=1, solver=sag .................................................\n",
      "[CV] .................................. C=1, solver=sag, total=   3.5s\n",
      "[CV] C=1, solver=sag .................................................\n",
      "[CV] .................................. C=1, solver=sag, total=   3.3s\n",
      "[CV] C=1, solver=sag .................................................\n",
      "[CV] .................................. C=1, solver=sag, total=   3.2s\n",
      "[CV] C=1, solver=sag .................................................\n",
      "[CV] .................................. C=1, solver=sag, total=   3.4s\n",
      "[CV] C=1, solver=sag .................................................\n",
      "[CV] .................................. C=1, solver=sag, total=   3.8s\n",
      "[CV] C=10, solver=newton-cg ..........................................\n",
      "[CV] ........................... C=10, solver=newton-cg, total=   1.6s\n",
      "[CV] C=10, solver=newton-cg ..........................................\n",
      "[CV] ........................... C=10, solver=newton-cg, total=   1.5s\n",
      "[CV] C=10, solver=newton-cg ..........................................\n",
      "[CV] ........................... C=10, solver=newton-cg, total=   1.9s\n",
      "[CV] C=10, solver=newton-cg ..........................................\n",
      "[CV] ........................... C=10, solver=newton-cg, total=   1.6s\n",
      "[CV] C=10, solver=newton-cg ..........................................\n",
      "[CV] ........................... C=10, solver=newton-cg, total=   1.6s\n",
      "[CV] C=10, solver=sag ................................................\n",
      "[CV] ................................. C=10, solver=sag, total=   9.5s\n",
      "[CV] C=10, solver=sag ................................................\n",
      "[CV] ................................. C=10, solver=sag, total=  10.1s\n",
      "[CV] C=10, solver=sag ................................................\n",
      "[CV] ................................. C=10, solver=sag, total=   9.3s\n",
      "[CV] C=10, solver=sag ................................................\n",
      "[CV] ................................. C=10, solver=sag, total=   9.2s\n",
      "[CV] C=10, solver=sag ................................................\n",
      "[CV] ................................. C=10, solver=sag, total=   9.1s\n",
      "[CV] C=50, solver=newton-cg ..........................................\n",
      "[CV] ........................... C=50, solver=newton-cg, total=   2.0s\n",
      "[CV] C=50, solver=newton-cg ..........................................\n",
      "[CV] ........................... C=50, solver=newton-cg, total=   2.0s\n",
      "[CV] C=50, solver=newton-cg ..........................................\n",
      "[CV] ........................... C=50, solver=newton-cg, total=   1.8s\n",
      "[CV] C=50, solver=newton-cg ..........................................\n",
      "[CV] ........................... C=50, solver=newton-cg, total=   3.1s\n",
      "[CV] C=50, solver=newton-cg ..........................................\n",
      "[CV] ........................... C=50, solver=newton-cg, total=   2.7s\n",
      "[CV] C=50, solver=sag ................................................\n",
      "[CV] ................................. C=50, solver=sag, total=  13.1s\n",
      "[CV] C=50, solver=sag ................................................\n",
      "[CV] ................................. C=50, solver=sag, total=  11.8s\n",
      "[CV] C=50, solver=sag ................................................\n"
     ]
    },
    {
     "name": "stderr",
     "output_type": "stream",
     "text": [
      "/Users/katiebanas/anaconda3/lib/python3.7/site-packages/sklearn/linear_model/sag.py:337: ConvergenceWarning: The max_iter was reached which means the coef_ did not converge\n",
      "  \"the coef_ did not converge\", ConvergenceWarning)\n"
     ]
    },
    {
     "name": "stdout",
     "output_type": "stream",
     "text": [
      "[CV] ................................. C=50, solver=sag, total=  16.0s\n",
      "[CV] C=50, solver=sag ................................................\n",
      "[CV] ................................. C=50, solver=sag, total=  12.5s\n",
      "[CV] C=50, solver=sag ................................................\n",
      "[CV] ................................. C=50, solver=sag, total=  15.6s\n"
     ]
    },
    {
     "name": "stderr",
     "output_type": "stream",
     "text": [
      "[Parallel(n_jobs=1)]: Done  40 out of  40 | elapsed:  3.0min finished\n"
     ]
    },
    {
     "name": "stdout",
     "output_type": "stream",
     "text": [
      "Best parameters:  {'C': 10, 'solver': 'newton-cg'}\n",
      "CV score for each fold (best estimator):  [0.48       0.49333333 0.495      0.48166667 0.46      ]\n",
      "CV score averaged across folds (best estimator):  0.48200000000000004\n",
      "Training accuracy (best estimator):  0.982\n",
      "Test accuracy (best estimator):  0.4866666666666667\n"
     ]
    }
   ],
   "source": [
    "from sklearn.linear_model import LogisticRegression\n",
    "\n",
    "params = {'solver' : ['newton-cg', 'sag'], 'C': [5e-1, 1, 10, 50]}\n",
    "classifier = LogisticRegression(penalty='l2', multi_class='multinomial')\n",
    "print('----Logistic Regression-----')\n",
    "algorithm_comparison.loc[i, 'algorithm'] = 'LogReg'\n",
    "# chose one with highest variance explained by SVD\n",
    "algorithm_score(classifier, params, True, 2, i)\n",
    "i += 1"
   ]
  },
  {
   "cell_type": "code",
   "execution_count": 203,
   "metadata": {},
   "outputs": [
    {
     "name": "stdout",
     "output_type": "stream",
     "text": [
      "----Logistic Regression-----\n",
      "use_title:  title , max_df:  1.0\n",
      "Fitting 5 folds for each of 8 candidates, totalling 40 fits\n",
      "[CV] C=5, solver=newton-cg ...........................................\n"
     ]
    },
    {
     "name": "stderr",
     "output_type": "stream",
     "text": [
      "[Parallel(n_jobs=1)]: Using backend SequentialBackend with 1 concurrent workers.\n"
     ]
    },
    {
     "name": "stdout",
     "output_type": "stream",
     "text": [
      "[CV] ............................ C=5, solver=newton-cg, total=   1.4s\n",
      "[CV] C=5, solver=newton-cg ...........................................\n"
     ]
    },
    {
     "name": "stderr",
     "output_type": "stream",
     "text": [
      "[Parallel(n_jobs=1)]: Done   1 out of   1 | elapsed:    1.4s remaining:    0.0s\n"
     ]
    },
    {
     "name": "stdout",
     "output_type": "stream",
     "text": [
      "[CV] ............................ C=5, solver=newton-cg, total=   1.2s\n",
      "[CV] C=5, solver=newton-cg ...........................................\n",
      "[CV] ............................ C=5, solver=newton-cg, total=   1.2s\n",
      "[CV] C=5, solver=newton-cg ...........................................\n",
      "[CV] ............................ C=5, solver=newton-cg, total=   1.2s\n",
      "[CV] C=5, solver=newton-cg ...........................................\n",
      "[CV] ............................ C=5, solver=newton-cg, total=   1.2s\n",
      "[CV] C=5, solver=sag .................................................\n",
      "[CV] .................................. C=5, solver=sag, total=   6.3s\n",
      "[CV] C=5, solver=sag .................................................\n",
      "[CV] .................................. C=5, solver=sag, total=   5.7s\n",
      "[CV] C=5, solver=sag .................................................\n",
      "[CV] .................................. C=5, solver=sag, total=   6.8s\n",
      "[CV] C=5, solver=sag .................................................\n",
      "[CV] .................................. C=5, solver=sag, total=   6.1s\n",
      "[CV] C=5, solver=sag .................................................\n",
      "[CV] .................................. C=5, solver=sag, total=   6.3s\n",
      "[CV] C=10, solver=newton-cg ..........................................\n",
      "[CV] ........................... C=10, solver=newton-cg, total=   1.5s\n",
      "[CV] C=10, solver=newton-cg ..........................................\n",
      "[CV] ........................... C=10, solver=newton-cg, total=   1.6s\n",
      "[CV] C=10, solver=newton-cg ..........................................\n",
      "[CV] ........................... C=10, solver=newton-cg, total=   1.7s\n",
      "[CV] C=10, solver=newton-cg ..........................................\n",
      "[CV] ........................... C=10, solver=newton-cg, total=   1.6s\n",
      "[CV] C=10, solver=newton-cg ..........................................\n",
      "[CV] ........................... C=10, solver=newton-cg, total=   1.5s\n",
      "[CV] C=10, solver=sag ................................................\n",
      "[CV] ................................. C=10, solver=sag, total=   8.2s\n",
      "[CV] C=10, solver=sag ................................................\n",
      "[CV] ................................. C=10, solver=sag, total=   8.1s\n",
      "[CV] C=10, solver=sag ................................................\n",
      "[CV] ................................. C=10, solver=sag, total=   8.0s\n",
      "[CV] C=10, solver=sag ................................................\n",
      "[CV] ................................. C=10, solver=sag, total=   7.4s\n",
      "[CV] C=10, solver=sag ................................................\n",
      "[CV] ................................. C=10, solver=sag, total=   7.9s\n",
      "[CV] C=15, solver=newton-cg ..........................................\n",
      "[CV] ........................... C=15, solver=newton-cg, total=   1.6s\n",
      "[CV] C=15, solver=newton-cg ..........................................\n",
      "[CV] ........................... C=15, solver=newton-cg, total=   1.8s\n",
      "[CV] C=15, solver=newton-cg ..........................................\n",
      "[CV] ........................... C=15, solver=newton-cg, total=   1.8s\n",
      "[CV] C=15, solver=newton-cg ..........................................\n",
      "[CV] ........................... C=15, solver=newton-cg, total=   1.6s\n",
      "[CV] C=15, solver=newton-cg ..........................................\n",
      "[CV] ........................... C=15, solver=newton-cg, total=   1.7s\n",
      "[CV] C=15, solver=sag ................................................\n",
      "[CV] ................................. C=15, solver=sag, total=   9.1s\n",
      "[CV] C=15, solver=sag ................................................\n",
      "[CV] ................................. C=15, solver=sag, total=   9.2s\n",
      "[CV] C=15, solver=sag ................................................\n",
      "[CV] ................................. C=15, solver=sag, total=   8.1s\n",
      "[CV] C=15, solver=sag ................................................\n",
      "[CV] ................................. C=15, solver=sag, total=   9.7s\n",
      "[CV] C=15, solver=sag ................................................\n",
      "[CV] ................................. C=15, solver=sag, total=   8.6s\n",
      "[CV] C=25, solver=newton-cg ..........................................\n",
      "[CV] ........................... C=25, solver=newton-cg, total=   1.8s\n",
      "[CV] C=25, solver=newton-cg ..........................................\n",
      "[CV] ........................... C=25, solver=newton-cg, total=   1.7s\n",
      "[CV] C=25, solver=newton-cg ..........................................\n",
      "[CV] ........................... C=25, solver=newton-cg, total=   1.7s\n",
      "[CV] C=25, solver=newton-cg ..........................................\n",
      "[CV] ........................... C=25, solver=newton-cg, total=   1.8s\n",
      "[CV] C=25, solver=newton-cg ..........................................\n",
      "[CV] ........................... C=25, solver=newton-cg, total=   1.9s\n",
      "[CV] C=25, solver=sag ................................................\n",
      "[CV] ................................. C=25, solver=sag, total=   8.7s\n",
      "[CV] C=25, solver=sag ................................................\n",
      "[CV] ................................. C=25, solver=sag, total=   9.5s\n",
      "[CV] C=25, solver=sag ................................................\n",
      "[CV] ................................. C=25, solver=sag, total=   8.8s\n",
      "[CV] C=25, solver=sag ................................................\n",
      "[CV] ................................. C=25, solver=sag, total=   9.6s\n",
      "[CV] C=25, solver=sag ................................................\n",
      "[CV] ................................. C=25, solver=sag, total=   9.0s\n"
     ]
    },
    {
     "name": "stderr",
     "output_type": "stream",
     "text": [
      "[Parallel(n_jobs=1)]: Done  40 out of  40 | elapsed:  3.2min finished\n"
     ]
    },
    {
     "name": "stdout",
     "output_type": "stream",
     "text": [
      "Best parameters:  {'C': 5, 'solver': 'sag'}\n",
      "CV score for each fold (best estimator):  [0.48166667 0.50333333 0.5        0.48333333 0.47      ]\n",
      "CV score averaged across folds (best estimator):  0.4876666666666667\n",
      "Training accuracy (best estimator):  0.948\n",
      "Test accuracy (best estimator):  0.49333333333333335\n"
     ]
    }
   ],
   "source": [
    "params = {'solver' : ['newton-cg', 'sag'], 'C': [5, 10, 15, 25]}\n",
    "classifier = LogisticRegression(penalty='l2', multi_class='multinomial')\n",
    "print('----Logistic Regression-----')\n",
    "algorithm_comparison.loc[i, 'algorithm'] = 'LogReg'\n",
    "# chose one with highest variance explained by SVD\n",
    "algorithm_score(classifier, params, True, 2, i)\n",
    "i += 1"
   ]
  },
  {
   "cell_type": "code",
   "execution_count": 204,
   "metadata": {},
   "outputs": [
    {
     "name": "stdout",
     "output_type": "stream",
     "text": [
      "----Logistic Regression-----\n",
      "use_title:  title , max_df:  1.0\n",
      "Fitting 5 folds for each of 14 candidates, totalling 70 fits\n",
      "[CV] C=3, solver=newton-cg ...........................................\n"
     ]
    },
    {
     "name": "stderr",
     "output_type": "stream",
     "text": [
      "[Parallel(n_jobs=1)]: Using backend SequentialBackend with 1 concurrent workers.\n"
     ]
    },
    {
     "name": "stdout",
     "output_type": "stream",
     "text": [
      "[CV] ............................ C=3, solver=newton-cg, total=   1.2s\n",
      "[CV] C=3, solver=newton-cg ...........................................\n"
     ]
    },
    {
     "name": "stderr",
     "output_type": "stream",
     "text": [
      "[Parallel(n_jobs=1)]: Done   1 out of   1 | elapsed:    1.2s remaining:    0.0s\n"
     ]
    },
    {
     "name": "stdout",
     "output_type": "stream",
     "text": [
      "[CV] ............................ C=3, solver=newton-cg, total=   1.0s\n",
      "[CV] C=3, solver=newton-cg ...........................................\n",
      "[CV] ............................ C=3, solver=newton-cg, total=   1.0s\n",
      "[CV] C=3, solver=newton-cg ...........................................\n",
      "[CV] ............................ C=3, solver=newton-cg, total=   1.1s\n",
      "[CV] C=3, solver=newton-cg ...........................................\n",
      "[CV] ............................ C=3, solver=newton-cg, total=   1.0s\n",
      "[CV] C=3, solver=sag .................................................\n",
      "[CV] .................................. C=3, solver=sag, total=   5.4s\n",
      "[CV] C=3, solver=sag .................................................\n",
      "[CV] .................................. C=3, solver=sag, total=   5.1s\n",
      "[CV] C=3, solver=sag .................................................\n",
      "[CV] .................................. C=3, solver=sag, total=   5.1s\n",
      "[CV] C=3, solver=sag .................................................\n",
      "[CV] .................................. C=3, solver=sag, total=   5.6s\n",
      "[CV] C=3, solver=sag .................................................\n",
      "[CV] .................................. C=3, solver=sag, total=   4.8s\n",
      "[CV] C=4, solver=newton-cg ...........................................\n",
      "[CV] ............................ C=4, solver=newton-cg, total=   1.1s\n",
      "[CV] C=4, solver=newton-cg ...........................................\n",
      "[CV] ............................ C=4, solver=newton-cg, total=   1.1s\n",
      "[CV] C=4, solver=newton-cg ...........................................\n",
      "[CV] ............................ C=4, solver=newton-cg, total=   1.1s\n",
      "[CV] C=4, solver=newton-cg ...........................................\n",
      "[CV] ............................ C=4, solver=newton-cg, total=   1.1s\n",
      "[CV] C=4, solver=newton-cg ...........................................\n",
      "[CV] ............................ C=4, solver=newton-cg, total=   1.2s\n",
      "[CV] C=4, solver=sag .................................................\n",
      "[CV] .................................. C=4, solver=sag, total=   5.7s\n",
      "[CV] C=4, solver=sag .................................................\n",
      "[CV] .................................. C=4, solver=sag, total=   5.1s\n",
      "[CV] C=4, solver=sag .................................................\n",
      "[CV] .................................. C=4, solver=sag, total=   6.0s\n",
      "[CV] C=4, solver=sag .................................................\n",
      "[CV] .................................. C=4, solver=sag, total=   5.7s\n",
      "[CV] C=4, solver=sag .................................................\n",
      "[CV] .................................. C=4, solver=sag, total=   6.5s\n",
      "[CV] C=5, solver=newton-cg ...........................................\n",
      "[CV] ............................ C=5, solver=newton-cg, total=   1.2s\n",
      "[CV] C=5, solver=newton-cg ...........................................\n",
      "[CV] ............................ C=5, solver=newton-cg, total=   1.2s\n",
      "[CV] C=5, solver=newton-cg ...........................................\n",
      "[CV] ............................ C=5, solver=newton-cg, total=   1.2s\n",
      "[CV] C=5, solver=newton-cg ...........................................\n",
      "[CV] ............................ C=5, solver=newton-cg, total=   1.2s\n",
      "[CV] C=5, solver=newton-cg ...........................................\n",
      "[CV] ............................ C=5, solver=newton-cg, total=   1.2s\n",
      "[CV] C=5, solver=sag .................................................\n",
      "[CV] .................................. C=5, solver=sag, total=   6.7s\n",
      "[CV] C=5, solver=sag .................................................\n",
      "[CV] .................................. C=5, solver=sag, total=   6.1s\n",
      "[CV] C=5, solver=sag .................................................\n",
      "[CV] .................................. C=5, solver=sag, total=   6.0s\n",
      "[CV] C=5, solver=sag .................................................\n",
      "[CV] .................................. C=5, solver=sag, total=   6.6s\n",
      "[CV] C=5, solver=sag .................................................\n",
      "[CV] .................................. C=5, solver=sag, total=   6.4s\n",
      "[CV] C=6, solver=newton-cg ...........................................\n",
      "[CV] ............................ C=6, solver=newton-cg, total=   1.3s\n",
      "[CV] C=6, solver=newton-cg ...........................................\n",
      "[CV] ............................ C=6, solver=newton-cg, total=   1.3s\n",
      "[CV] C=6, solver=newton-cg ...........................................\n",
      "[CV] ............................ C=6, solver=newton-cg, total=   1.5s\n",
      "[CV] C=6, solver=newton-cg ...........................................\n",
      "[CV] ............................ C=6, solver=newton-cg, total=   1.4s\n",
      "[CV] C=6, solver=newton-cg ...........................................\n",
      "[CV] ............................ C=6, solver=newton-cg, total=   1.5s\n",
      "[CV] C=6, solver=sag .................................................\n",
      "[CV] .................................. C=6, solver=sag, total=   7.0s\n",
      "[CV] C=6, solver=sag .................................................\n",
      "[CV] .................................. C=6, solver=sag, total=   6.8s\n",
      "[CV] C=6, solver=sag .................................................\n",
      "[CV] .................................. C=6, solver=sag, total=   6.8s\n",
      "[CV] C=6, solver=sag .................................................\n",
      "[CV] .................................. C=6, solver=sag, total=   6.8s\n",
      "[CV] C=6, solver=sag .................................................\n",
      "[CV] .................................. C=6, solver=sag, total=   7.2s\n",
      "[CV] C=7, solver=newton-cg ...........................................\n",
      "[CV] ............................ C=7, solver=newton-cg, total=   1.3s\n",
      "[CV] C=7, solver=newton-cg ...........................................\n",
      "[CV] ............................ C=7, solver=newton-cg, total=   1.3s\n",
      "[CV] C=7, solver=newton-cg ...........................................\n",
      "[CV] ............................ C=7, solver=newton-cg, total=   1.4s\n",
      "[CV] C=7, solver=newton-cg ...........................................\n",
      "[CV] ............................ C=7, solver=newton-cg, total=   1.5s\n",
      "[CV] C=7, solver=newton-cg ...........................................\n",
      "[CV] ............................ C=7, solver=newton-cg, total=   1.4s\n",
      "[CV] C=7, solver=sag .................................................\n",
      "[CV] .................................. C=7, solver=sag, total=   7.1s\n",
      "[CV] C=7, solver=sag .................................................\n",
      "[CV] .................................. C=7, solver=sag, total=   8.1s\n",
      "[CV] C=7, solver=sag .................................................\n",
      "[CV] .................................. C=7, solver=sag, total=   7.6s\n",
      "[CV] C=7, solver=sag .................................................\n",
      "[CV] .................................. C=7, solver=sag, total=   7.0s\n",
      "[CV] C=7, solver=sag .................................................\n",
      "[CV] .................................. C=7, solver=sag, total=   7.7s\n",
      "[CV] C=8, solver=newton-cg ...........................................\n",
      "[CV] ............................ C=8, solver=newton-cg, total=   1.4s\n",
      "[CV] C=8, solver=newton-cg ...........................................\n",
      "[CV] ............................ C=8, solver=newton-cg, total=   1.4s\n",
      "[CV] C=8, solver=newton-cg ...........................................\n",
      "[CV] ............................ C=8, solver=newton-cg, total=   1.5s\n",
      "[CV] C=8, solver=newton-cg ...........................................\n",
      "[CV] ............................ C=8, solver=newton-cg, total=   1.4s\n",
      "[CV] C=8, solver=newton-cg ...........................................\n",
      "[CV] ............................ C=8, solver=newton-cg, total=   1.6s\n",
      "[CV] C=8, solver=sag .................................................\n",
      "[CV] .................................. C=8, solver=sag, total=   8.2s\n",
      "[CV] C=8, solver=sag .................................................\n",
      "[CV] .................................. C=8, solver=sag, total=   7.7s\n",
      "[CV] C=8, solver=sag .................................................\n",
      "[CV] .................................. C=8, solver=sag, total=   6.5s\n",
      "[CV] C=8, solver=sag .................................................\n",
      "[CV] .................................. C=8, solver=sag, total=   8.6s\n",
      "[CV] C=8, solver=sag .................................................\n"
     ]
    },
    {
     "name": "stdout",
     "output_type": "stream",
     "text": [
      "[CV] .................................. C=8, solver=sag, total=   8.0s\n",
      "[CV] C=9, solver=newton-cg ...........................................\n",
      "[CV] ............................ C=9, solver=newton-cg, total=   1.6s\n",
      "[CV] C=9, solver=newton-cg ...........................................\n",
      "[CV] ............................ C=9, solver=newton-cg, total=   1.5s\n",
      "[CV] C=9, solver=newton-cg ...........................................\n",
      "[CV] ............................ C=9, solver=newton-cg, total=   1.4s\n",
      "[CV] C=9, solver=newton-cg ...........................................\n",
      "[CV] ............................ C=9, solver=newton-cg, total=   1.7s\n",
      "[CV] C=9, solver=newton-cg ...........................................\n",
      "[CV] ............................ C=9, solver=newton-cg, total=   1.5s\n",
      "[CV] C=9, solver=sag .................................................\n",
      "[CV] .................................. C=9, solver=sag, total=   8.4s\n",
      "[CV] C=9, solver=sag .................................................\n",
      "[CV] .................................. C=9, solver=sag, total=   8.4s\n",
      "[CV] C=9, solver=sag .................................................\n",
      "[CV] .................................. C=9, solver=sag, total=   7.7s\n",
      "[CV] C=9, solver=sag .................................................\n",
      "[CV] .................................. C=9, solver=sag, total=   8.8s\n",
      "[CV] C=9, solver=sag .................................................\n",
      "[CV] .................................. C=9, solver=sag, total=   8.5s\n"
     ]
    },
    {
     "name": "stderr",
     "output_type": "stream",
     "text": [
      "[Parallel(n_jobs=1)]: Done  70 out of  70 | elapsed:  4.8min finished\n"
     ]
    },
    {
     "name": "stdout",
     "output_type": "stream",
     "text": [
      "Best parameters:  {'C': 3, 'solver': 'newton-cg'}\n",
      "CV score for each fold (best estimator):  [0.48833333 0.51666667 0.49       0.47666667 0.47      ]\n",
      "CV score averaged across folds (best estimator):  0.4883333333333333\n",
      "Training accuracy (best estimator):  0.916\n",
      "Test accuracy (best estimator):  0.492\n"
     ]
    }
   ],
   "source": [
    "params = {'solver' : ['newton-cg', 'sag'], 'C': [3, 4, 5, 6, 7, 8, 9]}\n",
    "classifier = LogisticRegression(penalty='l2', multi_class='multinomial')\n",
    "print('----Logistic Regression-----')\n",
    "algorithm_comparison.loc[i, 'algorithm'] = 'LogReg'\n",
    "# chose one with highest variance explained by SVD\n",
    "algorithm_score(classifier, params, True, 2, i)\n",
    "i += 1"
   ]
  },
  {
   "cell_type": "code",
   "execution_count": 205,
   "metadata": {},
   "outputs": [
    {
     "name": "stdout",
     "output_type": "stream",
     "text": [
      "----Logistic Regression-----\n",
      "use_title:  title , max_df:  1.0\n",
      "Fitting 5 folds for each of 12 candidates, totalling 60 fits\n",
      "[CV] C=2, solver=newton-cg ...........................................\n"
     ]
    },
    {
     "name": "stderr",
     "output_type": "stream",
     "text": [
      "[Parallel(n_jobs=1)]: Using backend SequentialBackend with 1 concurrent workers.\n"
     ]
    },
    {
     "name": "stdout",
     "output_type": "stream",
     "text": [
      "[CV] ............................ C=2, solver=newton-cg, total=   1.6s\n",
      "[CV] C=2, solver=newton-cg ...........................................\n"
     ]
    },
    {
     "name": "stderr",
     "output_type": "stream",
     "text": [
      "[Parallel(n_jobs=1)]: Done   1 out of   1 | elapsed:    1.6s remaining:    0.0s\n"
     ]
    },
    {
     "name": "stdout",
     "output_type": "stream",
     "text": [
      "[CV] ............................ C=2, solver=newton-cg, total=   1.3s\n",
      "[CV] C=2, solver=newton-cg ...........................................\n",
      "[CV] ............................ C=2, solver=newton-cg, total=   1.0s\n",
      "[CV] C=2, solver=newton-cg ...........................................\n",
      "[CV] ............................ C=2, solver=newton-cg, total=   1.0s\n",
      "[CV] C=2, solver=newton-cg ...........................................\n",
      "[CV] ............................ C=2, solver=newton-cg, total=   0.9s\n",
      "[CV] C=2, solver=sag .................................................\n",
      "[CV] .................................. C=2, solver=sag, total=   4.2s\n",
      "[CV] C=2, solver=sag .................................................\n",
      "[CV] .................................. C=2, solver=sag, total=   4.2s\n",
      "[CV] C=2, solver=sag .................................................\n",
      "[CV] .................................. C=2, solver=sag, total=   4.5s\n",
      "[CV] C=2, solver=sag .................................................\n",
      "[CV] .................................. C=2, solver=sag, total=   4.0s\n",
      "[CV] C=2, solver=sag .................................................\n",
      "[CV] .................................. C=2, solver=sag, total=   4.9s\n",
      "[CV] C=3, solver=newton-cg ...........................................\n",
      "[CV] ............................ C=3, solver=newton-cg, total=   1.1s\n",
      "[CV] C=3, solver=newton-cg ...........................................\n",
      "[CV] ............................ C=3, solver=newton-cg, total=   0.9s\n",
      "[CV] C=3, solver=newton-cg ...........................................\n",
      "[CV] ............................ C=3, solver=newton-cg, total=   1.0s\n",
      "[CV] C=3, solver=newton-cg ...........................................\n",
      "[CV] ............................ C=3, solver=newton-cg, total=   1.2s\n",
      "[CV] C=3, solver=newton-cg ...........................................\n",
      "[CV] ............................ C=3, solver=newton-cg, total=   1.5s\n",
      "[CV] C=3, solver=sag .................................................\n",
      "[CV] .................................. C=3, solver=sag, total=   5.6s\n",
      "[CV] C=3, solver=sag .................................................\n",
      "[CV] .................................. C=3, solver=sag, total=   5.2s\n",
      "[CV] C=3, solver=sag .................................................\n",
      "[CV] .................................. C=3, solver=sag, total=   5.1s\n",
      "[CV] C=3, solver=sag .................................................\n",
      "[CV] .................................. C=3, solver=sag, total=   5.1s\n",
      "[CV] C=3, solver=sag .................................................\n",
      "[CV] .................................. C=3, solver=sag, total=   6.1s\n",
      "[CV] C=4, solver=newton-cg ...........................................\n",
      "[CV] ............................ C=4, solver=newton-cg, total=   1.2s\n",
      "[CV] C=4, solver=newton-cg ...........................................\n",
      "[CV] ............................ C=4, solver=newton-cg, total=   1.1s\n",
      "[CV] C=4, solver=newton-cg ...........................................\n",
      "[CV] ............................ C=4, solver=newton-cg, total=   1.1s\n",
      "[CV] C=4, solver=newton-cg ...........................................\n",
      "[CV] ............................ C=4, solver=newton-cg, total=   1.2s\n",
      "[CV] C=4, solver=newton-cg ...........................................\n",
      "[CV] ............................ C=4, solver=newton-cg, total=   1.3s\n",
      "[CV] C=4, solver=sag .................................................\n",
      "[CV] .................................. C=4, solver=sag, total=   6.2s\n",
      "[CV] C=4, solver=sag .................................................\n",
      "[CV] .................................. C=4, solver=sag, total=   5.9s\n",
      "[CV] C=4, solver=sag .................................................\n",
      "[CV] .................................. C=4, solver=sag, total=   5.9s\n",
      "[CV] C=4, solver=sag .................................................\n",
      "[CV] .................................. C=4, solver=sag, total=   6.6s\n",
      "[CV] C=4, solver=sag .................................................\n",
      "[CV] .................................. C=4, solver=sag, total=   7.5s\n",
      "[CV] C=5, solver=newton-cg ...........................................\n",
      "[CV] ............................ C=5, solver=newton-cg, total=   1.2s\n",
      "[CV] C=5, solver=newton-cg ...........................................\n",
      "[CV] ............................ C=5, solver=newton-cg, total=   1.2s\n",
      "[CV] C=5, solver=newton-cg ...........................................\n",
      "[CV] ............................ C=5, solver=newton-cg, total=   1.2s\n",
      "[CV] C=5, solver=newton-cg ...........................................\n",
      "[CV] ............................ C=5, solver=newton-cg, total=   1.2s\n",
      "[CV] C=5, solver=newton-cg ...........................................\n",
      "[CV] ............................ C=5, solver=newton-cg, total=   1.2s\n",
      "[CV] C=5, solver=sag .................................................\n",
      "[CV] .................................. C=5, solver=sag, total=   8.1s\n",
      "[CV] C=5, solver=sag .................................................\n",
      "[CV] .................................. C=5, solver=sag, total=   5.9s\n",
      "[CV] C=5, solver=sag .................................................\n",
      "[CV] .................................. C=5, solver=sag, total=   6.1s\n",
      "[CV] C=5, solver=sag .................................................\n",
      "[CV] .................................. C=5, solver=sag, total=   6.0s\n",
      "[CV] C=5, solver=sag .................................................\n",
      "[CV] .................................. C=5, solver=sag, total=   7.4s\n",
      "[CV] C=6, solver=newton-cg ...........................................\n",
      "[CV] ............................ C=6, solver=newton-cg, total=   1.3s\n",
      "[CV] C=6, solver=newton-cg ...........................................\n",
      "[CV] ............................ C=6, solver=newton-cg, total=   1.3s\n",
      "[CV] C=6, solver=newton-cg ...........................................\n",
      "[CV] ............................ C=6, solver=newton-cg, total=   1.3s\n",
      "[CV] C=6, solver=newton-cg ...........................................\n",
      "[CV] ............................ C=6, solver=newton-cg, total=   1.4s\n",
      "[CV] C=6, solver=newton-cg ...........................................\n",
      "[CV] ............................ C=6, solver=newton-cg, total=   1.5s\n",
      "[CV] C=6, solver=sag .................................................\n",
      "[CV] .................................. C=6, solver=sag, total=   7.2s\n",
      "[CV] C=6, solver=sag .................................................\n",
      "[CV] .................................. C=6, solver=sag, total=   7.9s\n",
      "[CV] C=6, solver=sag .................................................\n",
      "[CV] .................................. C=6, solver=sag, total=   6.7s\n",
      "[CV] C=6, solver=sag .................................................\n",
      "[CV] .................................. C=6, solver=sag, total=   7.7s\n",
      "[CV] C=6, solver=sag .................................................\n",
      "[CV] .................................. C=6, solver=sag, total=   8.0s\n",
      "[CV] C=7, solver=newton-cg ...........................................\n",
      "[CV] ............................ C=7, solver=newton-cg, total=   1.8s\n",
      "[CV] C=7, solver=newton-cg ...........................................\n",
      "[CV] ............................ C=7, solver=newton-cg, total=   1.9s\n",
      "[CV] C=7, solver=newton-cg ...........................................\n",
      "[CV] ............................ C=7, solver=newton-cg, total=   1.9s\n",
      "[CV] C=7, solver=newton-cg ...........................................\n",
      "[CV] ............................ C=7, solver=newton-cg, total=   1.4s\n",
      "[CV] C=7, solver=newton-cg ...........................................\n",
      "[CV] ............................ C=7, solver=newton-cg, total=   1.4s\n",
      "[CV] C=7, solver=sag .................................................\n",
      "[CV] .................................. C=7, solver=sag, total=   8.8s\n",
      "[CV] C=7, solver=sag .................................................\n",
      "[CV] .................................. C=7, solver=sag, total=   9.2s\n",
      "[CV] C=7, solver=sag .................................................\n",
      "[CV] .................................. C=7, solver=sag, total=   9.0s\n",
      "[CV] C=7, solver=sag .................................................\n",
      "[CV] .................................. C=7, solver=sag, total=   9.4s\n",
      "[CV] C=7, solver=sag .................................................\n"
     ]
    },
    {
     "name": "stdout",
     "output_type": "stream",
     "text": [
      "[CV] .................................. C=7, solver=sag, total=   8.6s\n"
     ]
    },
    {
     "name": "stderr",
     "output_type": "stream",
     "text": [
      "[Parallel(n_jobs=1)]: Done  60 out of  60 | elapsed:  3.9min finished\n"
     ]
    },
    {
     "name": "stdout",
     "output_type": "stream",
     "text": [
      "Best parameters:  {'C': 2, 'solver': 'newton-cg'}\n",
      "CV score for each fold (best estimator):  [0.48333333 0.52833333 0.48666667 0.49       0.465     ]\n",
      "CV score averaged across folds (best estimator):  0.4906666666666667\n",
      "Training accuracy (best estimator):  0.8783333333333333\n",
      "Test accuracy (best estimator):  0.49333333333333335\n"
     ]
    }
   ],
   "source": [
    "params = {'solver' : ['newton-cg', 'sag'], 'C': [2, 3, 4, 5, 6, 7]}\n",
    "classifier = LogisticRegression(penalty='l2', multi_class='multinomial')\n",
    "print('----Logistic Regression-----')\n",
    "algorithm_comparison.loc[i, 'algorithm'] = 'LogReg'\n",
    "# chose one with highest variance explained by SVD\n",
    "algorithm_score(classifier, params, True, 2, i)\n",
    "i += 1"
   ]
  },
  {
   "cell_type": "code",
   "execution_count": 206,
   "metadata": {},
   "outputs": [
    {
     "name": "stdout",
     "output_type": "stream",
     "text": [
      "----Logistic Regression-----\n",
      "use_title:  title , max_df:  1.0\n",
      "Fitting 5 folds for each of 8 candidates, totalling 40 fits\n",
      "[CV] C=1.5, solver=newton-cg .........................................\n"
     ]
    },
    {
     "name": "stderr",
     "output_type": "stream",
     "text": [
      "[Parallel(n_jobs=1)]: Using backend SequentialBackend with 1 concurrent workers.\n"
     ]
    },
    {
     "name": "stdout",
     "output_type": "stream",
     "text": [
      "[CV] .......................... C=1.5, solver=newton-cg, total=   1.1s\n",
      "[CV] C=1.5, solver=newton-cg .........................................\n"
     ]
    },
    {
     "name": "stderr",
     "output_type": "stream",
     "text": [
      "[Parallel(n_jobs=1)]: Done   1 out of   1 | elapsed:    1.1s remaining:    0.0s\n"
     ]
    },
    {
     "name": "stdout",
     "output_type": "stream",
     "text": [
      "[CV] .......................... C=1.5, solver=newton-cg, total=   1.0s\n",
      "[CV] C=1.5, solver=newton-cg .........................................\n",
      "[CV] .......................... C=1.5, solver=newton-cg, total=   1.0s\n",
      "[CV] C=1.5, solver=newton-cg .........................................\n",
      "[CV] .......................... C=1.5, solver=newton-cg, total=   1.0s\n",
      "[CV] C=1.5, solver=newton-cg .........................................\n",
      "[CV] .......................... C=1.5, solver=newton-cg, total=   1.0s\n",
      "[CV] C=1.5, solver=sag ...............................................\n",
      "[CV] ................................ C=1.5, solver=sag, total=   3.7s\n",
      "[CV] C=1.5, solver=sag ...............................................\n",
      "[CV] ................................ C=1.5, solver=sag, total=   4.2s\n",
      "[CV] C=1.5, solver=sag ...............................................\n",
      "[CV] ................................ C=1.5, solver=sag, total=   3.8s\n",
      "[CV] C=1.5, solver=sag ...............................................\n",
      "[CV] ................................ C=1.5, solver=sag, total=   3.9s\n",
      "[CV] C=1.5, solver=sag ...............................................\n",
      "[CV] ................................ C=1.5, solver=sag, total=   3.6s\n",
      "[CV] C=2.0, solver=newton-cg .........................................\n",
      "[CV] .......................... C=2.0, solver=newton-cg, total=   1.0s\n",
      "[CV] C=2.0, solver=newton-cg .........................................\n",
      "[CV] .......................... C=2.0, solver=newton-cg, total=   1.0s\n",
      "[CV] C=2.0, solver=newton-cg .........................................\n",
      "[CV] .......................... C=2.0, solver=newton-cg, total=   1.0s\n",
      "[CV] C=2.0, solver=newton-cg .........................................\n",
      "[CV] .......................... C=2.0, solver=newton-cg, total=   1.0s\n",
      "[CV] C=2.0, solver=newton-cg .........................................\n",
      "[CV] .......................... C=2.0, solver=newton-cg, total=   0.9s\n",
      "[CV] C=2.0, solver=sag ...............................................\n",
      "[CV] ................................ C=2.0, solver=sag, total=   4.3s\n",
      "[CV] C=2.0, solver=sag ...............................................\n",
      "[CV] ................................ C=2.0, solver=sag, total=   4.2s\n",
      "[CV] C=2.0, solver=sag ...............................................\n",
      "[CV] ................................ C=2.0, solver=sag, total=   5.5s\n",
      "[CV] C=2.0, solver=sag ...............................................\n",
      "[CV] ................................ C=2.0, solver=sag, total=   4.3s\n",
      "[CV] C=2.0, solver=sag ...............................................\n",
      "[CV] ................................ C=2.0, solver=sag, total=   4.5s\n",
      "[CV] C=2.5, solver=newton-cg .........................................\n",
      "[CV] .......................... C=2.5, solver=newton-cg, total=   1.0s\n",
      "[CV] C=2.5, solver=newton-cg .........................................\n",
      "[CV] .......................... C=2.5, solver=newton-cg, total=   0.9s\n",
      "[CV] C=2.5, solver=newton-cg .........................................\n",
      "[CV] .......................... C=2.5, solver=newton-cg, total=   0.9s\n",
      "[CV] C=2.5, solver=newton-cg .........................................\n",
      "[CV] .......................... C=2.5, solver=newton-cg, total=   0.9s\n",
      "[CV] C=2.5, solver=newton-cg .........................................\n",
      "[CV] .......................... C=2.5, solver=newton-cg, total=   0.9s\n",
      "[CV] C=2.5, solver=sag ...............................................\n",
      "[CV] ................................ C=2.5, solver=sag, total=   4.5s\n",
      "[CV] C=2.5, solver=sag ...............................................\n",
      "[CV] ................................ C=2.5, solver=sag, total=   4.8s\n",
      "[CV] C=2.5, solver=sag ...............................................\n",
      "[CV] ................................ C=2.5, solver=sag, total=   4.4s\n",
      "[CV] C=2.5, solver=sag ...............................................\n",
      "[CV] ................................ C=2.5, solver=sag, total=   5.1s\n",
      "[CV] C=2.5, solver=sag ...............................................\n",
      "[CV] ................................ C=2.5, solver=sag, total=   4.3s\n",
      "[CV] C=3.0, solver=newton-cg .........................................\n",
      "[CV] .......................... C=3.0, solver=newton-cg, total=   1.0s\n",
      "[CV] C=3.0, solver=newton-cg .........................................\n",
      "[CV] .......................... C=3.0, solver=newton-cg, total=   0.9s\n",
      "[CV] C=3.0, solver=newton-cg .........................................\n",
      "[CV] .......................... C=3.0, solver=newton-cg, total=   1.0s\n",
      "[CV] C=3.0, solver=newton-cg .........................................\n",
      "[CV] .......................... C=3.0, solver=newton-cg, total=   1.1s\n",
      "[CV] C=3.0, solver=newton-cg .........................................\n",
      "[CV] .......................... C=3.0, solver=newton-cg, total=   1.0s\n",
      "[CV] C=3.0, solver=sag ...............................................\n",
      "[CV] ................................ C=3.0, solver=sag, total=   5.5s\n",
      "[CV] C=3.0, solver=sag ...............................................\n",
      "[CV] ................................ C=3.0, solver=sag, total=   5.0s\n",
      "[CV] C=3.0, solver=sag ...............................................\n",
      "[CV] ................................ C=3.0, solver=sag, total=   5.2s\n",
      "[CV] C=3.0, solver=sag ...............................................\n",
      "[CV] ................................ C=3.0, solver=sag, total=   5.3s\n",
      "[CV] C=3.0, solver=sag ...............................................\n",
      "[CV] ................................ C=3.0, solver=sag, total=   4.8s\n"
     ]
    },
    {
     "name": "stderr",
     "output_type": "stream",
     "text": [
      "[Parallel(n_jobs=1)]: Done  40 out of  40 | elapsed:  1.8min finished\n"
     ]
    },
    {
     "name": "stdout",
     "output_type": "stream",
     "text": [
      "Best parameters:  {'C': 2.0, 'solver': 'newton-cg'}\n",
      "CV score for each fold (best estimator):  [0.48333333 0.52833333 0.48666667 0.49       0.465     ]\n",
      "CV score averaged across folds (best estimator):  0.4906666666666667\n",
      "Training accuracy (best estimator):  0.8783333333333333\n",
      "Test accuracy (best estimator):  0.49333333333333335\n"
     ]
    }
   ],
   "source": [
    "params = {'solver' : ['newton-cg', 'sag'], 'C': [1.5, 2.0, 2.5, 3.]}\n",
    "classifier = LogisticRegression(penalty='l2', multi_class='multinomial')\n",
    "print('----Logistic Regression-----')\n",
    "algorithm_comparison.loc[i, 'algorithm'] = 'LogReg'\n",
    "# chose one with highest variance explained by SVD\n",
    "algorithm_score(classifier, params, True, 2, i)\n",
    "i += 1"
   ]
  },
  {
   "cell_type": "code",
   "execution_count": null,
   "metadata": {},
   "outputs": [],
   "source": []
  }
 ],
 "metadata": {
  "kernelspec": {
   "display_name": "Python 3",
   "language": "python",
   "name": "python3"
  },
  "language_info": {
   "codemirror_mode": {
    "name": "ipython",
    "version": 3
   },
   "file_extension": ".py",
   "mimetype": "text/x-python",
   "name": "python",
   "nbconvert_exporter": "python",
   "pygments_lexer": "ipython3",
   "version": "3.7.3"
  }
 },
 "nbformat": 4,
 "nbformat_minor": 2
}
